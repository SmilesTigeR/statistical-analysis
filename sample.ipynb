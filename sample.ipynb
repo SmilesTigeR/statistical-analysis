{
 "cells": [
  {
   "cell_type": "code",
   "execution_count": 1,
   "metadata": {},
   "outputs": [
    {
     "data": {
      "text/plain": [
       "RendererRegistry.enable('notebook')"
      ]
     },
     "execution_count": 1,
     "metadata": {},
     "output_type": "execute_result"
    }
   ],
   "source": [
    "from library.regression import LinearRegression\n",
    "from library.selection import BackwardSelection\n",
    "from library.selection import ForwardSelection\n",
    "from library.selection import StepwiseSelection\n",
    "from library.selection import Lasso_plot\n",
    "from library.selection import Importance\n",
    "from library.design_matrix import design_matrix\n",
    "import pandas as pd\n",
    "import altair as alt\n",
    "import numpy as np\n",
    "from sklearn.ensemble import RandomForestRegressor\n",
    "alt.renderers.enable('notebook')"
   ]
  },
  {
   "cell_type": "code",
   "execution_count": 2,
   "metadata": {},
   "outputs": [],
   "source": [
    "df = pd.DataFrame({'X1' : [1, 2, 2, 3, 3, 4, 5, 5, 5, 6, 7, 8, 8, 9, 9, 10, 11, 11, 11, 12],\n",
    "                   'X2' : [-1, 2, 2, 2, 2, 7, 7, 8, 8, 8, 3, 4, 4, 5, 6, 9, 10, 10, 11, 12],\n",
    "                   'X1c' : [0, 0, 0, 0, 0, 0, 0, 0, 0, 0, 1, 1, 1, 1, 1, 1, 1, 1, 1, 1],\n",
    "                   'X2c' : [0, 0, 0, 0, 0, 1, 1, 1, 1, 1, 0, 0, 0, 0, 0, 1, 1, 1, 1, 1],\n",
    "                   'y' : [-3, 7, 8, 5, 9, 20, 19, 19, 18, 20, 15, 15, 16, 18, 22, 32, 31, 34, 33, 37]})"
   ]
  },
  {
   "cell_type": "markdown",
   "metadata": {},
   "source": [
    "# **Design Matrix**"
   ]
  },
  {
   "cell_type": "code",
   "execution_count": 3,
   "metadata": {},
   "outputs": [],
   "source": [
    "dm = design_matrix(df, intercept = False, \n",
    "                   category = ['X1c', 'X2c'], \n",
    "                   interaction = [['X1c', 'X2'], ['X1c', 'X2c'], ['X2c', 'X1']])"
   ]
  },
  {
   "cell_type": "code",
   "execution_count": 4,
   "metadata": {},
   "outputs": [
    {
     "data": {
      "text/html": [
       "<div>\n",
       "<style scoped>\n",
       "    .dataframe tbody tr th:only-of-type {\n",
       "        vertical-align: middle;\n",
       "    }\n",
       "\n",
       "    .dataframe tbody tr th {\n",
       "        vertical-align: top;\n",
       "    }\n",
       "\n",
       "    .dataframe thead th {\n",
       "        text-align: right;\n",
       "    }\n",
       "</style>\n",
       "<table border=\"1\" class=\"dataframe\">\n",
       "  <thead>\n",
       "    <tr style=\"text-align: right;\">\n",
       "      <th></th>\n",
       "      <th>X1</th>\n",
       "      <th>X2</th>\n",
       "      <th>y</th>\n",
       "      <th>X1c_0</th>\n",
       "      <th>X2c_0</th>\n",
       "      <th>X1c_0_X2</th>\n",
       "      <th>X1c_0_X2c_0</th>\n",
       "      <th>X2c_0_X1</th>\n",
       "    </tr>\n",
       "  </thead>\n",
       "  <tbody>\n",
       "    <tr>\n",
       "      <th>0</th>\n",
       "      <td>1</td>\n",
       "      <td>-1</td>\n",
       "      <td>-3</td>\n",
       "      <td>1</td>\n",
       "      <td>1</td>\n",
       "      <td>-1</td>\n",
       "      <td>1</td>\n",
       "      <td>1</td>\n",
       "    </tr>\n",
       "    <tr>\n",
       "      <th>1</th>\n",
       "      <td>2</td>\n",
       "      <td>2</td>\n",
       "      <td>7</td>\n",
       "      <td>1</td>\n",
       "      <td>1</td>\n",
       "      <td>2</td>\n",
       "      <td>1</td>\n",
       "      <td>2</td>\n",
       "    </tr>\n",
       "    <tr>\n",
       "      <th>2</th>\n",
       "      <td>2</td>\n",
       "      <td>2</td>\n",
       "      <td>8</td>\n",
       "      <td>1</td>\n",
       "      <td>1</td>\n",
       "      <td>2</td>\n",
       "      <td>1</td>\n",
       "      <td>2</td>\n",
       "    </tr>\n",
       "    <tr>\n",
       "      <th>3</th>\n",
       "      <td>3</td>\n",
       "      <td>2</td>\n",
       "      <td>5</td>\n",
       "      <td>1</td>\n",
       "      <td>1</td>\n",
       "      <td>2</td>\n",
       "      <td>1</td>\n",
       "      <td>3</td>\n",
       "    </tr>\n",
       "    <tr>\n",
       "      <th>4</th>\n",
       "      <td>3</td>\n",
       "      <td>2</td>\n",
       "      <td>9</td>\n",
       "      <td>1</td>\n",
       "      <td>1</td>\n",
       "      <td>2</td>\n",
       "      <td>1</td>\n",
       "      <td>3</td>\n",
       "    </tr>\n",
       "  </tbody>\n",
       "</table>\n",
       "</div>"
      ],
      "text/plain": [
       "   X1  X2  y  X1c_0  X2c_0  X1c_0_X2  X1c_0_X2c_0  X2c_0_X1\n",
       "0   1  -1 -3      1      1        -1            1         1\n",
       "1   2   2  7      1      1         2            1         2\n",
       "2   2   2  8      1      1         2            1         2\n",
       "3   3   2  5      1      1         2            1         3\n",
       "4   3   2  9      1      1         2            1         3"
      ]
     },
     "execution_count": 4,
     "metadata": {},
     "output_type": "execute_result"
    }
   ],
   "source": [
    "dm.head()"
   ]
  },
  {
   "cell_type": "markdown",
   "metadata": {},
   "source": [
    "# **Regression**"
   ]
  },
  {
   "cell_type": "code",
   "execution_count": 5,
   "metadata": {},
   "outputs": [],
   "source": [
    "model = LinearRegression(df)"
   ]
  },
  {
   "cell_type": "code",
   "execution_count": 6,
   "metadata": {},
   "outputs": [
    {
     "data": {
      "text/plain": [
       "<library.regression.LinearRegression at 0x1d60ba8eb70>"
      ]
     },
     "execution_count": 6,
     "metadata": {},
     "output_type": "execute_result"
    }
   ],
   "source": [
    "model.fit(['X1', 'X2', 'X1c', 'X2c'], 'y',\n",
    "          category = ['X1c', 'X2c'], \n",
    "          interaction = [['X1c', 'X2'], ['X1c', 'X2c'], ['X2c', 'X1']], \n",
    "          ascending = False)"
   ]
  },
  {
   "cell_type": "code",
   "execution_count": 7,
   "metadata": {
    "scrolled": true
   },
   "outputs": [
    {
     "name": "stdout",
     "output_type": "stream",
     "text": [
      "Factor                                                 Coefficient         Pr(|t|>0)           VIF            \n",
      "Intercept                                              0.8146              0.7133                             \n",
      "X1                                                     0.1134              0.9265              109.0928       \n",
      "X2                                                     2.9542              0.0045              58.4264        \n",
      "X1c_1                                                  5.2748              0.4130              63.6402        \n",
      "X2c_1                                                  2.0527              0.7640              73.4726        \n",
      "X1c_1_X2                                               -0.6404             0.4533              84.0899        \n",
      "X1c_1_X2c_1                                            14.6574             0.0942              80.2400        \n",
      "X2c_1_X1                                               -1.3373             0.2788              189.3404       \n",
      "------------------------------------------------------------------------------------------------------------------------\n",
      "Source            Sum of Square\n",
      "Total S.S.        2155.7500 \n",
      "Reg S.S.          2119.2820 \n",
      "Res S.S.          36.4680   \n",
      "F-value: 99.62304008790196\n",
      "Pr(F): 1.1265025579021426e-09\n",
      "------------------------------------------------------------------------------------------------------------------------\n",
      "R-squared: 0.9830833732712463\n",
      "Adjusted R-squared: 0.9732153410128066\n",
      "AIC: 28.014067713709164\n",
      "BIC: 35.97992590214109\n",
      " \n"
     ]
    }
   ],
   "source": [
    "model.summary(VIF = True)"
   ]
  },
  {
   "cell_type": "code",
   "execution_count": 8,
   "metadata": {},
   "outputs": [
    {
     "name": "stdout",
     "output_type": "stream",
     "text": [
      "Source              Sum of Square\n",
      "Lack of Fit         22.4680   \n",
      "Pure Error          14.0000   \n",
      "F-value: 1.3373820280066002\n",
      "Pr(Lack of Fit): 0.38360528158363794\n",
      "\n"
     ]
    }
   ],
   "source": [
    "model.lack_of_fit()"
   ]
  },
  {
   "cell_type": "code",
   "execution_count": 9,
   "metadata": {},
   "outputs": [
    {
     "name": "stdout",
     "output_type": "stream",
     "text": [
      "Test statistic: 0.008875053581971229\n",
      "Pr: 0.9264990745694135\n"
     ]
    }
   ],
   "source": [
    "model.hypothesis_testing([{'X1' : 1}], [0])"
   ]
  },
  {
   "cell_type": "code",
   "execution_count": 10,
   "metadata": {},
   "outputs": [
    {
     "data": {
      "text/plain": [
       "array([0.11340206])"
      ]
     },
     "execution_count": 10,
     "metadata": {},
     "output_type": "execute_result"
    }
   ],
   "source": [
    "model.predict([{'X1' : 1}])"
   ]
  },
  {
   "cell_type": "code",
   "execution_count": 11,
   "metadata": {},
   "outputs": [
    {
     "data": {
      "text/plain": [
       "[[-4.549368223969567, 4.776172347690307]]"
      ]
     },
     "execution_count": 11,
     "metadata": {},
     "output_type": "execute_result"
    }
   ],
   "source": [
    "model.predict_interval([{'X1' : 1}])"
   ]
  },
  {
   "cell_type": "code",
   "execution_count": 12,
   "metadata": {},
   "outputs": [
    {
     "data": {
      "text/plain": [
       "[[-2.5360286934930905, 2.7628328172138303]]"
      ]
     },
     "execution_count": 12,
     "metadata": {},
     "output_type": "execute_result"
    }
   ],
   "source": [
    "model.predict_interval([{'X1' : 1}], mode = 'mean')"
   ]
  },
  {
   "cell_type": "code",
   "execution_count": 13,
   "metadata": {},
   "outputs": [
    {
     "data": {
      "application/javascript": [
       "var spec = {\"config\": {\"view\": {\"width\": 400, \"height\": 300}, \"mark\": {\"tooltip\": null}}, \"layer\": [{\"data\": {\"name\": \"data-4bf5cc8a5cf0f7e34c7798ebc9681aba\"}, \"mark\": \"line\", \"encoding\": {\"x\": {\"type\": \"quantitative\", \"field\": \"x\"}, \"y\": {\"type\": \"quantitative\", \"field\": \"y\"}}}, {\"data\": {\"name\": \"data-a33d5fe3d4a7170292026e6e9589d97e\"}, \"mark\": \"point\", \"encoding\": {\"tooltip\": [{\"type\": \"quantitative\", \"field\": \"index\"}], \"x\": {\"type\": \"quantitative\", \"field\": \"quantile\", \"title\": \"Quantile\"}, \"y\": {\"type\": \"quantitative\", \"field\": \"residual\", \"title\": \"Residual\"}}, \"title\": \"Normal plot\"}], \"$schema\": \"https://vega.github.io/schema/vega-lite/v3.4.0.json\", \"datasets\": {\"data-4bf5cc8a5cf0f7e34c7798ebc9681aba\": [{\"x\": -2.0599639845400546, \"y\": -2.765127110696177}, {\"x\": -2.0187647048492536, \"y\": -2.7098245684822535}, {\"x\": -1.9775654251584527, \"y\": -2.6545220262683302}, {\"x\": -1.9363661454676517, \"y\": -2.599219484054407}, {\"x\": -1.8951668657768508, \"y\": -2.5439169418404832}, {\"x\": -1.8539675860860498, \"y\": -2.48861439962656}, {\"x\": -1.8127683063952489, \"y\": -2.4333118574126367}, {\"x\": -1.771569026704448, \"y\": -2.3780093151987134}, {\"x\": -1.730369747013647, \"y\": -2.32270677298479}, {\"x\": -1.689170467322846, \"y\": -2.267404230770867}, {\"x\": -1.647971187632045, \"y\": -2.2121016885569436}, {\"x\": -1.6067719079412441, \"y\": -2.15679914634302}, {\"x\": -1.5655726282504432, \"y\": -2.1014966041290966}, {\"x\": -1.5243733485596422, \"y\": -2.0461940619151733}, {\"x\": -1.4831740688688413, \"y\": -1.99089151970125}, {\"x\": -1.4419747891780403, \"y\": -1.9355889774873267}, {\"x\": -1.4007755094872394, \"y\": -1.8802864352734032}, {\"x\": -1.3595762297964384, \"y\": -1.82498389305948}, {\"x\": -1.3183769501056375, \"y\": -1.7696813508455567}, {\"x\": -1.2771776704148365, \"y\": -1.7143788086316332}, {\"x\": -1.2359783907240356, \"y\": -1.6590762664177099}, {\"x\": -1.1947791110332346, \"y\": -1.6037737242037866}, {\"x\": -1.1535798313424337, \"y\": -1.548471181989863}, {\"x\": -1.1123805516516327, \"y\": -1.4931686397759398}, {\"x\": -1.0711812719608318, \"y\": -1.4378660975620166}, {\"x\": -1.0299819922700308, \"y\": -1.3825635553480933}, {\"x\": -0.9887827125792299, \"y\": -1.3272610131341698}, {\"x\": -0.947583432888429, \"y\": -1.2719584709202465}, {\"x\": -0.906384153197628, \"y\": -1.2166559287063232}, {\"x\": -0.865184873506827, \"y\": -1.1613533864923997}, {\"x\": -0.8239855938160261, \"y\": -1.1060508442784764}, {\"x\": -0.7827863141252251, \"y\": -1.0507483020645532}, {\"x\": -0.7415870344344242, \"y\": -0.9954457598506298}, {\"x\": -0.7003877547436232, \"y\": -0.9401432176367064}, {\"x\": -0.6591884750528223, \"y\": -0.8848406754227831}, {\"x\": -0.6179891953620213, \"y\": -0.8295381332088597}, {\"x\": -0.5767899156712204, \"y\": -0.7742355909949363}, {\"x\": -0.5355906359804194, \"y\": -0.718933048781013}, {\"x\": -0.4943913562896185, \"y\": -0.6636305065670897}, {\"x\": -0.45319207659881755, \"y\": -0.6083279643531664}, {\"x\": -0.4119927969080166, \"y\": -0.553025422139243}, {\"x\": -0.37079351721721565, \"y\": -0.49772287992531966}, {\"x\": -0.3295942375264147, \"y\": -0.4424203377113963}, {\"x\": -0.28839495783561375, \"y\": -0.38711779549747294}, {\"x\": -0.2471956781448128, \"y\": -0.3318152532835496}, {\"x\": -0.20599639845401185, \"y\": -0.27651271106962627}, {\"x\": -0.1647971187632109, \"y\": -0.2212101688557029}, {\"x\": -0.12359783907240995, \"y\": -0.16590762664177958}, {\"x\": -0.082398559381609, \"y\": -0.11060508442785623}, {\"x\": -0.041199279690808055, \"y\": -0.05530254221393288}, {\"x\": -7.105427357601002e-15, \"y\": -9.53774433292904e-15}, {\"x\": 0.041199279690793844, \"y\": 0.055302542213913806}, {\"x\": 0.0823985593815948, \"y\": 0.11060508442783715}, {\"x\": 0.12359783907239574, \"y\": 0.1659076266417605}, {\"x\": 0.1647971187631967, \"y\": 0.22121016885568384}, {\"x\": 0.20599639845399764, \"y\": 0.2765127110696072}, {\"x\": 0.2471956781447986, \"y\": 0.3318152532835305}, {\"x\": 0.28839495783559954, \"y\": 0.3871177954974539}, {\"x\": 0.3295942375264005, \"y\": 0.44242033771137723}, {\"x\": 0.37079351721720144, \"y\": 0.49772287992530057}, {\"x\": 0.4119927969080024, \"y\": 0.5530254221392239}, {\"x\": 0.45319207659880334, \"y\": 0.6083279643531473}, {\"x\": 0.4943913562896043, \"y\": 0.6636305065670706}, {\"x\": 0.5355906359804052, \"y\": 0.718933048780994}, {\"x\": 0.5767899156712062, \"y\": 0.7742355909949173}, {\"x\": 0.6179891953620071, \"y\": 0.8295381332088406}, {\"x\": 0.6591884750528081, \"y\": 0.884840675422764}, {\"x\": 0.700387754743609, \"y\": 0.9401432176366873}, {\"x\": 0.74158703443441, \"y\": 0.9954457598506107}, {\"x\": 0.7827863141252109, \"y\": 1.050748302064534}, {\"x\": 0.8239855938160119, \"y\": 1.1060508442784573}, {\"x\": 0.8651848735068128, \"y\": 1.1613533864923806}, {\"x\": 0.9063841531976138, \"y\": 1.2166559287063041}, {\"x\": 0.9475834328884147, \"y\": 1.2719584709202274}, {\"x\": 0.9887827125792157, \"y\": 1.3272610131341507}, {\"x\": 1.0299819922700166, \"y\": 1.3825635553480742}, {\"x\": 1.0711812719608176, \"y\": 1.4378660975619975}, {\"x\": 1.1123805516516185, \"y\": 1.4931686397759207}, {\"x\": 1.1535798313424195, \"y\": 1.5484711819898442}, {\"x\": 1.1947791110332204, \"y\": 1.6037737242037675}, {\"x\": 1.2359783907240214, \"y\": 1.6590762664176908}, {\"x\": 1.2771776704148223, \"y\": 1.714378808631614}, {\"x\": 1.3183769501056233, \"y\": 1.7696813508455376}, {\"x\": 1.3595762297964242, \"y\": 1.8249838930594608}, {\"x\": 1.4007755094872252, \"y\": 1.8802864352733841}, {\"x\": 1.4419747891780261, \"y\": 1.9355889774873076}, {\"x\": 1.483174068868827, \"y\": 1.990891519701231}, {\"x\": 1.524373348559628, \"y\": 2.046194061915154}, {\"x\": 1.565572628250429, \"y\": 2.1014966041290775}, {\"x\": 1.60677190794123, \"y\": 2.1567991463430007}, {\"x\": 1.6479711876320309, \"y\": 2.2121016885569245}, {\"x\": 1.6891704673228318, \"y\": 2.2674042307708477}, {\"x\": 1.7303697470136328, \"y\": 2.322706772984771}, {\"x\": 1.7715690267044337, \"y\": 2.3780093151986943}, {\"x\": 1.8127683063952347, \"y\": 2.4333118574126176}, {\"x\": 1.8539675860860356, \"y\": 2.488614399626541}, {\"x\": 1.8951668657768366, \"y\": 2.543916941840464}, {\"x\": 1.9363661454676375, \"y\": 2.599219484054388}, {\"x\": 1.9775654251584385, \"y\": 2.654522026268311}, {\"x\": 2.0187647048492394, \"y\": 2.7098245684822344}, {\"x\": 2.0599639845400404, \"y\": 2.7651271106961577}], \"data-a33d5fe3d4a7170292026e6e9589d97e\": [{\"residual\": -2.381698135061356, \"index\": 8, \"quantile\": -1.9599639845400545}, {\"residual\": -2.0632688520806823, \"index\": 3, \"quantile\": -1.4395314709384563}, {\"residual\": -1.7882775396720092, \"index\": 18, \"quantile\": -1.1503493803760079}, {\"residual\": -1.47448164021813, \"index\": 16, \"quantile\": -0.9345892910734802}, {\"residual\": -1.381698135061356, \"index\": 7, \"quantile\": -0.7554150263604693}, {\"residual\": -1.2518012278445667, \"index\": 11, \"quantile\": -0.5977601260424784}, {\"residual\": -0.9737287153907346, \"index\": 0, \"quantile\": -0.45376219016987945}, {\"residual\": -0.6789991891588159, \"index\": 13, \"quantile\": -0.31863936396437514}, {\"residual\": -0.2518012278445667, \"index\": 12, \"quantile\": -0.18911842627279252}, {\"residual\": 0.050133209779687604, \"index\": 1, \"quantile\": -0.06270677794321385}, {\"residual\": 0.6154060002344579, \"index\": 15, \"quantile\": 0.06270677794321385}, {\"residual\": 0.8422101239399353, \"index\": 9, \"quantile\": 0.18911842627279238}, {\"residual\": 1.007204911387305, \"index\": 14, \"quantile\": 0.31863936396437514}, {\"residual\": 1.0501332097796876, \"index\": 2, \"quantile\": 0.45376219016987956}, {\"residual\": 1.121834819875403, \"index\": 19, \"quantile\": 0.5977601260424784}, {\"residual\": 1.1753967334696824, \"index\": 10, \"quantile\": 0.7554150263604693}, {\"residual\": 1.3486389435937554, \"index\": 5, \"quantile\": 0.93458929107348}, {\"residual\": 1.52551835978187, \"index\": 17, \"quantile\": 1.1503493803760079}, {\"residual\": 1.5725472025950467, \"index\": 6, \"quantile\": 1.4395314709384563}, {\"residual\": 1.9367311479193177, \"index\": 4, \"quantile\": 1.959963984540054}]}};\n",
       "var opt = {};\n",
       "var type = \"vega-lite\";\n",
       "var id = \"45cffe01-98dd-4d4e-a0cd-d46592cb6304\";\n",
       "\n",
       "var output_area = this;\n",
       "\n",
       "require([\"nbextensions/jupyter-vega/index\"], function(vega) {\n",
       "  var target = document.createElement(\"div\");\n",
       "  target.id = id;\n",
       "  target.className = \"vega-embed\";\n",
       "\n",
       "  var style = document.createElement(\"style\");\n",
       "  style.textContent = [\n",
       "    \".vega-embed .error p {\",\n",
       "    \"  color: firebrick;\",\n",
       "    \"  font-size: 14px;\",\n",
       "    \"}\",\n",
       "  ].join(\"\\\\n\");\n",
       "\n",
       "  // element is a jQuery wrapped DOM element inside the output area\n",
       "  // see http://ipython.readthedocs.io/en/stable/api/generated/\\\n",
       "  // IPython.display.html#IPython.display.Javascript.__init__\n",
       "  element[0].appendChild(target);\n",
       "  element[0].appendChild(style);\n",
       "\n",
       "  vega.render(\"#\" + id, spec, type, opt, output_area);\n",
       "}, function (err) {\n",
       "  if (err.requireType !== \"scripterror\") {\n",
       "    throw(err);\n",
       "  }\n",
       "});\n"
      ],
      "text/plain": [
       "<vega.vegalite.VegaLite at 0x1d60ba98160>"
      ]
     },
     "metadata": {
      "jupyter-vega": "#45cffe01-98dd-4d4e-a0cd-d46592cb6304"
     },
     "output_type": "display_data"
    },
    {
     "data": {
      "text/plain": []
     },
     "execution_count": 13,
     "metadata": {},
     "output_type": "execute_result"
    },
    {
     "data": {
      "image/png": "[encoded data removed]"
     },
     "metadata": {
      "jupyter-vega": "#45cffe01-98dd-4d4e-a0cd-d46592cb6304"
     },
     "output_type": "display_data"
    }
   ],
   "source": [
    "model.normal_plot()"
   ]
  },
  {
   "cell_type": "code",
   "execution_count": 14,
   "metadata": {},
   "outputs": [
    {
     "data": {
      "application/javascript": [
       "var spec = {\"config\": {\"view\": {\"width\": 400, \"height\": 300}, \"mark\": {\"tooltip\": null}}, \"layer\": [{\"data\": {\"name\": \"data-02b6bf911903453b4592bbbaa43edea7\"}, \"mark\": \"line\", \"encoding\": {\"x\": {\"type\": \"quantitative\", \"field\": \"x\"}, \"y\": {\"type\": \"quantitative\", \"field\": \"y\"}}}, {\"data\": {\"name\": \"data-79eb509610b34d25db95f5ee39174ff4\"}, \"mark\": \"point\", \"encoding\": {\"tooltip\": [{\"type\": \"quantitative\", \"field\": \"index\"}], \"x\": {\"type\": \"quantitative\", \"field\": \"predict\", \"title\": \"Predicted\"}, \"y\": {\"type\": \"quantitative\", \"field\": \"residual\", \"title\": \"Standardised residual\"}}, \"title\": \"Residual plot\"}], \"$schema\": \"https://vega.github.io/schema/vega-lite/v3.4.0.json\", \"datasets\": {\"data-02b6bf911903453b4592bbbaa43edea7\": [{\"x\": -2.1262712846092655, \"y\": 0}, {\"x\": -1.7452269199619268, \"y\": 0}, {\"x\": -1.364182555314588, \"y\": 0}, {\"x\": -0.9831381906672494, \"y\": 0}, {\"x\": -0.6020938260199107, \"y\": 0}, {\"x\": -0.22104946137257198, \"y\": 0}, {\"x\": 0.15999490327476673, \"y\": 0}, {\"x\": 0.5410392679221054, \"y\": 0}, {\"x\": 0.9220836325694441, \"y\": 0}, {\"x\": 1.3031279972167829, \"y\": 0}, {\"x\": 1.6841723618641216, \"y\": 0}, {\"x\": 2.06521672651146, \"y\": 0}, {\"x\": 2.446261091158799, \"y\": 0}, {\"x\": 2.827305455806138, \"y\": 0}, {\"x\": 3.2083498204534764, \"y\": 0}, {\"x\": 3.5893941851008146, \"y\": 0}, {\"x\": 3.970438549748154, \"y\": 0}, {\"x\": 4.351482914395493, \"y\": 0}, {\"x\": 4.732527279042831, \"y\": 0}, {\"x\": 5.11357164369017, \"y\": 0}, {\"x\": 5.494616008337509, \"y\": 0}, {\"x\": 5.875660372984848, \"y\": 0}, {\"x\": 6.256704737632186, \"y\": 0}, {\"x\": 6.637749102279525, \"y\": 0}, {\"x\": 7.018793466926864, \"y\": 0}, {\"x\": 7.399837831574203, \"y\": 0}, {\"x\": 7.780882196221542, \"y\": 0}, {\"x\": 8.16192656086888, \"y\": 0}, {\"x\": 8.542970925516219, \"y\": 0}, {\"x\": 8.924015290163558, \"y\": 0}, {\"x\": 9.305059654810895, \"y\": 0}, {\"x\": 9.686104019458234, \"y\": 0}, {\"x\": 10.067148384105574, \"y\": 0}, {\"x\": 10.448192748752913, \"y\": 0}, {\"x\": 10.829237113400252, \"y\": 0}, {\"x\": 11.21028147804759, \"y\": 0}, {\"x\": 11.591325842694928, \"y\": 0}, {\"x\": 11.972370207342268, \"y\": 0}, {\"x\": 12.353414571989605, \"y\": 0}, {\"x\": 12.734458936636944, \"y\": 0}, {\"x\": 13.115503301284283, \"y\": 0}, {\"x\": 13.496547665931622, \"y\": 0}, {\"x\": 13.877592030578962, \"y\": 0}, {\"x\": 14.258636395226299, \"y\": 0}, {\"x\": 14.639680759873636, \"y\": 0}, {\"x\": 15.020725124520977, \"y\": 0}, {\"x\": 15.401769489168315, \"y\": 0}, {\"x\": 15.782813853815655, \"y\": 0}, {\"x\": 16.16385821846299, \"y\": 0}, {\"x\": 16.54490258311033, \"y\": 0}, {\"x\": 16.92594694775767, \"y\": 0}, {\"x\": 17.306991312405007, \"y\": 0}, {\"x\": 17.688035677052348, \"y\": 0}, {\"x\": 18.069080041699685, \"y\": 0}, {\"x\": 18.450124406347022, \"y\": 0}, {\"x\": 18.831168770994363, \"y\": 0}, {\"x\": 19.2122131356417, \"y\": 0}, {\"x\": 19.593257500289038, \"y\": 0}, {\"x\": 19.97430186493638, \"y\": 0}, {\"x\": 20.355346229583716, \"y\": 0}, {\"x\": 20.736390594231054, \"y\": 0}, {\"x\": 21.117434958878395, \"y\": 0}, {\"x\": 21.498479323525732, \"y\": 0}, {\"x\": 21.879523688173073, \"y\": 0}, {\"x\": 22.26056805282041, \"y\": 0}, {\"x\": 22.641612417467748, \"y\": 0}, {\"x\": 23.02265678211509, \"y\": 0}, {\"x\": 23.403701146762426, \"y\": 0}, {\"x\": 23.784745511409767, \"y\": 0}, {\"x\": 24.165789876057104, \"y\": 0}, {\"x\": 24.54683424070444, \"y\": 0}, {\"x\": 24.927878605351783, \"y\": 0}, {\"x\": 25.30892296999912, \"y\": 0}, {\"x\": 25.689967334646457, \"y\": 0}, {\"x\": 26.0710116992938, \"y\": 0}, {\"x\": 26.452056063941136, \"y\": 0}, {\"x\": 26.833100428588473, \"y\": 0}, {\"x\": 27.214144793235814, \"y\": 0}, {\"x\": 27.59518915788315, \"y\": 0}, {\"x\": 27.976233522530492, \"y\": 0}, {\"x\": 28.35727788717783, \"y\": 0}, {\"x\": 28.738322251825167, \"y\": 0}, {\"x\": 29.119366616472508, \"y\": 0}, {\"x\": 29.500410981119845, \"y\": 0}, {\"x\": 29.881455345767186, \"y\": 0}, {\"x\": 30.262499710414524, \"y\": 0}, {\"x\": 30.64354407506186, \"y\": 0}, {\"x\": 31.0245884397092, \"y\": 0}, {\"x\": 31.405632804356536, \"y\": 0}, {\"x\": 31.78667716900388, \"y\": 0}, {\"x\": 32.16772153365122, \"y\": 0}, {\"x\": 32.548765898298555, \"y\": 0}, {\"x\": 32.92981026294589, \"y\": 0}, {\"x\": 33.31085462759323, \"y\": 0}, {\"x\": 33.691898992240574, \"y\": 0}, {\"x\": 34.07294335688791, \"y\": 0}, {\"x\": 34.45398772153525, \"y\": 0}, {\"x\": 34.835032086182586, \"y\": 0}, {\"x\": 35.216076450829924, \"y\": 0}, {\"x\": 35.59712081547727, \"y\": 0}], \"data-79eb509610b34d25db95f5ee39174ff4\": [{\"residual\": -0.7028436046170482, \"predict\": -2.0262712846092654, \"index\": 0}, {\"residual\": 0.03618647094990824, \"predict\": 6.949866790220312, \"index\": 1}, {\"residual\": 0.7579928565559992, \"predict\": 6.949866790220312, \"index\": 2}, {\"residual\": -1.4892806326539856, \"predict\": 7.063268852080682, \"index\": 3}, {\"residual\": 1.3979449097703782, \"predict\": 7.063268852080682, \"index\": 4}, {\"residual\": 0.9734562013630254, \"predict\": 18.651361056406245, \"index\": 5}, {\"residual\": 1.1350746125000999, \"predict\": 17.427452797404953, \"index\": 6}, {\"residual\": -0.9973185368673139, \"predict\": 20.381698135061356, \"index\": 7}, {\"residual\": -1.7191249224734049, \"predict\": 20.381698135061356, \"index\": 8}, {\"residual\": 0.6079126454819426, \"predict\": 19.157789876060065, \"index\": 9}, {\"residual\": 0.8484088678389573, \"predict\": 13.824603266530318, \"index\": 10}, {\"residual\": -0.9035581197677535, \"predict\": 16.251801227844567, \"index\": 11}, {\"residual\": -0.1817517341616625, \"predict\": 16.251801227844567, \"index\": 12}, {\"residual\": -0.4901059505561913, \"predict\": 18.678999189158816, \"index\": 13}, {\"residual\": 0.7270069366531737, \"predict\": 20.992795088612695, \"index\": 14}, {\"residual\": 0.4442039807095352, \"predict\": 31.384593999765542, \"index\": 15}, {\"residual\": -1.064290263368389, \"predict\": 32.47448164021813, \"index\": 16}, {\"residual\": 1.1011288934498837, \"predict\": 32.47448164021813, \"index\": 17}, {\"residual\": -1.2907901473712058, \"predict\": 34.78827753967201, \"index\": 18}, {\"residual\": 0.8097475365813247, \"predict\": 35.8781651801246, \"index\": 19}]}};\n",
       "var opt = {};\n",
       "var type = \"vega-lite\";\n",
       "var id = \"a19e51ff-8864-4a37-a1bb-6e2424fc60a8\";\n",
       "\n",
       "var output_area = this;\n",
       "\n",
       "require([\"nbextensions/jupyter-vega/index\"], function(vega) {\n",
       "  var target = document.createElement(\"div\");\n",
       "  target.id = id;\n",
       "  target.className = \"vega-embed\";\n",
       "\n",
       "  var style = document.createElement(\"style\");\n",
       "  style.textContent = [\n",
       "    \".vega-embed .error p {\",\n",
       "    \"  color: firebrick;\",\n",
       "    \"  font-size: 14px;\",\n",
       "    \"}\",\n",
       "  ].join(\"\\\\n\");\n",
       "\n",
       "  // element is a jQuery wrapped DOM element inside the output area\n",
       "  // see http://ipython.readthedocs.io/en/stable/api/generated/\\\n",
       "  // IPython.display.html#IPython.display.Javascript.__init__\n",
       "  element[0].appendChild(target);\n",
       "  element[0].appendChild(style);\n",
       "\n",
       "  vega.render(\"#\" + id, spec, type, opt, output_area);\n",
       "}, function (err) {\n",
       "  if (err.requireType !== \"scripterror\") {\n",
       "    throw(err);\n",
       "  }\n",
       "});\n"
      ],
      "text/plain": [
       "<vega.vegalite.VegaLite at 0x1d60bdcfc18>"
      ]
     },
     "metadata": {
      "jupyter-vega": "#a19e51ff-8864-4a37-a1bb-6e2424fc60a8"
     },
     "output_type": "display_data"
    },
    {
     "data": {
      "text/plain": []
     },
     "execution_count": 14,
     "metadata": {},
     "output_type": "execute_result"
    },
    {
     "data": {
      "image/png": "[encoded data removed]"
     },
     "metadata": {
      "jupyter-vega": "#a19e51ff-8864-4a37-a1bb-6e2424fc60a8"
     },
     "output_type": "display_data"
    }
   ],
   "source": [
    "model.residual_plot()"
   ]
  },
  {
   "cell_type": "code",
   "execution_count": 15,
   "metadata": {},
   "outputs": [
    {
     "data": {
      "text/plain": [
       "array([-0.97372872,  0.05013321,  1.05013321, -2.06326885,  1.93673115,\n",
       "        1.34863894,  1.5725472 , -1.38169814, -2.38169814,  0.84221012,\n",
       "        1.17539673, -1.25180123, -0.25180123, -0.67899919,  1.00720491,\n",
       "        0.615406  , -1.47448164,  1.52551836, -1.78827754,  1.12183482])"
      ]
     },
     "execution_count": 15,
     "metadata": {},
     "output_type": "execute_result"
    }
   ],
   "source": [
    "model.residual()"
   ]
  },
  {
   "cell_type": "code",
   "execution_count": 16,
   "metadata": {},
   "outputs": [
    {
     "data": {
      "text/plain": [
       "array([[ 4.68792296e+00, -2.20092635e+00,  5.44225220e-01,\n",
       "         8.86168333e+00, -4.31023910e+00,  4.78045181e-01,\n",
       "        -9.94062919e+00,  1.29816724e+00],\n",
       "       [-2.20092635e+00,  1.44900845e+00, -7.04923030e-01,\n",
       "        -6.57928161e+00,  4.03372623e+00,  2.01015884e-15,\n",
       "         4.32352792e+00, -7.44085420e-01],\n",
       "       [ 5.44225220e-01, -7.04923030e-01,  7.19003889e-01,\n",
       "         3.57495422e+00, -3.69411350e+00, -3.41460843e-01,\n",
       "         7.40477200e-01,  2.42014773e-01],\n",
       "       [ 8.86168333e+00, -6.57928161e+00,  3.57495422e+00,\n",
       "         3.86805083e+01, -2.55833377e+01, -1.98047289e+00,\n",
       "        -1.55558648e+01,  4.48968206e+00],\n",
       "       [-4.31023910e+00,  4.03372623e+00, -3.69411350e+00,\n",
       "        -2.55833377e+01,  4.46566539e+01,  2.97070934e+00,\n",
       "         1.84197004e+01, -6.36639662e+00],\n",
       "       [ 4.78045181e-01,  2.21231715e-14, -3.41460843e-01,\n",
       "        -1.98047289e+00,  2.97070934e+00,  6.82921687e-01,\n",
       "        -3.14143976e+00, -1.70730422e-01],\n",
       "       [-9.94062919e+00,  4.32352792e+00,  7.40477200e-01,\n",
       "        -1.55558648e+01,  1.84197004e+01, -3.14143976e+00,\n",
       "         6.50265005e+01, -7.26642756e+00],\n",
       "       [ 1.29816724e+00, -7.44085420e-01,  2.42014773e-01,\n",
       "         4.48968206e+00, -6.36639662e+00, -1.70730422e-01,\n",
       "        -7.26642756e+00,  1.38986884e+00]])"
      ]
     },
     "execution_count": 16,
     "metadata": {},
     "output_type": "execute_result"
    }
   ],
   "source": [
    "model.std"
   ]
  },
  {
   "cell_type": "code",
   "execution_count": 17,
   "metadata": {},
   "outputs": [
    {
     "data": {
      "text/plain": [
       "109.09278350570132"
      ]
     },
     "execution_count": 17,
     "metadata": {},
     "output_type": "execute_result"
    }
   ],
   "source": [
    "model.vif('X1')"
   ]
  },
  {
   "cell_type": "markdown",
   "metadata": {},
   "source": [
    "# **Selection**"
   ]
  },
  {
   "cell_type": "code",
   "execution_count": 18,
   "metadata": {},
   "outputs": [
    {
     "name": "stdout",
     "output_type": "stream",
     "text": [
      "Variable in model: X1, X2, X1c_0, X2c_0, X1c_0_X2, X1c_0_X2c_0, X2c_0_X1\n",
      "Variable Removed                                       Res S.S. before Removal            Res S.S. after Removal\n",
      "X1c_0_X2                                               36.4680                            38.2933        \n",
      "Test Statistic: 0.600618622615236\n",
      "p-value: 0.4533433868361547\n",
      "Decision: Remove\n",
      "------------------------------------------------------------------------------------------------------------------------\n",
      "Variable in model: X1, X2, X1c_0, X2c_0, X1c_0_X2c_0, X2c_0_X1\n",
      "Variable Removed                                       Res S.S. before Removal            Res S.S. after Removal\n",
      "X1                                                     38.2933                            42.7437        \n",
      "Test Statistic: 1.5108485933894975\n",
      "p-value: 0.2407943622422264\n",
      "Decision: Remove\n",
      "------------------------------------------------------------------------------------------------------------------------\n",
      "Variable in model: X2, X1c_0, X2c_0, X1c_0_X2c_0, X2c_0_X1\n",
      "Variable Removed                                       Res S.S. before Removal            Res S.S. after Removal\n",
      "X2c_0_X1                                               42.7437                            44.8426        \n",
      "Test Statistic: 0.6874407219234137\n",
      "p-value: 0.4209482969168121\n",
      "Decision: Remove\n",
      "------------------------------------------------------------------------------------------------------------------------\n",
      "Variable in model: X2, X1c_0, X2c_0, X1c_0_X2c_0\n",
      "Variable Removed                                       Res S.S. before Removal            Res S.S. after Removal\n",
      "X2c_0                                                  44.8426                            46.4055        \n",
      "Test Statistic: 0.5228164109594058\n",
      "p-value: 0.4807663281984419\n",
      "Decision: Remove\n",
      "------------------------------------------------------------------------------------------------------------------------\n",
      "Variable in model: X2, X1c_0, X1c_0_X2c_0\n",
      "Variable Removed                                       Res S.S. before Removal            Res S.S. after Removal\n",
      "X1c_0_X2c_0                                            46.4055                            54.0541        \n",
      "Test Statistic: 2.63713804034504\n",
      "p-value: 0.12392565587291005\n",
      "Decision: Remove\n",
      "------------------------------------------------------------------------------------------------------------------------\n",
      "Variable in model: X2, X1c_0\n",
      "Variable Removed                                       Res S.S. before Removal            Res S.S. after Removal\n",
      "X1c_0                                                  54.0541                            201.1942       \n",
      "Test Statistic: 46.27548427144227\n",
      "p-value: 3.0798272840915075e-06\n",
      "Decision: Do not remove\n",
      "------------------------------------------------------------------------------------------------------------------------\n"
     ]
    }
   ],
   "source": [
    "BackwardSelection(dm, ['X1', 'X2', 'X1c_0', 'X2c_0', 'X1c_0_X2', 'X1c_0_X2c_0', 'X2c_0_X1'], 'y')"
   ]
  },
  {
   "cell_type": "code",
   "execution_count": 19,
   "metadata": {},
   "outputs": [
    {
     "name": "stdout",
     "output_type": "stream",
     "text": [
      "Variable in model: \n",
      "Variable Entered                                       Res S.S. before Entered            Res S.S. after Entered\n",
      "X2                                                     2155.7500                          201.1942       \n",
      "Test Statistic: 174.8659275755904\n",
      "p-value: 1.0411016493350189e-10\n",
      "Decision: Enter\n",
      "------------------------------------------------------------------------------------------------------------------------\n",
      "Variable in model: X2\n",
      "Variable Entered                                       Res S.S. before Entered            Res S.S. after Entered\n",
      "X1c_0                                                  201.1942                           54.0541        \n",
      "Test Statistic: 46.27548427144227\n",
      "p-value: 3.0798272840915075e-06\n",
      "Decision: Enter\n",
      "------------------------------------------------------------------------------------------------------------------------\n",
      "Variable in model: X2, X1c_0\n",
      "Variable Entered                                       Res S.S. before Entered            Res S.S. after Entered\n",
      "X1c_0_X2c_0                                            54.0541                            46.4055        \n",
      "Test Statistic: 2.63713804034504\n",
      "p-value: 0.12392565587291005\n",
      "Decision: Do not enter\n",
      "------------------------------------------------------------------------------------------------------------------------\n"
     ]
    }
   ],
   "source": [
    "ForwardSelection(dm, ['X1', 'X2', 'X1c_0', 'X2c_0', 'X1c_0_X2', 'X1c_0_X2c_0', 'X2c_0_X1'], 'y')"
   ]
  },
  {
   "cell_type": "code",
   "execution_count": 20,
   "metadata": {},
   "outputs": [
    {
     "name": "stdout",
     "output_type": "stream",
     "text": [
      "Variable in model: \n",
      "Variable Entered                                       Res S.S. before Entered            Res S.S. after Entered\n",
      "X2                                                     2155.7500                          201.1942       \n",
      "Test Statistic: 174.8659275755904\n",
      "p-value: 1.0411016493350189e-10\n",
      "Decision: Enter\n",
      "------------------------------------------------------------------------------------------------------------------------\n",
      "Variable in model: X2\n",
      "Variable Entered                                       Res S.S. before Entered            Res S.S. after Entered\n",
      "X1c_0                                                  201.1942                           54.0541        \n",
      "Test Statistic: 46.27548427144227\n",
      "p-value: 3.0798272840915075e-06\n",
      "Decision: Enter\n",
      "------------------------------------------------------------------------------------------------------------------------\n",
      "Variable in model: X2, X1c_0\n",
      "Variable Removed                                       Res S.S. before Removal            Res S.S. after Removal\n",
      "X1c_0                                                  54.0541                            201.1942       \n",
      "Test Statistic: 46.27548427144227\n",
      "p-value: 3.0798272840915075e-06\n",
      "Decision: Do not remove\n",
      "------------------------------------------------------------------------------------------------------------------------\n",
      "Variable in model: X2, X1c_0\n",
      "Variable Entered                                       Res S.S. before Entered            Res S.S. after Entered\n",
      "X1c_0_X2c_0                                            54.0541                            46.4055        \n",
      "Test Statistic: 2.63713804034504\n",
      "p-value: 0.12392565587291005\n",
      "Decision: Do not enter\n",
      "------------------------------------------------------------------------------------------------------------------------\n"
     ]
    }
   ],
   "source": [
    "StepwiseSelection(dm, ['X1', 'X2', 'X1c_0', 'X2c_0', 'X1c_0_X2', 'X1c_0_X2c_0', 'X2c_0_X1'], 'y')"
   ]
  },
  {
   "cell_type": "code",
   "execution_count": 24,
   "metadata": {
    "scrolled": true
   },
   "outputs": [
    {
     "name": "stderr",
     "output_type": "stream",
     "text": [
      "C:\\Users\\imchtong\\AppData\\Local\\Continuum\\anaconda3\\lib\\site-packages\\sklearn\\linear_model\\coordinate_descent.py:475: ConvergenceWarning: Objective did not converge. You might want to increase the number of iterations. Duality gap: 11.641728325447865, tolerance: 0.16609333333333334\n",
      "  positive)\n",
      "C:\\Users\\imchtong\\AppData\\Local\\Continuum\\anaconda3\\lib\\site-packages\\sklearn\\linear_model\\coordinate_descent.py:475: ConvergenceWarning: Objective did not converge. You might want to increase the number of iterations. Duality gap: 11.295312408111515, tolerance: 0.16609333333333334\n",
      "  positive)\n",
      "C:\\Users\\imchtong\\AppData\\Local\\Continuum\\anaconda3\\lib\\site-packages\\sklearn\\linear_model\\coordinate_descent.py:475: ConvergenceWarning: Objective did not converge. You might want to increase the number of iterations. Duality gap: 10.803689770041746, tolerance: 0.16609333333333334\n",
      "  positive)\n",
      "C:\\Users\\imchtong\\AppData\\Local\\Continuum\\anaconda3\\lib\\site-packages\\sklearn\\linear_model\\coordinate_descent.py:475: ConvergenceWarning: Objective did not converge. You might want to increase the number of iterations. Duality gap: 10.097936590903412, tolerance: 0.16609333333333334\n",
      "  positive)\n",
      "C:\\Users\\imchtong\\AppData\\Local\\Continuum\\anaconda3\\lib\\site-packages\\sklearn\\linear_model\\coordinate_descent.py:475: ConvergenceWarning: Objective did not converge. You might want to increase the number of iterations. Duality gap: 9.070022867112865, tolerance: 0.16609333333333334\n",
      "  positive)\n",
      "C:\\Users\\imchtong\\AppData\\Local\\Continuum\\anaconda3\\lib\\site-packages\\sklearn\\linear_model\\coordinate_descent.py:475: ConvergenceWarning: Objective did not converge. You might want to increase the number of iterations. Duality gap: 7.547101722214556, tolerance: 0.16609333333333334\n",
      "  positive)\n",
      "C:\\Users\\imchtong\\AppData\\Local\\Continuum\\anaconda3\\lib\\site-packages\\sklearn\\linear_model\\coordinate_descent.py:475: ConvergenceWarning: Objective did not converge. You might want to increase the number of iterations. Duality gap: 6.056321853569516, tolerance: 0.16609333333333334\n",
      "  positive)\n",
      "C:\\Users\\imchtong\\AppData\\Local\\Continuum\\anaconda3\\lib\\site-packages\\sklearn\\linear_model\\coordinate_descent.py:475: ConvergenceWarning: Objective did not converge. You might want to increase the number of iterations. Duality gap: 4.850685408250092, tolerance: 0.16609333333333334\n",
      "  positive)\n",
      "C:\\Users\\imchtong\\AppData\\Local\\Continuum\\anaconda3\\lib\\site-packages\\sklearn\\linear_model\\coordinate_descent.py:475: ConvergenceWarning: Objective did not converge. You might want to increase the number of iterations. Duality gap: 3.687655297387135, tolerance: 0.16609333333333334\n",
      "  positive)\n",
      "C:\\Users\\imchtong\\AppData\\Local\\Continuum\\anaconda3\\lib\\site-packages\\sklearn\\linear_model\\coordinate_descent.py:475: ConvergenceWarning: Objective did not converge. You might want to increase the number of iterations. Duality gap: 2.6459021396176716, tolerance: 0.16609333333333334\n",
      "  positive)\n",
      "C:\\Users\\imchtong\\AppData\\Local\\Continuum\\anaconda3\\lib\\site-packages\\sklearn\\linear_model\\coordinate_descent.py:475: ConvergenceWarning: Objective did not converge. You might want to increase the number of iterations. Duality gap: 1.7780711163938214, tolerance: 0.16609333333333334\n",
      "  positive)\n",
      "C:\\Users\\imchtong\\AppData\\Local\\Continuum\\anaconda3\\lib\\site-packages\\sklearn\\linear_model\\coordinate_descent.py:475: ConvergenceWarning: Objective did not converge. You might want to increase the number of iterations. Duality gap: 1.0954301942701292, tolerance: 0.16609333333333334\n",
      "  positive)\n",
      "C:\\Users\\imchtong\\AppData\\Local\\Continuum\\anaconda3\\lib\\site-packages\\sklearn\\linear_model\\coordinate_descent.py:475: ConvergenceWarning: Objective did not converge. You might want to increase the number of iterations. Duality gap: 0.5651689180217367, tolerance: 0.16609333333333334\n",
      "  positive)\n"
     ]
    },
    {
     "data": {
      "image/png": "[encoded data removed]",
      "text/plain": [
       "<Figure size 1080x576 with 1 Axes>"
      ]
     },
     "metadata": {
      "needs_background": "light"
     },
     "output_type": "display_data"
    }
   ],
   "source": [
    "Lasso_plot(dm.drop('y', axis = 1), dm['y'])"
   ]
  },
  {
   "cell_type": "code",
   "execution_count": 22,
   "metadata": {},
   "outputs": [],
   "source": [
    "df['X1c'] = df['X1c'].astype('category')\n",
    "df['X2c'] = df['X2c'].astype('category')"
   ]
  },
  {
   "cell_type": "code",
   "execution_count": 23,
   "metadata": {},
   "outputs": [
    {
     "data": {
      "text/html": [
       "<div>\n",
       "<style scoped>\n",
       "    .dataframe tbody tr th:only-of-type {\n",
       "        vertical-align: middle;\n",
       "    }\n",
       "\n",
       "    .dataframe tbody tr th {\n",
       "        vertical-align: top;\n",
       "    }\n",
       "\n",
       "    .dataframe thead th {\n",
       "        text-align: right;\n",
       "    }\n",
       "</style>\n",
       "<table border=\"1\" class=\"dataframe\">\n",
       "  <thead>\n",
       "    <tr style=\"text-align: right;\">\n",
       "      <th></th>\n",
       "      <th>Features</th>\n",
       "      <th>Importance</th>\n",
       "    </tr>\n",
       "  </thead>\n",
       "  <tbody>\n",
       "    <tr>\n",
       "      <th>1</th>\n",
       "      <td>X2</td>\n",
       "      <td>0.542385</td>\n",
       "    </tr>\n",
       "    <tr>\n",
       "      <th>0</th>\n",
       "      <td>X1</td>\n",
       "      <td>0.438809</td>\n",
       "    </tr>\n",
       "    <tr>\n",
       "      <th>3</th>\n",
       "      <td>X2c</td>\n",
       "      <td>0.014788</td>\n",
       "    </tr>\n",
       "    <tr>\n",
       "      <th>2</th>\n",
       "      <td>X1c</td>\n",
       "      <td>0.004018</td>\n",
       "    </tr>\n",
       "  </tbody>\n",
       "</table>\n",
       "</div>"
      ],
      "text/plain": [
       "  Features  Importance\n",
       "1       X2    0.542385\n",
       "0       X1    0.438809\n",
       "3      X2c    0.014788\n",
       "2      X1c    0.004018"
      ]
     },
     "execution_count": 23,
     "metadata": {},
     "output_type": "execute_result"
    }
   ],
   "source": [
    "Importance(df, ['X1', 'X2', 'X1c', 'X2c'], 'y',category = ['X1c', 'X2c'])"
   ]
  }
 ],
 "metadata": {
  "kernelspec": {
   "display_name": "Python 3",
   "language": "python",
   "name": "python3"
  },
  "language_info": {
   "codemirror_mode": {
    "name": "ipython",
    "version": 3
   },
   "file_extension": ".py",
   "mimetype": "text/x-python",
   "name": "python",
   "nbconvert_exporter": "python",
   "pygments_lexer": "ipython3",
   "version": "3.7.3"
  }
 },
 "nbformat": 4,
 "nbformat_minor": 2
}
