{
 "cells": [
  {
   "cell_type": "code",
   "execution_count": 1,
   "metadata": {},
   "outputs": [
    {
     "data": {
      "text/plain": [
       "RendererRegistry.enable('notebook')"
      ]
     },
     "execution_count": 1,
     "metadata": {},
     "output_type": "execute_result"
    }
   ],
   "source": [
    "from library.regression import LinearRegression\n",
    "from library.selection import BackwardSelection\n",
    "from library.selection import ForwardSelection\n",
    "from library.selection import StepwiseSelection\n",
    "from library.selection import Lasso_plot\n",
    "from library.selection import Importance\n",
    "from library.design_matrix import design_matrix\n",
    "import pandas as pd\n",
    "import altair as alt\n",
    "import numpy as np\n",
    "from sklearn.ensemble import RandomForestRegressor\n",
    "alt.renderers.enable('notebook')"
   ]
  },
  {
   "cell_type": "code",
   "execution_count": 2,
   "metadata": {},
   "outputs": [],
   "source": [
    "df = pd.DataFrame({'X1' : [1, 2, 2, 3, 3, 4, 5, 5, 5, 6, 7, 8, 8, 9, 9, 10, 11, 11, 11, 12],\n",
    "                   'X2' : [-1, 2, 2, 2, 2, 7, 7, 8, 8, 8, 3, 4, 4, 5, 6, 9, 10, 10, 11, 12],\n",
    "                   'X1c' : [0, 0, 0, 0, 0, 0, 0, 0, 0, 0, 1, 1, 1, 1, 1, 1, 1, 1, 1, 1],\n",
    "                   'X2c' : [0, 0, 0, 0, 0, 1, 1, 1, 1, 1, 0, 0, 0, 0, 0, 1, 1, 1, 1, 1],\n",
    "                   'y' : [-3, 7, 8, 5, 9, 20, 19, 19, 18, 20, 15, 15, 16, 18, 22, 32, 31, 34, 33, 37]})"
   ]
  },
  {
   "cell_type": "markdown",
   "metadata": {},
   "source": [
    "# **Design Matrix**"
   ]
  },
  {
   "cell_type": "code",
   "execution_count": 3,
   "metadata": {},
   "outputs": [],
   "source": [
    "dm = design_matrix(df, intercept = False, \n",
    "                   category = ['X1c', 'X2c'], \n",
    "                   interaction = [['X1c', 'X2'], ['X1c', 'X2c'], ['X2c', 'X1']])"
   ]
  },
  {
   "cell_type": "code",
   "execution_count": 4,
   "metadata": {},
   "outputs": [
    {
     "data": {
      "text/html": [
       "<div>\n",
       "<style scoped>\n",
       "    .dataframe tbody tr th:only-of-type {\n",
       "        vertical-align: middle;\n",
       "    }\n",
       "\n",
       "    .dataframe tbody tr th {\n",
       "        vertical-align: top;\n",
       "    }\n",
       "\n",
       "    .dataframe thead th {\n",
       "        text-align: right;\n",
       "    }\n",
       "</style>\n",
       "<table border=\"1\" class=\"dataframe\">\n",
       "  <thead>\n",
       "    <tr style=\"text-align: right;\">\n",
       "      <th></th>\n",
       "      <th>X1</th>\n",
       "      <th>X2</th>\n",
       "      <th>y</th>\n",
       "      <th>X1c_0</th>\n",
       "      <th>X2c_0</th>\n",
       "      <th>X1c_0_X2</th>\n",
       "      <th>X1c_0_X2c_0</th>\n",
       "      <th>X2c_0_X1</th>\n",
       "    </tr>\n",
       "  </thead>\n",
       "  <tbody>\n",
       "    <tr>\n",
       "      <th>0</th>\n",
       "      <td>1</td>\n",
       "      <td>-1</td>\n",
       "      <td>-3</td>\n",
       "      <td>1</td>\n",
       "      <td>1</td>\n",
       "      <td>-1</td>\n",
       "      <td>1</td>\n",
       "      <td>1</td>\n",
       "    </tr>\n",
       "    <tr>\n",
       "      <th>1</th>\n",
       "      <td>2</td>\n",
       "      <td>2</td>\n",
       "      <td>7</td>\n",
       "      <td>1</td>\n",
       "      <td>1</td>\n",
       "      <td>2</td>\n",
       "      <td>1</td>\n",
       "      <td>2</td>\n",
       "    </tr>\n",
       "    <tr>\n",
       "      <th>2</th>\n",
       "      <td>2</td>\n",
       "      <td>2</td>\n",
       "      <td>8</td>\n",
       "      <td>1</td>\n",
       "      <td>1</td>\n",
       "      <td>2</td>\n",
       "      <td>1</td>\n",
       "      <td>2</td>\n",
       "    </tr>\n",
       "    <tr>\n",
       "      <th>3</th>\n",
       "      <td>3</td>\n",
       "      <td>2</td>\n",
       "      <td>5</td>\n",
       "      <td>1</td>\n",
       "      <td>1</td>\n",
       "      <td>2</td>\n",
       "      <td>1</td>\n",
       "      <td>3</td>\n",
       "    </tr>\n",
       "    <tr>\n",
       "      <th>4</th>\n",
       "      <td>3</td>\n",
       "      <td>2</td>\n",
       "      <td>9</td>\n",
       "      <td>1</td>\n",
       "      <td>1</td>\n",
       "      <td>2</td>\n",
       "      <td>1</td>\n",
       "      <td>3</td>\n",
       "    </tr>\n",
       "  </tbody>\n",
       "</table>\n",
       "</div>"
      ],
      "text/plain": [
       "   X1  X2  y  X1c_0  X2c_0  X1c_0_X2  X1c_0_X2c_0  X2c_0_X1\n",
       "0   1  -1 -3      1      1        -1            1         1\n",
       "1   2   2  7      1      1         2            1         2\n",
       "2   2   2  8      1      1         2            1         2\n",
       "3   3   2  5      1      1         2            1         3\n",
       "4   3   2  9      1      1         2            1         3"
      ]
     },
     "execution_count": 4,
     "metadata": {},
     "output_type": "execute_result"
    }
   ],
   "source": [
    "dm.head()"
   ]
  },
  {
   "cell_type": "markdown",
   "metadata": {},
   "source": [
    "# **Regression**"
   ]
  },
  {
   "cell_type": "code",
   "execution_count": 5,
   "metadata": {},
   "outputs": [],
   "source": [
    "model = LinearRegression(df)"
   ]
  },
  {
   "cell_type": "code",
   "execution_count": 6,
   "metadata": {},
   "outputs": [
    {
     "data": {
      "text/plain": [
       "<library.regression.LinearRegression at 0x1af93144e80>"
      ]
     },
     "execution_count": 6,
     "metadata": {},
     "output_type": "execute_result"
    }
   ],
   "source": [
    "model.fit(['X1', 'X2', 'X1c', 'X2c'], 'y',\n",
    "          category = ['X1c', 'X2c'], \n",
    "          interaction = [['X1c', 'X2'], ['X1c', 'X2c'], ['X2c', 'X1']], \n",
    "          ascending = False)"
   ]
  },
  {
   "cell_type": "code",
   "execution_count": 7,
   "metadata": {
    "scrolled": true
   },
   "outputs": [
    {
     "name": "stdout",
     "output_type": "stream",
     "text": [
      "Factor                                                 Coefficient         Pr(|t|>0)           VIF            \n",
      "Intercept                                              0.8146              0.7133                             \n",
      "X1                                                     0.1134              0.9265              109.0928       \n",
      "X2                                                     2.9542              0.0045              58.4264        \n",
      "X1c_1                                                  5.2748              0.4130              63.6402        \n",
      "X2c_1                                                  2.0527              0.7640              73.4726        \n",
      "X1c_1_X2                                               -0.6404             0.4533              84.0899        \n",
      "X1c_1_X2c_1                                            14.6574             0.0942              80.2400        \n",
      "X2c_1_X1                                               -1.3373             0.2788              189.3404       \n",
      "------------------------------------------------------------------------------------------------------------------------\n",
      "Source            Sum of Square\n",
      "Total S.S.        2155.7500 \n",
      "Reg S.S.          2119.2820 \n",
      "Res S.S.          36.4680   \n",
      "F-value: 99.62304009031806\n",
      "Pr(F): 1.1265025579021426e-09\n",
      "------------------------------------------------------------------------------------------------------------------------\n",
      "R-squared: 0.9830833732716496\n",
      "Adjusted R-squared: 0.9732153410134452\n",
      "AIC: 28.014067713232322\n",
      "BIC: 35.979925901664245\n",
      " \n"
     ]
    }
   ],
   "source": [
    "model.summary(VIF = True)"
   ]
  },
  {
   "cell_type": "code",
   "execution_count": 8,
   "metadata": {},
   "outputs": [
    {
     "name": "stdout",
     "output_type": "stream",
     "text": [
      "Source              Sum of Square\n",
      "Lack of Fit         22.4680   \n",
      "Pure Error          14.0000   \n",
      "F-value: 1.3373820279548454\n",
      "Pr(Lack of Fit): 0.3836052815999076\n",
      "\n"
     ]
    }
   ],
   "source": [
    "model.lack_of_fit()"
   ]
  },
  {
   "cell_type": "code",
   "execution_count": 9,
   "metadata": {},
   "outputs": [
    {
     "name": "stdout",
     "output_type": "stream",
     "text": [
      "Test statistic: 0.008875053580688314\n",
      "Pr: 0.9264990745747088\n"
     ]
    }
   ],
   "source": [
    "model.hypothesis_testing([{'X1' : 1}], [0])"
   ]
  },
  {
   "cell_type": "code",
   "execution_count": 10,
   "metadata": {},
   "outputs": [
    {
     "data": {
      "text/plain": [
       "array([0.11340206])"
      ]
     },
     "execution_count": 10,
     "metadata": {},
     "output_type": "execute_result"
    }
   ],
   "source": [
    "model.predict([{'X1' : 1}])"
   ]
  },
  {
   "cell_type": "code",
   "execution_count": 11,
   "metadata": {},
   "outputs": [
    {
     "data": {
      "text/plain": [
       "[[-4.54936822392351, 4.776172347625151]]"
      ]
     },
     "execution_count": 11,
     "metadata": {},
     "output_type": "execute_result"
    }
   ],
   "source": [
    "model.predict_interval([{'X1' : 1}])"
   ]
  },
  {
   "cell_type": "code",
   "execution_count": 12,
   "metadata": {},
   "outputs": [
    {
     "data": {
      "text/plain": [
       "[[-2.536028693471021, 2.7628328171726615]]"
      ]
     },
     "execution_count": 12,
     "metadata": {},
     "output_type": "execute_result"
    }
   ],
   "source": [
    "model.predict_interval([{'X1' : 1}], mode = 'mean')"
   ]
  },
  {
   "cell_type": "code",
   "execution_count": 13,
   "metadata": {},
   "outputs": [
    {
     "data": {
      "application/javascript": [
       "var spec = {\"config\": {\"view\": {\"width\": 400, \"height\": 300}, \"mark\": {\"tooltip\": null}}, \"layer\": [{\"data\": {\"name\": \"data-7823afa64bd3621d1d56dd9eb50c6f18\"}, \"mark\": \"line\", \"encoding\": {\"x\": {\"type\": \"quantitative\", \"field\": \"x\"}, \"y\": {\"type\": \"quantitative\", \"field\": \"y\"}}}, {\"data\": {\"name\": \"data-8573ec60d4ef3943dc42e7e5b0eaac86\"}, \"mark\": \"point\", \"encoding\": {\"tooltip\": [{\"type\": \"quantitative\", \"field\": \"index\"}], \"x\": {\"type\": \"quantitative\", \"field\": \"quantile\", \"title\": \"Quantile\"}, \"y\": {\"type\": \"quantitative\", \"field\": \"residual\", \"title\": \"Residual\"}}, \"title\": \"Normal plot\"}], \"$schema\": \"https://vega.github.io/schema/vega-lite/v3.3.0.json\", \"datasets\": {\"data-7823afa64bd3621d1d56dd9eb50c6f18\": [{\"x\": -2.0599639845400546, \"y\": -2.765127110696511}, {\"x\": -2.0187647048492536, \"y\": -2.7098245684825812}, {\"x\": -1.9775654251584527, \"y\": -2.6545220262686513}, {\"x\": -1.9363661454676517, \"y\": -2.599219484054721}, {\"x\": -1.8951668657768508, \"y\": -2.543916941840791}, {\"x\": -1.8539675860860498, \"y\": -2.488614399626861}, {\"x\": -1.8127683063952489, \"y\": -2.433311857412931}, {\"x\": -1.771569026704448, \"y\": -2.378009315199001}, {\"x\": -1.730369747013647, \"y\": -2.3227067729850708}, {\"x\": -1.689170467322846, \"y\": -2.267404230771141}, {\"x\": -1.647971187632045, \"y\": -2.212101688557211}, {\"x\": -1.6067719079412441, \"y\": -2.156799146343281}, {\"x\": -1.5655726282504432, \"y\": -2.1014966041293506}, {\"x\": -1.5243733485596422, \"y\": -2.0461940619154206}, {\"x\": -1.4831740688688413, \"y\": -1.9908915197014907}, {\"x\": -1.4419747891780403, \"y\": -1.9355889774875608}, {\"x\": -1.4007755094872394, \"y\": -1.8802864352736306}, {\"x\": -1.3595762297964384, \"y\": -1.8249838930597007}, {\"x\": -1.3183769501056375, \"y\": -1.7696813508457705}, {\"x\": -1.2771776704148365, \"y\": -1.7143788086318406}, {\"x\": -1.2359783907240356, \"y\": -1.6590762664179106}, {\"x\": -1.1947791110332346, \"y\": -1.6037737242039805}, {\"x\": -1.1535798313424337, \"y\": -1.5484711819900505}, {\"x\": -1.1123805516516327, \"y\": -1.4931686397761204}, {\"x\": -1.0711812719608318, \"y\": -1.4378660975621904}, {\"x\": -1.0299819922700308, \"y\": -1.3825635553482603}, {\"x\": -0.9887827125792299, \"y\": -1.3272610131343303}, {\"x\": -0.947583432888429, \"y\": -1.2719584709204004}, {\"x\": -0.906384153197628, \"y\": -1.2166559287064702}, {\"x\": -0.865184873506827, \"y\": -1.1613533864925403}, {\"x\": -0.8239855938160261, \"y\": -1.1060508442786101}, {\"x\": -0.7827863141252251, \"y\": -1.0507483020646802}, {\"x\": -0.7415870344344242, \"y\": -0.9954457598507501}, {\"x\": -0.7003877547436232, \"y\": -0.9401432176368201}, {\"x\": -0.6591884750528223, \"y\": -0.88484067542289}, {\"x\": -0.6179891953620213, \"y\": -0.8295381332089601}, {\"x\": -0.5767899156712204, \"y\": -0.77423559099503}, {\"x\": -0.5355906359804194, \"y\": -0.7189330487811}, {\"x\": -0.4943913562896185, \"y\": -0.6636305065671699}, {\"x\": -0.45319207659881755, \"y\": -0.6083279643532399}, {\"x\": -0.4119927969080166, \"y\": -0.5530254221393098}, {\"x\": -0.37079351721721565, \"y\": -0.49772287992537984}, {\"x\": -0.3295942375264147, \"y\": -0.4424203377114498}, {\"x\": -0.28839495783561375, \"y\": -0.3871177954975198}, {\"x\": -0.2471956781448128, \"y\": -0.33181525328358974}, {\"x\": -0.20599639845401185, \"y\": -0.2765127110696597}, {\"x\": -0.1647971187632109, \"y\": -0.22121016885572967}, {\"x\": -0.12359783907240995, \"y\": -0.16590762664179964}, {\"x\": -0.082398559381609, \"y\": -0.11060508442786961}, {\"x\": -0.041199279690808055, \"y\": -0.05530254221393957}, {\"x\": -7.105427357601002e-15, \"y\": -9.537744332930193e-15}, {\"x\": 0.041199279690793844, \"y\": 0.055302542213920496}, {\"x\": 0.0823985593815948, \"y\": 0.11060508442785053}, {\"x\": 0.12359783907239574, \"y\": 0.16590762664178055}, {\"x\": 0.1647971187631967, \"y\": 0.2212101688557106}, {\"x\": 0.20599639845399764, \"y\": 0.27651271106964065}, {\"x\": 0.2471956781447986, \"y\": 0.33181525328357064}, {\"x\": 0.28839495783559954, \"y\": 0.3871177954975007}, {\"x\": 0.3295942375264005, \"y\": 0.44242033771143074}, {\"x\": 0.37079351721720144, \"y\": 0.49772287992536074}, {\"x\": 0.4119927969080024, \"y\": 0.5530254221392907}, {\"x\": 0.45319207659880334, \"y\": 0.6083279643532208}, {\"x\": 0.4943913562896043, \"y\": 0.6636305065671508}, {\"x\": 0.5355906359804052, \"y\": 0.7189330487810809}, {\"x\": 0.5767899156712062, \"y\": 0.7742355909950109}, {\"x\": 0.6179891953620071, \"y\": 0.829538133208941}, {\"x\": 0.6591884750528081, \"y\": 0.884840675422871}, {\"x\": 0.700387754743609, \"y\": 0.940143217636801}, {\"x\": 0.74158703443441, \"y\": 0.995445759850731}, {\"x\": 0.7827863141252109, \"y\": 1.050748302064661}, {\"x\": 0.8239855938160119, \"y\": 1.106050844278591}, {\"x\": 0.8651848735068128, \"y\": 1.1613533864925212}, {\"x\": 0.9063841531976138, \"y\": 1.2166559287064511}, {\"x\": 0.9475834328884147, \"y\": 1.2719584709203813}, {\"x\": 0.9887827125792157, \"y\": 1.3272610131343112}, {\"x\": 1.0299819922700166, \"y\": 1.3825635553482414}, {\"x\": 1.0711812719608176, \"y\": 1.4378660975621713}, {\"x\": 1.1123805516516185, \"y\": 1.4931686397761013}, {\"x\": 1.1535798313424195, \"y\": 1.5484711819900314}, {\"x\": 1.1947791110332204, \"y\": 1.6037737242039614}, {\"x\": 1.2359783907240214, \"y\": 1.6590762664178915}, {\"x\": 1.2771776704148223, \"y\": 1.7143788086318215}, {\"x\": 1.3183769501056233, \"y\": 1.7696813508457514}, {\"x\": 1.3595762297964242, \"y\": 1.8249838930596816}, {\"x\": 1.4007755094872252, \"y\": 1.8802864352736115}, {\"x\": 1.4419747891780261, \"y\": 1.9355889774875417}, {\"x\": 1.483174068868827, \"y\": 1.9908915197014716}, {\"x\": 1.524373348559628, \"y\": 2.0461940619154015}, {\"x\": 1.565572628250429, \"y\": 2.101496604129332}, {\"x\": 1.60677190794123, \"y\": 2.156799146343262}, {\"x\": 1.6479711876320309, \"y\": 2.212101688557192}, {\"x\": 1.6891704673228318, \"y\": 2.2674042307711217}, {\"x\": 1.7303697470136328, \"y\": 2.3227067729850517}, {\"x\": 1.7715690267044337, \"y\": 2.378009315198982}, {\"x\": 1.8127683063952347, \"y\": 2.433311857412912}, {\"x\": 1.8539675860860356, \"y\": 2.488614399626842}, {\"x\": 1.8951668657768366, \"y\": 2.543916941840772}, {\"x\": 1.9363661454676375, \"y\": 2.599219484054702}, {\"x\": 1.9775654251584385, \"y\": 2.654522026268632}, {\"x\": 2.0187647048492394, \"y\": 2.709824568482562}, {\"x\": 2.0599639845400404, \"y\": 2.765127110696492}], \"data-8573ec60d4ef3943dc42e7e5b0eaac86\": [{\"residual\": -2.3816981350651076, \"index\": 8, \"quantile\": -1.9599639845400545}, {\"residual\": -2.0632688520777265, \"index\": 3, \"quantile\": -1.4395314709384563}, {\"residual\": -1.7882775396765282, \"index\": 18, \"quantile\": -1.1503493803760079}, {\"residual\": -1.4744816402189826, \"index\": 16, \"quantile\": -0.9345892910734802}, {\"residual\": -1.3816981350651076, \"index\": 7, \"quantile\": -0.7554150263604693}, {\"residual\": -1.251801227848091, \"index\": 11, \"quantile\": -0.5977601260424784}, {\"residual\": -0.9737287153966463, \"index\": 0, \"quantile\": -0.45376219016987945}, {\"residual\": -0.6789991891564569, \"index\": 13, \"quantile\": -0.31863936396437514}, {\"residual\": -0.251801227848091, \"index\": 12, \"quantile\": -0.18911842627279252}, {\"residual\": 0.05013320977309377, \"index\": 1, \"quantile\": -0.06270677794321385}, {\"residual\": 0.6154060002274946, \"index\": 15, \"quantile\": 0.06270677794321385}, {\"residual\": 0.8422101239459607, \"index\": 9, \"quantile\": 0.18911842627279238}, {\"residual\": 1.0072049113859975, \"index\": 14, \"quantile\": 0.31863936396437514}, {\"residual\": 1.0501332097730938, \"index\": 2, \"quantile\": 0.45376219016987956}, {\"residual\": 1.1218348198769945, \"index\": 19, \"quantile\": 0.5977601260424784}, {\"residual\": 1.1753967334602748, \"index\": 10, \"quantile\": 0.7554150263604693}, {\"residual\": 1.3486389435836372, \"index\": 5, \"quantile\": 0.93458929107348}, {\"residual\": 1.5255183597810174, \"index\": 17, \"quantile\": 1.1503493803760079}, {\"residual\": 1.5725472025947056, \"index\": 6, \"quantile\": 1.4395314709384563}, {\"residual\": 1.9367311479222735, \"index\": 4, \"quantile\": 1.959963984540054}]}};\n",
       "var opt = {};\n",
       "var type = \"vega-lite\";\n",
       "var id = \"185eda9f-c5d3-49ca-8698-689d527d2a4d\";\n",
       "\n",
       "var output_area = this;\n",
       "\n",
       "require([\"nbextensions/jupyter-vega/index\"], function(vega) {\n",
       "  var target = document.createElement(\"div\");\n",
       "  target.id = id;\n",
       "  target.className = \"vega-embed\";\n",
       "\n",
       "  var style = document.createElement(\"style\");\n",
       "  style.textContent = [\n",
       "    \".vega-embed .error p {\",\n",
       "    \"  color: firebrick;\",\n",
       "    \"  font-size: 14px;\",\n",
       "    \"}\",\n",
       "  ].join(\"\\\\n\");\n",
       "\n",
       "  // element is a jQuery wrapped DOM element inside the output area\n",
       "  // see http://ipython.readthedocs.io/en/stable/api/generated/\\\n",
       "  // IPython.display.html#IPython.display.Javascript.__init__\n",
       "  element[0].appendChild(target);\n",
       "  element[0].appendChild(style);\n",
       "\n",
       "  vega.render(\"#\" + id, spec, type, opt, output_area);\n",
       "}, function (err) {\n",
       "  if (err.requireType !== \"scripterror\") {\n",
       "    throw(err);\n",
       "  }\n",
       "});\n"
      ],
      "text/plain": [
       "<vega.vegalite.VegaLite at 0x1af931c5c88>"
      ]
     },
     "metadata": {
      "jupyter-vega": "#185eda9f-c5d3-49ca-8698-689d527d2a4d"
     },
     "output_type": "display_data"
    },
    {
     "data": {
      "text/plain": []
     },
     "execution_count": 13,
     "metadata": {},
     "output_type": "execute_result"
    },
    {
     "data": {
      "image/png": "[encoded data removed]"
     },
     "metadata": {
      "jupyter-vega": "#185eda9f-c5d3-49ca-8698-689d527d2a4d"
     },
     "output_type": "display_data"
    }
   ],
   "source": [
    "model.normal_plot()"
   ]
  },
  {
   "cell_type": "code",
   "execution_count": 14,
   "metadata": {},
   "outputs": [
    {
     "data": {
      "application/javascript": [
       "var spec = {\"config\": {\"view\": {\"width\": 400, \"height\": 300}, \"mark\": {\"tooltip\": null}}, \"layer\": [{\"data\": {\"name\": \"data-ba021e6497b0966190ce3db8c2dbed1b\"}, \"mark\": \"line\", \"encoding\": {\"x\": {\"type\": \"quantitative\", \"field\": \"x\"}, \"y\": {\"type\": \"quantitative\", \"field\": \"y\"}}}, {\"data\": {\"name\": \"data-97ed293cc0eea5eb814b20d1dc89ec34\"}, \"mark\": \"point\", \"encoding\": {\"tooltip\": [{\"type\": \"quantitative\", \"field\": \"index\"}], \"x\": {\"type\": \"quantitative\", \"field\": \"predict\", \"title\": \"Predicted\"}, \"y\": {\"type\": \"quantitative\", \"field\": \"residual\", \"title\": \"Standardised residual\"}}, \"title\": \"Residual plot\"}], \"$schema\": \"https://vega.github.io/schema/vega-lite/v3.3.0.json\", \"datasets\": {\"data-ba021e6497b0966190ce3db8c2dbed1b\": [{\"x\": -2.126271284603354, \"y\": 0}, {\"x\": -1.7452269199560901, \"y\": 0}, {\"x\": -1.3641825553088265, \"y\": 0}, {\"x\": -0.9831381906615628, \"y\": 0}, {\"x\": -0.6020938260142992, \"y\": 0}, {\"x\": -0.22104946136703552, \"y\": 0}, {\"x\": 0.15999490328022814, \"y\": 0}, {\"x\": 0.5410392679274918, \"y\": 0}, {\"x\": 0.9220836325747555, \"y\": 0}, {\"x\": 1.303127997222019, \"y\": 0}, {\"x\": 1.6841723618692828, \"y\": 0}, {\"x\": 2.0652167265165464, \"y\": 0}, {\"x\": 2.44626109116381, \"y\": 0}, {\"x\": 2.8273054558110737, \"y\": 0}, {\"x\": 3.2083498204583374, \"y\": 0}, {\"x\": 3.589394185105601, \"y\": 0}, {\"x\": 3.9704385497528647, \"y\": 0}, {\"x\": 4.351482914400128, \"y\": 0}, {\"x\": 4.7325272790473925, \"y\": 0}, {\"x\": 5.113571643694655, \"y\": 0}, {\"x\": 5.49461600834192, \"y\": 0}, {\"x\": 5.8756603729891825, \"y\": 0}, {\"x\": 6.256704737636447, \"y\": 0}, {\"x\": 6.637749102283712, \"y\": 0}, {\"x\": 7.018793466930974, \"y\": 0}, {\"x\": 7.399837831578237, \"y\": 0}, {\"x\": 7.780882196225502, \"y\": 0}, {\"x\": 8.161926560872766, \"y\": 0}, {\"x\": 8.542970925520029, \"y\": 0}, {\"x\": 8.924015290167292, \"y\": 0}, {\"x\": 9.305059654814556, \"y\": 0}, {\"x\": 9.68610401946182, \"y\": 0}, {\"x\": 10.067148384109084, \"y\": 0}, {\"x\": 10.448192748756346, \"y\": 0}, {\"x\": 10.829237113403611, \"y\": 0}, {\"x\": 11.210281478050875, \"y\": 0}, {\"x\": 11.591325842698138, \"y\": 0}, {\"x\": 11.972370207345401, \"y\": 0}, {\"x\": 12.353414571992666, \"y\": 0}, {\"x\": 12.73445893663993, \"y\": 0}, {\"x\": 13.115503301287193, \"y\": 0}, {\"x\": 13.496547665934456, \"y\": 0}, {\"x\": 13.877592030581718, \"y\": 0}, {\"x\": 14.258636395228985, \"y\": 0}, {\"x\": 14.639680759876248, \"y\": 0}, {\"x\": 15.02072512452351, \"y\": 0}, {\"x\": 15.401769489170777, \"y\": 0}, {\"x\": 15.78281385381804, \"y\": 0}, {\"x\": 16.1638582184653, \"y\": 0}, {\"x\": 16.544902583112563, \"y\": 0}, {\"x\": 16.925946947759826, \"y\": 0}, {\"x\": 17.306991312407092, \"y\": 0}, {\"x\": 17.688035677054355, \"y\": 0}, {\"x\": 18.069080041701618, \"y\": 0}, {\"x\": 18.450124406348884, \"y\": 0}, {\"x\": 18.831168770996147, \"y\": 0}, {\"x\": 19.21221313564341, \"y\": 0}, {\"x\": 19.593257500290672, \"y\": 0}, {\"x\": 19.974301864937935, \"y\": 0}, {\"x\": 20.3553462295852, \"y\": 0}, {\"x\": 20.736390594232464, \"y\": 0}, {\"x\": 21.117434958879727, \"y\": 0}, {\"x\": 21.498479323526993, \"y\": 0}, {\"x\": 21.879523688174256, \"y\": 0}, {\"x\": 22.26056805282152, \"y\": 0}, {\"x\": 22.64161241746878, \"y\": 0}, {\"x\": 23.022656782116044, \"y\": 0}, {\"x\": 23.40370114676331, \"y\": 0}, {\"x\": 23.784745511410573, \"y\": 0}, {\"x\": 24.165789876057836, \"y\": 0}, {\"x\": 24.546834240705103, \"y\": 0}, {\"x\": 24.927878605352365, \"y\": 0}, {\"x\": 25.308922969999628, \"y\": 0}, {\"x\": 25.68996733464689, \"y\": 0}, {\"x\": 26.071011699294154, \"y\": 0}, {\"x\": 26.45205606394142, \"y\": 0}, {\"x\": 26.833100428588683, \"y\": 0}, {\"x\": 27.214144793235945, \"y\": 0}, {\"x\": 27.595189157883212, \"y\": 0}, {\"x\": 27.976233522530475, \"y\": 0}, {\"x\": 28.357277887177737, \"y\": 0}, {\"x\": 28.738322251825, \"y\": 0}, {\"x\": 29.119366616472263, \"y\": 0}, {\"x\": 29.50041098111953, \"y\": 0}, {\"x\": 29.88145534576679, \"y\": 0}, {\"x\": 30.262499710414055, \"y\": 0}, {\"x\": 30.64354407506132, \"y\": 0}, {\"x\": 31.02458843970858, \"y\": 0}, {\"x\": 31.405632804355847, \"y\": 0}, {\"x\": 31.786677169003113, \"y\": 0}, {\"x\": 32.16772153365037, \"y\": 0}, {\"x\": 32.54876589829764, \"y\": 0}, {\"x\": 32.929810262944905, \"y\": 0}, {\"x\": 33.310854627592164, \"y\": 0}, {\"x\": 33.69189899223943, \"y\": 0}, {\"x\": 34.07294335688669, \"y\": 0}, {\"x\": 34.453987721533956, \"y\": 0}, {\"x\": 34.83503208618122, \"y\": 0}, {\"x\": 35.21607645082848, \"y\": 0}, {\"x\": 35.59712081547575, \"y\": 0}], \"data-97ed293cc0eea5eb814b20d1dc89ec34\": [{\"residual\": -0.7028436046213152, \"predict\": -2.0262712846033537, \"index\": 0}, {\"residual\": 0.03618647094514877, \"predict\": 6.949866790226906, \"index\": 1}, {\"residual\": 0.7579928565512397, \"predict\": 6.949866790226906, \"index\": 2}, {\"residual\": -1.4892806326518522, \"predict\": 7.0632688520777265, \"index\": 3}, {\"residual\": 1.3979449097725116, \"predict\": 7.0632688520777265, \"index\": 4}, {\"residual\": 0.973456201355722, \"predict\": 18.651361056416363, \"index\": 5}, {\"residual\": 1.1350746124998536, \"predict\": 17.427452797405294, \"index\": 6}, {\"residual\": -0.9973185368700218, \"predict\": 20.381698135065108, \"index\": 7}, {\"residual\": -1.7191249224761127, \"predict\": 20.381698135065108, \"index\": 8}, {\"residual\": 0.6079126454862918, \"predict\": 19.15778987605404, \"index\": 9}, {\"residual\": 0.8484088678321668, \"predict\": 13.824603266539725, \"index\": 10}, {\"residual\": -0.9035581197702973, \"predict\": 16.25180122784809, \"index\": 11}, {\"residual\": -0.18175173416420634, \"predict\": 16.25180122784809, \"index\": 12}, {\"residual\": -0.4901059505544886, \"predict\": 18.678999189156457, \"index\": 13}, {\"residual\": 0.72700693665223, \"predict\": 20.992795088614002, \"index\": 14}, {\"residual\": 0.44420398070450906, \"predict\": 31.384593999772505, \"index\": 15}, {\"residual\": -1.0642902633690043, \"predict\": 32.47448164021898, \"index\": 16}, {\"residual\": 1.1011288934492685, \"predict\": 32.47448164021898, \"index\": 17}, {\"residual\": -1.2907901473744678, \"predict\": 34.78827753967653, \"index\": 18}, {\"residual\": 0.8097475365824734, \"predict\": 35.878165180123005, \"index\": 19}]}};\n",
       "var opt = {};\n",
       "var type = \"vega-lite\";\n",
       "var id = \"14cc0d58-e579-4471-aa8b-35eeac8955e3\";\n",
       "\n",
       "var output_area = this;\n",
       "\n",
       "require([\"nbextensions/jupyter-vega/index\"], function(vega) {\n",
       "  var target = document.createElement(\"div\");\n",
       "  target.id = id;\n",
       "  target.className = \"vega-embed\";\n",
       "\n",
       "  var style = document.createElement(\"style\");\n",
       "  style.textContent = [\n",
       "    \".vega-embed .error p {\",\n",
       "    \"  color: firebrick;\",\n",
       "    \"  font-size: 14px;\",\n",
       "    \"}\",\n",
       "  ].join(\"\\\\n\");\n",
       "\n",
       "  // element is a jQuery wrapped DOM element inside the output area\n",
       "  // see http://ipython.readthedocs.io/en/stable/api/generated/\\\n",
       "  // IPython.display.html#IPython.display.Javascript.__init__\n",
       "  element[0].appendChild(target);\n",
       "  element[0].appendChild(style);\n",
       "\n",
       "  vega.render(\"#\" + id, spec, type, opt, output_area);\n",
       "}, function (err) {\n",
       "  if (err.requireType !== \"scripterror\") {\n",
       "    throw(err);\n",
       "  }\n",
       "});\n"
      ],
      "text/plain": [
       "<vega.vegalite.VegaLite at 0x1af931c51d0>"
      ]
     },
     "metadata": {
      "jupyter-vega": "#14cc0d58-e579-4471-aa8b-35eeac8955e3"
     },
     "output_type": "display_data"
    },
    {
     "data": {
      "text/plain": []
     },
     "execution_count": 14,
     "metadata": {},
     "output_type": "execute_result"
    },
    {
     "data": {
      "image/png": "[encoded data removed]"
     },
     "metadata": {
      "jupyter-vega": "#14cc0d58-e579-4471-aa8b-35eeac8955e3"
     },
     "output_type": "display_data"
    }
   ],
   "source": [
    "model.residual_plot()"
   ]
  },
  {
   "cell_type": "code",
   "execution_count": 15,
   "metadata": {},
   "outputs": [
    {
     "data": {
      "text/plain": [
       "array([-0.97372872,  0.05013321,  1.05013321, -2.06326885,  1.93673115,\n",
       "        1.34863894,  1.5725472 , -1.38169814, -2.38169814,  0.84221012,\n",
       "        1.17539673, -1.25180123, -0.25180123, -0.67899919,  1.00720491,\n",
       "        0.615406  , -1.47448164,  1.52551836, -1.78827754,  1.12183482])"
      ]
     },
     "execution_count": 15,
     "metadata": {},
     "output_type": "execute_result"
    }
   ],
   "source": [
    "model.residual()"
   ]
  },
  {
   "cell_type": "code",
   "execution_count": 16,
   "metadata": {},
   "outputs": [
    {
     "data": {
      "text/plain": [
       "array([[ 4.68792296e+00, -2.20092635e+00,  5.44225220e-01,\n",
       "         8.86168333e+00, -4.31023910e+00,  4.78045181e-01,\n",
       "        -9.94062919e+00,  1.29816724e+00],\n",
       "       [-2.20092635e+00,  1.44900845e+00, -7.04923030e-01,\n",
       "        -6.57928161e+00,  4.03372623e+00,  1.11486416e-14,\n",
       "         4.32352792e+00, -7.44085420e-01],\n",
       "       [ 5.44225220e-01, -7.04923030e-01,  7.19003889e-01,\n",
       "         3.57495422e+00, -3.69411349e+00, -3.41460843e-01,\n",
       "         7.40477200e-01,  2.42014773e-01],\n",
       "       [ 8.86168333e+00, -6.57928161e+00,  3.57495422e+00,\n",
       "         3.86805083e+01, -2.55833377e+01, -1.98047289e+00,\n",
       "        -1.55558648e+01,  4.48968206e+00],\n",
       "       [-4.31023910e+00,  4.03372623e+00, -3.69411349e+00,\n",
       "        -2.55833377e+01,  4.46566539e+01,  2.97070934e+00,\n",
       "         1.84197004e+01, -6.36639662e+00],\n",
       "       [ 4.78045181e-01,  1.05575569e-14, -3.41460843e-01,\n",
       "        -1.98047289e+00,  2.97070934e+00,  6.82921687e-01,\n",
       "        -3.14143976e+00, -1.70730422e-01],\n",
       "       [-9.94062919e+00,  4.32352792e+00,  7.40477200e-01,\n",
       "        -1.55558648e+01,  1.84197004e+01, -3.14143976e+00,\n",
       "         6.50265005e+01, -7.26642756e+00],\n",
       "       [ 1.29816724e+00, -7.44085420e-01,  2.42014773e-01,\n",
       "         4.48968206e+00, -6.36639662e+00, -1.70730422e-01,\n",
       "        -7.26642756e+00,  1.38986884e+00]])"
      ]
     },
     "execution_count": 16,
     "metadata": {},
     "output_type": "execute_result"
    }
   ],
   "source": [
    "model.std"
   ]
  },
  {
   "cell_type": "code",
   "execution_count": 17,
   "metadata": {},
   "outputs": [
    {
     "data": {
      "text/plain": [
       "109.09278350797211"
      ]
     },
     "execution_count": 17,
     "metadata": {},
     "output_type": "execute_result"
    }
   ],
   "source": [
    "model.vif('X1')"
   ]
  },
  {
   "cell_type": "markdown",
   "metadata": {},
   "source": [
    "# **Selection**"
   ]
  },
  {
   "cell_type": "code",
   "execution_count": 18,
   "metadata": {},
   "outputs": [
    {
     "name": "stdout",
     "output_type": "stream",
     "text": [
      "Variable in model: X1, X2, X1c_0, X2c_0, X1c_0_X2, X1c_0_X2c_0, X2c_0_X1\n",
      "Variable Removed                                       Res S.S. before Removal            Res S.S. after Removal\n",
      "X1c_0_X2                                               36.4680                            38.2933        \n",
      "Test Statistic: 0.6006186227063708\n",
      "p-value: 0.45334338680270525\n",
      "Decision: Remove\n",
      "------------------------------------------------------------------------------------------------------------------------\n",
      "Variable in model: X1, X2, X1c_0, X2c_0, X1c_0_X2c_0, X2c_0_X1\n",
      "Variable Removed                                       Res S.S. before Removal            Res S.S. after Removal\n",
      "X1                                                     38.2933                            42.7437        \n",
      "Test Statistic: 1.5108485935660347\n",
      "p-value: 0.24079436221619221\n",
      "Decision: Remove\n",
      "------------------------------------------------------------------------------------------------------------------------\n",
      "Variable in model: X2, X1c_0, X2c_0, X1c_0_X2c_0, X2c_0_X1\n",
      "Variable Removed                                       Res S.S. before Removal            Res S.S. after Removal\n",
      "X2c_0_X1                                               42.7437                            44.8426        \n",
      "Test Statistic: 0.6874407218437367\n",
      "p-value: 0.4209482969430991\n",
      "Decision: Remove\n",
      "------------------------------------------------------------------------------------------------------------------------\n",
      "Variable in model: X2, X1c_0, X2c_0, X1c_0_X2c_0\n",
      "Variable Removed                                       Res S.S. before Removal            Res S.S. after Removal\n",
      "X2c_0                                                  44.8426                            46.4055        \n",
      "Test Statistic: 0.5228164108899941\n",
      "p-value: 0.4807663282270771\n",
      "Decision: Remove\n",
      "------------------------------------------------------------------------------------------------------------------------\n",
      "Variable in model: X2, X1c_0, X1c_0_X2c_0\n",
      "Variable Removed                                       Res S.S. before Removal            Res S.S. after Removal\n",
      "X1c_0_X2c_0                                            46.4055                            54.0541        \n",
      "Test Statistic: 2.6371380403411804\n",
      "p-value: 0.12392565587316517\n",
      "Decision: Remove\n",
      "------------------------------------------------------------------------------------------------------------------------\n",
      "Variable in model: X2, X1c_0\n",
      "Variable Removed                                       Res S.S. before Removal            Res S.S. after Removal\n",
      "X1c_0                                                  54.0541                            201.1942       \n",
      "Test Statistic: 46.275484271438\n",
      "p-value: 3.0798272840915075e-06\n",
      "Decision: Do not remove\n",
      "------------------------------------------------------------------------------------------------------------------------\n"
     ]
    }
   ],
   "source": [
    "BackwardSelection(dm, ['X1', 'X2', 'X1c_0', 'X2c_0', 'X1c_0_X2', 'X1c_0_X2c_0', 'X2c_0_X1'], 'y')"
   ]
  },
  {
   "cell_type": "code",
   "execution_count": 19,
   "metadata": {},
   "outputs": [
    {
     "name": "stdout",
     "output_type": "stream",
     "text": [
      "Variable in model: \n",
      "Variable Entered                                       Res S.S. before Entered            Res S.S. after Entered\n",
      "X2                                                     2155.7500                          201.1942       \n",
      "Test Statistic: 174.8659275755904\n",
      "p-value: 1.0411016493350189e-10\n",
      "Decision: Enter\n",
      "------------------------------------------------------------------------------------------------------------------------\n",
      "Variable in model: X2\n",
      "Variable Entered                                       Res S.S. before Entered            Res S.S. after Entered\n",
      "X1c_0                                                  201.1942                           54.0541        \n",
      "Test Statistic: 46.275484271438\n",
      "p-value: 3.0798272840915075e-06\n",
      "Decision: Enter\n",
      "------------------------------------------------------------------------------------------------------------------------\n",
      "Variable in model: X2, X1c_0\n",
      "Variable Entered                                       Res S.S. before Entered            Res S.S. after Entered\n",
      "X1c_0_X2c_0                                            54.0541                            46.4055        \n",
      "Test Statistic: 2.6371380403411804\n",
      "p-value: 0.12392565587316517\n",
      "Decision: Do not enter\n",
      "------------------------------------------------------------------------------------------------------------------------\n"
     ]
    }
   ],
   "source": [
    "ForwardSelection(dm, ['X1', 'X2', 'X1c_0', 'X2c_0', 'X1c_0_X2', 'X1c_0_X2c_0', 'X2c_0_X1'], 'y')"
   ]
  },
  {
   "cell_type": "code",
   "execution_count": 20,
   "metadata": {},
   "outputs": [
    {
     "name": "stdout",
     "output_type": "stream",
     "text": [
      "Variable in model: \n",
      "Variable Entered                                       Res S.S. before Entered            Res S.S. after Entered\n",
      "X2                                                     2155.7500                          201.1942       \n",
      "Test Statistic: 174.8659275755904\n",
      "p-value: 1.0411016493350189e-10\n",
      "Decision: Enter\n",
      "------------------------------------------------------------------------------------------------------------------------\n",
      "Variable in model: X2\n",
      "Variable Entered                                       Res S.S. before Entered            Res S.S. after Entered\n",
      "X1c_0                                                  201.1942                           54.0541        \n",
      "Test Statistic: 46.275484271438\n",
      "p-value: 3.0798272840915075e-06\n",
      "Decision: Enter\n",
      "------------------------------------------------------------------------------------------------------------------------\n",
      "Variable in model: X2, X1c_0\n",
      "Variable Removed                                       Res S.S. before Removal            Res S.S. after Removal\n",
      "X1c_0                                                  54.0541                            201.1942       \n",
      "Test Statistic: 46.275484271438\n",
      "p-value: 3.0798272840915075e-06\n",
      "Decision: Do not remove\n",
      "------------------------------------------------------------------------------------------------------------------------\n",
      "Variable in model: X2, X1c_0\n",
      "Variable Entered                                       Res S.S. before Entered            Res S.S. after Entered\n",
      "X1c_0_X2c_0                                            54.0541                            46.4055        \n",
      "Test Statistic: 2.6371380403411804\n",
      "p-value: 0.12392565587316517\n",
      "Decision: Do not enter\n",
      "------------------------------------------------------------------------------------------------------------------------\n"
     ]
    }
   ],
   "source": [
    "StepwiseSelection(dm, ['X1', 'X2', 'X1c_0', 'X2c_0', 'X1c_0_X2', 'X1c_0_X2c_0', 'X2c_0_X1'], 'y')"
   ]
  },
  {
   "cell_type": "code",
   "execution_count": 21,
   "metadata": {
    "scrolled": false
   },
   "outputs": [
    {
     "name": "stderr",
     "output_type": "stream",
     "text": [
      "C:\\Users\\anson\\Anaconda3\\lib\\site-packages\\sklearn\\linear_model\\coordinate_descent.py:492: ConvergenceWarning: Objective did not converge. You might want to increase the number of iterations. Fitting data with very small alpha may cause precision problems.\n",
      "  ConvergenceWarning)\n",
      "C:\\Users\\anson\\Anaconda3\\lib\\site-packages\\sklearn\\linear_model\\coordinate_descent.py:492: ConvergenceWarning: Objective did not converge. You might want to increase the number of iterations. Fitting data with very small alpha may cause precision problems.\n",
      "  ConvergenceWarning)\n",
      "C:\\Users\\anson\\Anaconda3\\lib\\site-packages\\sklearn\\linear_model\\coordinate_descent.py:492: ConvergenceWarning: Objective did not converge. You might want to increase the number of iterations. Fitting data with very small alpha may cause precision problems.\n",
      "  ConvergenceWarning)\n",
      "C:\\Users\\anson\\Anaconda3\\lib\\site-packages\\sklearn\\linear_model\\coordinate_descent.py:492: ConvergenceWarning: Objective did not converge. You might want to increase the number of iterations. Fitting data with very small alpha may cause precision problems.\n",
      "  ConvergenceWarning)\n",
      "C:\\Users\\anson\\Anaconda3\\lib\\site-packages\\sklearn\\linear_model\\coordinate_descent.py:492: ConvergenceWarning: Objective did not converge. You might want to increase the number of iterations. Fitting data with very small alpha may cause precision problems.\n",
      "  ConvergenceWarning)\n",
      "C:\\Users\\anson\\Anaconda3\\lib\\site-packages\\sklearn\\linear_model\\coordinate_descent.py:492: ConvergenceWarning: Objective did not converge. You might want to increase the number of iterations. Fitting data with very small alpha may cause precision problems.\n",
      "  ConvergenceWarning)\n",
      "C:\\Users\\anson\\Anaconda3\\lib\\site-packages\\sklearn\\linear_model\\coordinate_descent.py:492: ConvergenceWarning: Objective did not converge. You might want to increase the number of iterations. Fitting data with very small alpha may cause precision problems.\n",
      "  ConvergenceWarning)\n",
      "C:\\Users\\anson\\Anaconda3\\lib\\site-packages\\sklearn\\linear_model\\coordinate_descent.py:492: ConvergenceWarning: Objective did not converge. You might want to increase the number of iterations. Fitting data with very small alpha may cause precision problems.\n",
      "  ConvergenceWarning)\n",
      "C:\\Users\\anson\\Anaconda3\\lib\\site-packages\\sklearn\\linear_model\\coordinate_descent.py:492: ConvergenceWarning: Objective did not converge. You might want to increase the number of iterations. Fitting data with very small alpha may cause precision problems.\n",
      "  ConvergenceWarning)\n",
      "C:\\Users\\anson\\Anaconda3\\lib\\site-packages\\sklearn\\linear_model\\coordinate_descent.py:492: ConvergenceWarning: Objective did not converge. You might want to increase the number of iterations. Fitting data with very small alpha may cause precision problems.\n",
      "  ConvergenceWarning)\n",
      "C:\\Users\\anson\\Anaconda3\\lib\\site-packages\\sklearn\\linear_model\\coordinate_descent.py:492: ConvergenceWarning: Objective did not converge. You might want to increase the number of iterations. Fitting data with very small alpha may cause precision problems.\n",
      "  ConvergenceWarning)\n",
      "C:\\Users\\anson\\Anaconda3\\lib\\site-packages\\sklearn\\linear_model\\coordinate_descent.py:492: ConvergenceWarning: Objective did not converge. You might want to increase the number of iterations. Fitting data with very small alpha may cause precision problems.\n",
      "  ConvergenceWarning)\n",
      "C:\\Users\\anson\\Anaconda3\\lib\\site-packages\\sklearn\\linear_model\\coordinate_descent.py:492: ConvergenceWarning: Objective did not converge. You might want to increase the number of iterations. Fitting data with very small alpha may cause precision problems.\n",
      "  ConvergenceWarning)\n",
      "C:\\Users\\anson\\Anaconda3\\lib\\site-packages\\sklearn\\linear_model\\coordinate_descent.py:492: ConvergenceWarning: Objective did not converge. You might want to increase the number of iterations. Fitting data with very small alpha may cause precision problems.\n",
      "  ConvergenceWarning)\n",
      "C:\\Users\\anson\\Anaconda3\\lib\\site-packages\\sklearn\\linear_model\\coordinate_descent.py:492: ConvergenceWarning: Objective did not converge. You might want to increase the number of iterations. Fitting data with very small alpha may cause precision problems.\n",
      "  ConvergenceWarning)\n",
      "C:\\Users\\anson\\Anaconda3\\lib\\site-packages\\sklearn\\linear_model\\coordinate_descent.py:492: ConvergenceWarning: Objective did not converge. You might want to increase the number of iterations. Fitting data with very small alpha may cause precision problems.\n",
      "  ConvergenceWarning)\n",
      "C:\\Users\\anson\\Anaconda3\\lib\\site-packages\\sklearn\\linear_model\\coordinate_descent.py:492: ConvergenceWarning: Objective did not converge. You might want to increase the number of iterations. Fitting data with very small alpha may cause precision problems.\n",
      "  ConvergenceWarning)\n",
      "C:\\Users\\anson\\Anaconda3\\lib\\site-packages\\sklearn\\linear_model\\coordinate_descent.py:492: ConvergenceWarning: Objective did not converge. You might want to increase the number of iterations. Fitting data with very small alpha may cause precision problems.\n",
      "  ConvergenceWarning)\n",
      "C:\\Users\\anson\\Anaconda3\\lib\\site-packages\\sklearn\\linear_model\\coordinate_descent.py:492: ConvergenceWarning: Objective did not converge. You might want to increase the number of iterations. Fitting data with very small alpha may cause precision problems.\n",
      "  ConvergenceWarning)\n",
      "C:\\Users\\anson\\Anaconda3\\lib\\site-packages\\sklearn\\linear_model\\coordinate_descent.py:492: ConvergenceWarning: Objective did not converge. You might want to increase the number of iterations. Fitting data with very small alpha may cause precision problems.\n",
      "  ConvergenceWarning)\n",
      "C:\\Users\\anson\\Anaconda3\\lib\\site-packages\\sklearn\\linear_model\\coordinate_descent.py:492: ConvergenceWarning: Objective did not converge. You might want to increase the number of iterations. Fitting data with very small alpha may cause precision problems.\n",
      "  ConvergenceWarning)\n",
      "C:\\Users\\anson\\Anaconda3\\lib\\site-packages\\sklearn\\linear_model\\coordinate_descent.py:492: ConvergenceWarning: Objective did not converge. You might want to increase the number of iterations. Fitting data with very small alpha may cause precision problems.\n",
      "  ConvergenceWarning)\n",
      "C:\\Users\\anson\\Anaconda3\\lib\\site-packages\\sklearn\\linear_model\\coordinate_descent.py:492: ConvergenceWarning: Objective did not converge. You might want to increase the number of iterations. Fitting data with very small alpha may cause precision problems.\n",
      "  ConvergenceWarning)\n",
      "C:\\Users\\anson\\Anaconda3\\lib\\site-packages\\sklearn\\linear_model\\coordinate_descent.py:492: ConvergenceWarning: Objective did not converge. You might want to increase the number of iterations. Fitting data with very small alpha may cause precision problems.\n",
      "  ConvergenceWarning)\n",
      "C:\\Users\\anson\\Anaconda3\\lib\\site-packages\\sklearn\\linear_model\\coordinate_descent.py:492: ConvergenceWarning: Objective did not converge. You might want to increase the number of iterations. Fitting data with very small alpha may cause precision problems.\n",
      "  ConvergenceWarning)\n",
      "C:\\Users\\anson\\Anaconda3\\lib\\site-packages\\sklearn\\linear_model\\coordinate_descent.py:492: ConvergenceWarning: Objective did not converge. You might want to increase the number of iterations. Fitting data with very small alpha may cause precision problems.\n",
      "  ConvergenceWarning)\n",
      "C:\\Users\\anson\\Anaconda3\\lib\\site-packages\\sklearn\\linear_model\\coordinate_descent.py:492: ConvergenceWarning: Objective did not converge. You might want to increase the number of iterations. Fitting data with very small alpha may cause precision problems.\n",
      "  ConvergenceWarning)\n",
      "C:\\Users\\anson\\Anaconda3\\lib\\site-packages\\sklearn\\linear_model\\coordinate_descent.py:492: ConvergenceWarning: Objective did not converge. You might want to increase the number of iterations. Fitting data with very small alpha may cause precision problems.\n",
      "  ConvergenceWarning)\n",
      "C:\\Users\\anson\\Anaconda3\\lib\\site-packages\\sklearn\\linear_model\\coordinate_descent.py:492: ConvergenceWarning: Objective did not converge. You might want to increase the number of iterations. Fitting data with very small alpha may cause precision problems.\n",
      "  ConvergenceWarning)\n",
      "C:\\Users\\anson\\Anaconda3\\lib\\site-packages\\sklearn\\linear_model\\coordinate_descent.py:492: ConvergenceWarning: Objective did not converge. You might want to increase the number of iterations. Fitting data with very small alpha may cause precision problems.\n",
      "  ConvergenceWarning)\n"
     ]
    },
    {
     "data": {
      "image/png": "[encoded data removed]",
      "text/plain": [
       "<Figure size 1080x576 with 1 Axes>"
      ]
     },
     "metadata": {
      "needs_background": "light"
     },
     "output_type": "display_data"
    }
   ],
   "source": [
    "Lasso_plot(dm.drop('y', axis = 1), dm['y'], alphas = np.logspace(-4, -3.5, 30))"
   ]
  },
  {
   "cell_type": "code",
   "execution_count": 22,
   "metadata": {},
   "outputs": [],
   "source": [
    "df['X1c'] = df['X1c'].astype('category')\n",
    "df['X2c'] = df['X2c'].astype('category')"
   ]
  },
  {
   "cell_type": "code",
   "execution_count": 23,
   "metadata": {},
   "outputs": [
    {
     "data": {
      "text/html": [
       "<div>\n",
       "<style scoped>\n",
       "    .dataframe tbody tr th:only-of-type {\n",
       "        vertical-align: middle;\n",
       "    }\n",
       "\n",
       "    .dataframe tbody tr th {\n",
       "        vertical-align: top;\n",
       "    }\n",
       "\n",
       "    .dataframe thead th {\n",
       "        text-align: right;\n",
       "    }\n",
       "</style>\n",
       "<table border=\"1\" class=\"dataframe\">\n",
       "  <thead>\n",
       "    <tr style=\"text-align: right;\">\n",
       "      <th></th>\n",
       "      <th>Features</th>\n",
       "      <th>Importance</th>\n",
       "    </tr>\n",
       "  </thead>\n",
       "  <tbody>\n",
       "    <tr>\n",
       "      <th>1</th>\n",
       "      <td>X2</td>\n",
       "      <td>0.517908</td>\n",
       "    </tr>\n",
       "    <tr>\n",
       "      <th>0</th>\n",
       "      <td>X1</td>\n",
       "      <td>0.478373</td>\n",
       "    </tr>\n",
       "    <tr>\n",
       "      <th>2</th>\n",
       "      <td>X1c</td>\n",
       "      <td>0.002536</td>\n",
       "    </tr>\n",
       "    <tr>\n",
       "      <th>3</th>\n",
       "      <td>X2c</td>\n",
       "      <td>0.001183</td>\n",
       "    </tr>\n",
       "  </tbody>\n",
       "</table>\n",
       "</div>"
      ],
      "text/plain": [
       "  Features  Importance\n",
       "1       X2    0.517908\n",
       "0       X1    0.478373\n",
       "2      X1c    0.002536\n",
       "3      X2c    0.001183"
      ]
     },
     "execution_count": 23,
     "metadata": {},
     "output_type": "execute_result"
    }
   ],
   "source": [
    "Importance(df, ['X1', 'X2', 'X1c', 'X2c'], 'y',category = ['X1c', 'X2c'])"
   ]
  }
 ],
 "metadata": {
  "kernelspec": {
   "display_name": "Python 3",
   "language": "python",
   "name": "python3"
  },
  "language_info": {
   "codemirror_mode": {
    "name": "ipython",
    "version": 3
   },
   "file_extension": ".py",
   "mimetype": "text/x-python",
   "name": "python",
   "nbconvert_exporter": "python",
   "pygments_lexer": "ipython3",
   "version": "3.6.5"
  }
 },
 "nbformat": 4,
 "nbformat_minor": 2
}
