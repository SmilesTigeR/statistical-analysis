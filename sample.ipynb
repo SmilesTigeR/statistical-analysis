{
 "cells": [
  {
   "cell_type": "code",
   "execution_count": 1,
   "metadata": {},
   "outputs": [
    {
     "data": {
      "text/plain": [
       "RendererRegistry.enable('notebook')"
      ]
     },
     "execution_count": 1,
     "metadata": {},
     "output_type": "execute_result"
    }
   ],
   "source": [
    "from utils import LinearRegression\n",
    "import pandas as pd\n",
    "import altair as alt\n",
    "import numpy as np\n",
    "from statsmodels.graphics.gofplots import qqplot\n",
    "import matplotlib.pyplot as plt\n",
    "alt.renderers.enable('notebook')"
   ]
  },
  {
   "cell_type": "code",
   "execution_count": 2,
   "metadata": {},
   "outputs": [],
   "source": [
    "df = pd.DataFrame({'X1' : [1, 2, 2, 3, 3, 4, 5, 5, 5, 6, 7, 8, 8, 9, 9, 10, 11, 11, 11, 12],\n",
    "                   'X2' : [-1, 2, 2, 2, 2, 7, 7, 8, 8, 8, 3, 4, 4, 5, 6, 9, 10, 10, 11, 12],\n",
    "                   'X1c' : [0, 0, 0, 0, 0, 0, 0, 0, 0, 0, 1, 1, 1, 1, 1, 1, 1, 1, 1, 1],\n",
    "                   'X2c' : [0, 0, 0, 0, 0, 1, 1, 1, 1, 1, 0, 0, 0, 0, 0, 1, 1, 1, 1, 1],\n",
    "                   'y' : [-3, 7, 8, 5, 9, 20, 19, 19, 18, 20, 15, 15, 16, 18, 22, 32, 31, 34, 33, 37]})"
   ]
  },
  {
   "cell_type": "code",
   "execution_count": 3,
   "metadata": {},
   "outputs": [],
   "source": [
    "model = LinearRegression(df, fit_intercept = False)"
   ]
  },
  {
   "cell_type": "code",
   "execution_count": 4,
   "metadata": {},
   "outputs": [
    {
     "data": {
      "text/plain": [
       "<utils.LinearRegression at 0x1c8c442bb00>"
      ]
     },
     "execution_count": 4,
     "metadata": {},
     "output_type": "execute_result"
    }
   ],
   "source": [
    "model.fit(['X1'], 'y')"
   ]
  },
  {
   "cell_type": "code",
   "execution_count": 5,
   "metadata": {},
   "outputs": [
    {
     "name": "stdout",
     "output_type": "stream",
     "text": [
      "Factor              Coefficient         Pr(|t|>0)      \n",
      "X1                  2.8218              0.0000         \n",
      "------------------------------------------------------------\n",
      "Source            Sum of Square\n",
      "Total S.S.        9187.0000 \n",
      "Reg S.S.          8758.9236 \n",
      "Res S.S.          428.0764  \n",
      "F-value: 388.76135948556254\n",
      "Pr(F): 4.1300296516055823e-14\n",
      "------------------------------------------------------------\n",
      "R-squared: 0.9534041184677953\n",
      "Adjusted R-squared: 0.9509517036503109\n",
      "AIC: 63.27138651648068\n",
      "BIC: 64.26711879003467\n",
      " \n"
     ]
    }
   ],
   "source": [
    "model.summary()"
   ]
  },
  {
   "cell_type": "code",
   "execution_count": 6,
   "metadata": {},
   "outputs": [
    {
     "name": "stdout",
     "output_type": "stream",
     "text": [
      "Source              Sum of Square\n",
      "Lack of Fit         405.7430  \n",
      "Pure Error          22.3333   \n",
      "F-value: 13.21279881583819\n",
      "Pr(Lack of Fit): 0.0005810688528744556\n",
      "\n"
     ]
    }
   ],
   "source": [
    "model.lack_of_fit()"
   ]
  },
  {
   "cell_type": "code",
   "execution_count": 13,
   "metadata": {},
   "outputs": [
    {
     "name": "stdout",
     "output_type": "stream",
     "text": [
      "Test statistic: 388.76135948556254\n",
      "Pr: 4.1300296516055823e-14\n"
     ]
    }
   ],
   "source": [
    "model.hypothesis_testing([{'X1' : 1}], [0])"
   ]
  },
  {
   "cell_type": "code",
   "execution_count": 14,
   "metadata": {},
   "outputs": [
    {
     "data": {
      "text/plain": [
       "array([2.82181818, 5.64363636])"
      ]
     },
     "execution_count": 14,
     "metadata": {},
     "output_type": "execute_result"
    }
   ],
   "source": [
    "model.predict([[1], [2]])"
   ]
  },
  {
   "cell_type": "code",
   "execution_count": 15,
   "metadata": {},
   "outputs": [
    {
     "data": {
      "text/plain": [
       "[[-7.1174717755942805, 12.761108139230645],\n",
       " [-4.3091856489975475, 15.596458376270274]]"
      ]
     },
     "execution_count": 15,
     "metadata": {},
     "output_type": "execute_result"
    }
   ],
   "source": [
    "model.predict_interval([[1], [2]])"
   ]
  },
  {
   "cell_type": "code",
   "execution_count": 16,
   "metadata": {},
   "outputs": [
    {
     "data": {
      "text/plain": [
       "[[2.522273439667743, 3.1213629239686207],\n",
       " [5.044546879335486, 6.242725847937241]]"
      ]
     },
     "execution_count": 16,
     "metadata": {},
     "output_type": "execute_result"
    }
   ],
   "source": [
    "model.predict_interval([[1], [2]], mode = 'mean')"
   ]
  },
  {
   "cell_type": "code",
   "execution_count": 10,
   "metadata": {},
   "outputs": [
    {
     "name": "stdout",
     "output_type": "stream",
     "text": [
      "Test                               Test Statistic           Pr                  \n",
      "Shapiro-Wilk                       0.9253                   0.1252              \n",
      "Kolmogorov-Smirnov                 0.4750                   0.0001              \n",
      "D’Agostino’s K^2                   1.8528                   0.3960              \n"
     ]
    }
   ],
   "source": [
    "model.normal_test()"
   ]
  },
  {
   "cell_type": "code",
   "execution_count": 11,
   "metadata": {},
   "outputs": [
    {
     "data": {
      "application/javascript": [
       "var spec = {\"config\": {\"view\": {\"width\": 400, \"height\": 300}, \"mark\": {\"tooltip\": null}}, \"layer\": [{\"data\": {\"name\": \"data-9f2392512319f42d9abc6fc06f58d6aa\"}, \"mark\": \"line\", \"encoding\": {\"x\": {\"type\": \"quantitative\", \"field\": \"x\"}, \"y\": {\"type\": \"quantitative\", \"field\": \"y\"}}}, {\"data\": {\"name\": \"data-5b431b72801b00113c3a1b4dec8a3260\"}, \"mark\": \"point\", \"encoding\": {\"tooltip\": [{\"type\": \"quantitative\", \"field\": \"index\"}], \"x\": {\"type\": \"quantitative\", \"field\": \"quantile\", \"title\": \"Quantile\"}, \"y\": {\"type\": \"quantitative\", \"field\": \"residual\", \"title\": \"Residual\"}}, \"title\": \"Normal plot\"}], \"$schema\": \"https://vega.github.io/schema/vega-lite/v3.3.0.json\", \"datasets\": {\"data-9f2392512319f42d9abc6fc06f58d6aa\": [{\"x\": -2.0599639845400546, \"y\": -9.497392349765002}, {\"x\": -2.0187647048492536, \"y\": -9.307444502769703}, {\"x\": -1.9775654251584527, \"y\": -9.117496655774403}, {\"x\": -1.9363661454676517, \"y\": -8.927548808779104}, {\"x\": -1.8951668657768508, \"y\": -8.737600961783805}, {\"x\": -1.8539675860860498, \"y\": -8.547653114788504}, {\"x\": -1.8127683063952489, \"y\": -8.357705267793206}, {\"x\": -1.771569026704448, \"y\": -8.167757420797907}, {\"x\": -1.730369747013647, \"y\": -7.977809573802607}, {\"x\": -1.689170467322846, \"y\": -7.787861726807308}, {\"x\": -1.647971187632045, \"y\": -7.597913879812008}, {\"x\": -1.6067719079412441, \"y\": -7.4079660328167085}, {\"x\": -1.5655726282504432, \"y\": -7.21801818582141}, {\"x\": -1.5243733485596422, \"y\": -7.02807033882611}, {\"x\": -1.4831740688688413, \"y\": -6.838122491830811}, {\"x\": -1.4419747891780403, \"y\": -6.648174644835511}, {\"x\": -1.4007755094872394, \"y\": -6.458226797840212}, {\"x\": -1.3595762297964384, \"y\": -6.268278950844913}, {\"x\": -1.3183769501056375, \"y\": -6.078331103849613}, {\"x\": -1.2771776704148365, \"y\": -5.888383256854314}, {\"x\": -1.2359783907240356, \"y\": -5.698435409859014}, {\"x\": -1.1947791110332346, \"y\": -5.508487562863715}, {\"x\": -1.1535798313424337, \"y\": -5.318539715868416}, {\"x\": -1.1123805516516327, \"y\": -5.128591868873116}, {\"x\": -1.0711812719608318, \"y\": -4.938644021877817}, {\"x\": -1.0299819922700308, \"y\": -4.748696174882517}, {\"x\": -0.9887827125792299, \"y\": -4.558748327887218}, {\"x\": -0.947583432888429, \"y\": -4.3688004808919185}, {\"x\": -0.906384153197628, \"y\": -4.17885263389662}, {\"x\": -0.865184873506827, \"y\": -3.98890478690132}, {\"x\": -0.8239855938160261, \"y\": -3.7989569399060206}, {\"x\": -0.7827863141252251, \"y\": -3.6090090929107213}, {\"x\": -0.7415870344344242, \"y\": -3.419061245915422}, {\"x\": -0.7003877547436232, \"y\": -3.229113398920122}, {\"x\": -0.6591884750528223, \"y\": -3.039165551924823}, {\"x\": -0.6179891953620213, \"y\": -2.8492177049295235}, {\"x\": -0.5767899156712204, \"y\": -2.659269857934224}, {\"x\": -0.5355906359804194, \"y\": -2.469322010938925}, {\"x\": -0.4943913562896185, \"y\": -2.2793741639436256}, {\"x\": -0.45319207659881755, \"y\": -2.089426316948326}, {\"x\": -0.4119927969080166, \"y\": -1.8994784699530267}, {\"x\": -0.37079351721721565, \"y\": -1.7095306229577272}, {\"x\": -0.3295942375264147, \"y\": -1.5195827759624279}, {\"x\": -0.28839495783561375, \"y\": -1.3296349289671285}, {\"x\": -0.2471956781448128, \"y\": -1.139687081971829}, {\"x\": -0.20599639845401185, \"y\": -0.9497392349765297}, {\"x\": -0.1647971187632109, \"y\": -0.7597913879812304}, {\"x\": -0.12359783907240995, \"y\": -0.5698435409859309}, {\"x\": -0.082398559381609, \"y\": -0.37989569399063156}, {\"x\": -0.041199279690808055, \"y\": -0.18994784699533215}, {\"x\": -7.105427357601002e-15, \"y\": -3.2759325859261666e-14}, {\"x\": 0.041199279690793844, \"y\": 0.18994784699526662}, {\"x\": 0.0823985593815948, \"y\": 0.379895693990566}, {\"x\": 0.12359783907239574, \"y\": 0.5698435409858654}, {\"x\": 0.1647971187631967, \"y\": 0.7597913879811647}, {\"x\": 0.20599639845399764, \"y\": 0.9497392349764642}, {\"x\": 0.2471956781447986, \"y\": 1.1396870819717635}, {\"x\": 0.28839495783559954, \"y\": 1.329634928967063}, {\"x\": 0.3295942375264005, \"y\": 1.5195827759623624}, {\"x\": 0.37079351721720144, \"y\": 1.7095306229576617}, {\"x\": 0.4119927969080024, \"y\": 1.8994784699529612}, {\"x\": 0.45319207659880334, \"y\": 2.0894263169482605}, {\"x\": 0.4943913562896043, \"y\": 2.27937416394356}, {\"x\": 0.5355906359804052, \"y\": 2.469322010938859}, {\"x\": 0.5767899156712062, \"y\": 2.6592698579341585}, {\"x\": 0.6179891953620071, \"y\": 2.8492177049294583}, {\"x\": 0.6591884750528081, \"y\": 3.0391655519247576}, {\"x\": 0.700387754743609, \"y\": 3.229113398920057}, {\"x\": 0.74158703443441, \"y\": 3.419061245915356}, {\"x\": 0.7827863141252109, \"y\": 3.6090090929106555}, {\"x\": 0.8239855938160119, \"y\": 3.798956939905955}, {\"x\": 0.8651848735068128, \"y\": 3.988904786901254}, {\"x\": 0.9063841531976138, \"y\": 4.178852633896554}, {\"x\": 0.9475834328884147, \"y\": 4.368800480891853}, {\"x\": 0.9887827125792157, \"y\": 4.558748327887153}, {\"x\": 1.0299819922700166, \"y\": 4.748696174882452}, {\"x\": 1.0711812719608176, \"y\": 4.938644021877751}, {\"x\": 1.1123805516516185, \"y\": 5.128591868873051}, {\"x\": 1.1535798313424195, \"y\": 5.31853971586835}, {\"x\": 1.1947791110332204, \"y\": 5.50848756286365}, {\"x\": 1.2359783907240214, \"y\": 5.6984354098589485}, {\"x\": 1.2771776704148223, \"y\": 5.888383256854248}, {\"x\": 1.3183769501056233, \"y\": 6.078331103849548}, {\"x\": 1.3595762297964242, \"y\": 6.268278950844847}, {\"x\": 1.4007755094872252, \"y\": 6.458226797840147}, {\"x\": 1.4419747891780261, \"y\": 6.6481746448354455}, {\"x\": 1.483174068868827, \"y\": 6.838122491830745}, {\"x\": 1.524373348559628, \"y\": 7.028070338826044}, {\"x\": 1.565572628250429, \"y\": 7.218018185821344}, {\"x\": 1.60677190794123, \"y\": 7.407966032816644}, {\"x\": 1.6479711876320309, \"y\": 7.5979138798119426}, {\"x\": 1.6891704673228318, \"y\": 7.787861726807242}, {\"x\": 1.7303697470136328, \"y\": 7.977809573802541}, {\"x\": 1.7715690267044337, \"y\": 8.167757420797841}, {\"x\": 1.8127683063952347, \"y\": 8.35770526779314}, {\"x\": 1.8539675860860356, \"y\": 8.54765311478844}, {\"x\": 1.8951668657768366, \"y\": 8.73760096178374}, {\"x\": 1.9363661454676375, \"y\": 8.927548808779038}, {\"x\": 1.9775654251584385, \"y\": 9.117496655774337}, {\"x\": 2.0187647048492394, \"y\": 9.307444502769638}, {\"x\": 2.0599639845400404, \"y\": 9.497392349764937}], \"data-5b431b72801b00113c3a1b4dec8a3260\": [{\"residual\": -7.574545454545454, \"index\": 11, \"quantile\": -1.9599639845400545}, {\"residual\": -7.396363636363635, \"index\": 13, \"quantile\": -1.4395314709384563}, {\"residual\": -6.574545454545454, \"index\": 12, \"quantile\": -1.1503493803760079}, {\"residual\": -5.821818181818182, \"index\": 0, \"quantile\": -0.9345892910734802}, {\"residual\": -4.752727272727274, \"index\": 10, \"quantile\": -0.7554150263604693}, {\"residual\": -3.465454545454545, \"index\": 3, \"quantile\": -0.5977601260424784}, {\"residual\": -3.3963636363636347, \"index\": 14, \"quantile\": -0.45376219016987945}, {\"residual\": -0.03999999999999915, \"index\": 16, \"quantile\": -0.31863936396437514}, {\"residual\": 0.5345454545454551, \"index\": 4, \"quantile\": -0.18911842627279252}, {\"residual\": 1.3563636363636364, \"index\": 1, \"quantile\": -0.06270677794321385}, {\"residual\": 1.9600000000000009, \"index\": 18, \"quantile\": 0.06270677794321385}, {\"residual\": 2.3563636363636364, \"index\": 2, \"quantile\": 0.18911842627279238}, {\"residual\": 2.960000000000001, \"index\": 17, \"quantile\": 0.31863936396437514}, {\"residual\": 3.06909090909091, \"index\": 9, \"quantile\": 0.45376219016987956}, {\"residual\": 3.1381818181818204, \"index\": 19, \"quantile\": 0.5977601260424784}, {\"residual\": 3.7818181818181813, \"index\": 15, \"quantile\": 0.7554150263604693}, {\"residual\": 3.8909090909090907, \"index\": 8, \"quantile\": 0.93458929107348}, {\"residual\": 4.890909090909091, \"index\": 7, \"quantile\": 1.1503493803760079}, {\"residual\": 4.890909090909091, \"index\": 6, \"quantile\": 1.4395314709384563}, {\"residual\": 8.712727272727273, \"index\": 5, \"quantile\": 1.959963984540054}]}};\n",
       "var opt = {};\n",
       "var type = \"vega-lite\";\n",
       "var id = \"684d11f9-65bf-4560-8b00-e9dc00058895\";\n",
       "\n",
       "var output_area = this;\n",
       "\n",
       "require([\"nbextensions/jupyter-vega/index\"], function(vega) {\n",
       "  var target = document.createElement(\"div\");\n",
       "  target.id = id;\n",
       "  target.className = \"vega-embed\";\n",
       "\n",
       "  var style = document.createElement(\"style\");\n",
       "  style.textContent = [\n",
       "    \".vega-embed .error p {\",\n",
       "    \"  color: firebrick;\",\n",
       "    \"  font-size: 14px;\",\n",
       "    \"}\",\n",
       "  ].join(\"\\\\n\");\n",
       "\n",
       "  // element is a jQuery wrapped DOM element inside the output area\n",
       "  // see http://ipython.readthedocs.io/en/stable/api/generated/\\\n",
       "  // IPython.display.html#IPython.display.Javascript.__init__\n",
       "  element[0].appendChild(target);\n",
       "  element[0].appendChild(style);\n",
       "\n",
       "  vega.render(\"#\" + id, spec, type, opt, output_area);\n",
       "}, function (err) {\n",
       "  if (err.requireType !== \"scripterror\") {\n",
       "    throw(err);\n",
       "  }\n",
       "});\n"
      ],
      "text/plain": [
       "<vega.vegalite.VegaLite at 0x1c8c28a7c88>"
      ]
     },
     "metadata": {
      "jupyter-vega": "#684d11f9-65bf-4560-8b00-e9dc00058895"
     },
     "output_type": "display_data"
    },
    {
     "data": {
      "text/plain": []
     },
     "execution_count": 11,
     "metadata": {},
     "output_type": "execute_result"
    },
    {
     "data": {
      "image/png": "[encoded data removed]"
     },
     "metadata": {
      "jupyter-vega": "#684d11f9-65bf-4560-8b00-e9dc00058895"
     },
     "output_type": "display_data"
    }
   ],
   "source": [
    "model.normal_plot()"
   ]
  },
  {
   "cell_type": "code",
   "execution_count": 12,
   "metadata": {},
   "outputs": [
    {
     "data": {
      "application/javascript": [
       "var spec = {\"config\": {\"view\": {\"width\": 400, \"height\": 300}, \"mark\": {\"tooltip\": null}}, \"layer\": [{\"data\": {\"name\": \"data-04d5576af35a1d79abcbfa9167ce3902\"}, \"mark\": \"line\", \"encoding\": {\"x\": {\"type\": \"quantitative\", \"field\": \"x\"}, \"y\": {\"type\": \"quantitative\", \"field\": \"y\"}}}, {\"data\": {\"name\": \"data-11a1d6866ee365814c63058f98b8d661\"}, \"mark\": \"point\", \"encoding\": {\"tooltip\": [{\"type\": \"quantitative\", \"field\": \"index\"}], \"x\": {\"type\": \"quantitative\", \"field\": \"predict\", \"title\": \"Predicted\"}, \"y\": {\"type\": \"quantitative\", \"field\": \"residual\", \"title\": \"Standardised residual\"}}, \"title\": \"Residual plot\"}], \"$schema\": \"https://vega.github.io/schema/vega-lite/v3.3.0.json\", \"datasets\": {\"data-04d5576af35a1d79abcbfa9167ce3902\": [{\"x\": 2.7218181818181817, \"y\": 0}, {\"x\": 3.034218181818182, \"y\": 0}, {\"x\": 3.346618181818182, \"y\": 0}, {\"x\": 3.6590181818181824, \"y\": 0}, {\"x\": 3.9714181818181826, \"y\": 0}, {\"x\": 4.283818181818183, \"y\": 0}, {\"x\": 4.596218181818183, \"y\": 0}, {\"x\": 4.908618181818183, \"y\": 0}, {\"x\": 5.221018181818184, \"y\": 0}, {\"x\": 5.533418181818184, \"y\": 0}, {\"x\": 5.845818181818184, \"y\": 0}, {\"x\": 6.158218181818184, \"y\": 0}, {\"x\": 6.4706181818181845, \"y\": 0}, {\"x\": 6.783018181818185, \"y\": 0}, {\"x\": 7.095418181818185, \"y\": 0}, {\"x\": 7.407818181818185, \"y\": 0}, {\"x\": 7.720218181818185, \"y\": 0}, {\"x\": 8.032618181818187, \"y\": 0}, {\"x\": 8.345018181818187, \"y\": 0}, {\"x\": 8.657418181818187, \"y\": 0}, {\"x\": 8.969818181818187, \"y\": 0}, {\"x\": 9.282218181818187, \"y\": 0}, {\"x\": 9.594618181818188, \"y\": 0}, {\"x\": 9.907018181818188, \"y\": 0}, {\"x\": 10.219418181818188, \"y\": 0}, {\"x\": 10.531818181818188, \"y\": 0}, {\"x\": 10.844218181818189, \"y\": 0}, {\"x\": 11.156618181818189, \"y\": 0}, {\"x\": 11.469018181818189, \"y\": 0}, {\"x\": 11.78141818181819, \"y\": 0}, {\"x\": 12.09381818181819, \"y\": 0}, {\"x\": 12.40621818181819, \"y\": 0}, {\"x\": 12.71861818181819, \"y\": 0}, {\"x\": 13.03101818181819, \"y\": 0}, {\"x\": 13.34341818181819, \"y\": 0}, {\"x\": 13.65581818181819, \"y\": 0}, {\"x\": 13.968218181818191, \"y\": 0}, {\"x\": 14.280618181818191, \"y\": 0}, {\"x\": 14.593018181818191, \"y\": 0}, {\"x\": 14.905418181818192, \"y\": 0}, {\"x\": 15.217818181818192, \"y\": 0}, {\"x\": 15.530218181818192, \"y\": 0}, {\"x\": 15.842618181818192, \"y\": 0}, {\"x\": 16.155018181818193, \"y\": 0}, {\"x\": 16.467418181818193, \"y\": 0}, {\"x\": 16.779818181818193, \"y\": 0}, {\"x\": 17.092218181818193, \"y\": 0}, {\"x\": 17.404618181818194, \"y\": 0}, {\"x\": 17.717018181818194, \"y\": 0}, {\"x\": 18.029418181818194, \"y\": 0}, {\"x\": 18.341818181818194, \"y\": 0}, {\"x\": 18.654218181818194, \"y\": 0}, {\"x\": 18.966618181818195, \"y\": 0}, {\"x\": 19.279018181818195, \"y\": 0}, {\"x\": 19.591418181818195, \"y\": 0}, {\"x\": 19.903818181818195, \"y\": 0}, {\"x\": 20.216218181818196, \"y\": 0}, {\"x\": 20.528618181818196, \"y\": 0}, {\"x\": 20.841018181818196, \"y\": 0}, {\"x\": 21.153418181818196, \"y\": 0}, {\"x\": 21.465818181818197, \"y\": 0}, {\"x\": 21.778218181818197, \"y\": 0}, {\"x\": 22.090618181818197, \"y\": 0}, {\"x\": 22.403018181818197, \"y\": 0}, {\"x\": 22.715418181818197, \"y\": 0}, {\"x\": 23.027818181818198, \"y\": 0}, {\"x\": 23.340218181818198, \"y\": 0}, {\"x\": 23.652618181818198, \"y\": 0}, {\"x\": 23.9650181818182, \"y\": 0}, {\"x\": 24.2774181818182, \"y\": 0}, {\"x\": 24.5898181818182, \"y\": 0}, {\"x\": 24.9022181818182, \"y\": 0}, {\"x\": 25.2146181818182, \"y\": 0}, {\"x\": 25.5270181818182, \"y\": 0}, {\"x\": 25.8394181818182, \"y\": 0}, {\"x\": 26.1518181818182, \"y\": 0}, {\"x\": 26.4642181818182, \"y\": 0}, {\"x\": 26.7766181818182, \"y\": 0}, {\"x\": 27.0890181818182, \"y\": 0}, {\"x\": 27.4014181818182, \"y\": 0}, {\"x\": 27.7138181818182, \"y\": 0}, {\"x\": 28.0262181818182, \"y\": 0}, {\"x\": 28.3386181818182, \"y\": 0}, {\"x\": 28.651018181818202, \"y\": 0}, {\"x\": 28.963418181818202, \"y\": 0}, {\"x\": 29.275818181818202, \"y\": 0}, {\"x\": 29.588218181818203, \"y\": 0}, {\"x\": 29.900618181818203, \"y\": 0}, {\"x\": 30.213018181818203, \"y\": 0}, {\"x\": 30.525418181818203, \"y\": 0}, {\"x\": 30.837818181818204, \"y\": 0}, {\"x\": 31.150218181818204, \"y\": 0}, {\"x\": 31.462618181818204, \"y\": 0}, {\"x\": 31.775018181818204, \"y\": 0}, {\"x\": 32.0874181818182, \"y\": 0}, {\"x\": 32.399818181818205, \"y\": 0}, {\"x\": 32.7122181818182, \"y\": 0}, {\"x\": 33.024618181818205, \"y\": 0}, {\"x\": 33.3370181818182, \"y\": 0}, {\"x\": 33.649418181818206, \"y\": 0}], \"data-11a1d6866ee365814c63058f98b8d661\": [{\"residual\": -1.2265205078744452, \"predict\": 2.821818181818182, \"index\": 0}, {\"residual\": 0.2857539971500113, \"predict\": 5.643636363636364, \"index\": 1}, {\"residual\": 0.49643053660377295, \"predict\": 5.643636363636364, \"index\": 2}, {\"residual\": -0.7300899712706721, \"predict\": 8.465454545454545, \"index\": 3}, {\"residual\": 0.11261618654437454, \"predict\": 8.465454545454545, \"index\": 4}, {\"residual\": 1.8355672310225926, \"predict\": 11.287272727272727, \"index\": 5}, {\"residual\": 1.0303998020556706, \"predict\": 14.10909090909091, \"index\": 6}, {\"residual\": 1.0303998020556706, \"predict\": 14.10909090909091, \"index\": 7}, {\"residual\": 0.819723262601909, \"predict\": 14.10909090909091, \"index\": 8}, {\"residual\": 0.6465854519962724, \"predict\": 16.93090909090909, \"index\": 9}, {\"residual\": -1.0012881347856966, \"predict\": 19.752727272727274, \"index\": 10}, {\"residual\": -1.5957790242988565, \"predict\": 22.574545454545454, \"index\": 11}, {\"residual\": -1.3851024848450948, \"predict\": 22.574545454545454, \"index\": 12}, {\"residual\": -1.5582402954507315, \"predict\": 25.396363636363635, \"index\": 13}, {\"residual\": -0.7155341376356847, \"predict\": 25.396363636363635, \"index\": 14}, {\"residual\": 0.7967403673887713, \"predict\": 28.21818181818182, \"index\": 15}, {\"residual\": -0.008427061578150288, \"predict\": 31.04, \"index\": 16}, {\"residual\": 0.6236025567831347, \"predict\": 31.04, \"index\": 17}, {\"residual\": 0.41292601732937306, \"predict\": 31.04, \"index\": 18}, {\"residual\": 0.6611412856312598, \"predict\": 33.86181818181818, \"index\": 19}]}};\n",
       "var opt = {};\n",
       "var type = \"vega-lite\";\n",
       "var id = \"f7b498be-8a23-4c5b-9d6f-4aea8e891872\";\n",
       "\n",
       "var output_area = this;\n",
       "\n",
       "require([\"nbextensions/jupyter-vega/index\"], function(vega) {\n",
       "  var target = document.createElement(\"div\");\n",
       "  target.id = id;\n",
       "  target.className = \"vega-embed\";\n",
       "\n",
       "  var style = document.createElement(\"style\");\n",
       "  style.textContent = [\n",
       "    \".vega-embed .error p {\",\n",
       "    \"  color: firebrick;\",\n",
       "    \"  font-size: 14px;\",\n",
       "    \"}\",\n",
       "  ].join(\"\\\\n\");\n",
       "\n",
       "  // element is a jQuery wrapped DOM element inside the output area\n",
       "  // see http://ipython.readthedocs.io/en/stable/api/generated/\\\n",
       "  // IPython.display.html#IPython.display.Javascript.__init__\n",
       "  element[0].appendChild(target);\n",
       "  element[0].appendChild(style);\n",
       "\n",
       "  vega.render(\"#\" + id, spec, type, opt, output_area);\n",
       "}, function (err) {\n",
       "  if (err.requireType !== \"scripterror\") {\n",
       "    throw(err);\n",
       "  }\n",
       "});\n"
      ],
      "text/plain": [
       "<vega.vegalite.VegaLite at 0x1c8c449bdd8>"
      ]
     },
     "metadata": {
      "jupyter-vega": "#f7b498be-8a23-4c5b-9d6f-4aea8e891872"
     },
     "output_type": "display_data"
    },
    {
     "data": {
      "text/plain": []
     },
     "execution_count": 12,
     "metadata": {},
     "output_type": "execute_result"
    },
    {
     "data": {
      "image/png": "[encoded data removed]"
     },
     "metadata": {
      "jupyter-vega": "#f7b498be-8a23-4c5b-9d6f-4aea8e891872"
     },
     "output_type": "display_data"
    }
   ],
   "source": [
    "model.residual_plot()"
   ]
  },
  {
   "cell_type": "code",
   "execution_count": 17,
   "metadata": {},
   "outputs": [
    {
     "data": {
      "text/plain": [
       "array([-5.82181818,  1.35636364,  2.35636364, -3.46545455,  0.53454545,\n",
       "        8.71272727,  4.89090909,  4.89090909,  3.89090909,  3.06909091,\n",
       "       -4.75272727, -7.57454545, -6.57454545, -7.39636364, -3.39636364,\n",
       "        3.78181818, -0.04      ,  2.96      ,  1.96      ,  3.13818182])"
      ]
     },
     "execution_count": 17,
     "metadata": {},
     "output_type": "execute_result"
    }
   ],
   "source": [
    "model.residual()"
   ]
  },
  {
   "cell_type": "code",
   "execution_count": null,
   "metadata": {},
   "outputs": [],
   "source": []
  }
 ],
 "metadata": {
  "kernelspec": {
   "display_name": "Python 3",
   "language": "python",
   "name": "python3"
  },
  "language_info": {
   "codemirror_mode": {
    "name": "ipython",
    "version": 3
   },
   "file_extension": ".py",
   "mimetype": "text/x-python",
   "name": "python",
   "nbconvert_exporter": "python",
   "pygments_lexer": "ipython3",
   "version": "3.6.5"
  }
 },
 "nbformat": 4,
 "nbformat_minor": 2
}
