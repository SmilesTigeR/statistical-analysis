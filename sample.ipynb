{
 "cells": [
  {
   "cell_type": "code",
   "execution_count": 1,
   "metadata": {},
   "outputs": [
    {
     "data": {
      "text/plain": [
       "RendererRegistry.enable('notebook')"
      ]
     },
     "execution_count": 1,
     "metadata": {},
     "output_type": "execute_result"
    }
   ],
   "source": [
    "from library.regression import LinearRegression\n",
    "from library.selection import BackwardSelection\n",
    "from library.selection import ForwardSelection\n",
    "from library.selection import StepwiseSelection\n",
    "import pandas as pd\n",
    "import altair as alt\n",
    "alt.renderers.enable('notebook')"
   ]
  },
  {
   "cell_type": "code",
   "execution_count": 2,
   "metadata": {},
   "outputs": [],
   "source": [
    "df = pd.DataFrame({'X1' : [1, 2, 2, 3, 3, 4, 5, 5, 5, 6, 7, 8, 8, 9, 9, 10, 11, 11, 11, 12],\n",
    "                   'X2' : [-1, 2, 2, 2, 2, 7, 7, 8, 8, 8, 3, 4, 4, 5, 6, 9, 10, 10, 11, 12],\n",
    "                   'X1c' : [0, 0, 0, 0, 0, 0, 0, 0, 0, 0, 1, 1, 1, 1, 1, 1, 1, 1, 1, 1],\n",
    "                   'X2c' : [0, 0, 0, 0, 0, 1, 1, 1, 1, 1, 0, 0, 0, 0, 0, 1, 1, 1, 1, 1],\n",
    "                   'y' : [-3, 7, 8, 5, 9, 20, 19, 19, 18, 20, 15, 15, 16, 18, 22, 32, 31, 34, 33, 37]})"
   ]
  },
  {
   "cell_type": "markdown",
   "metadata": {},
   "source": [
    "# **Linear Regression Model**"
   ]
  },
  {
   "cell_type": "code",
   "execution_count": 3,
   "metadata": {},
   "outputs": [],
   "source": [
    "model = LinearRegression(df, fit_intercept = False)"
   ]
  },
  {
   "cell_type": "code",
   "execution_count": 4,
   "metadata": {},
   "outputs": [
    {
     "data": {
      "text/plain": [
       "<library.regression.LinearRegression at 0x265f0ca2780>"
      ]
     },
     "execution_count": 4,
     "metadata": {},
     "output_type": "execute_result"
    }
   ],
   "source": [
    "model.fit(['X1', 'X2'], 'y', ascending = False)"
   ]
  },
  {
   "cell_type": "code",
   "execution_count": 5,
   "metadata": {
    "scrolled": true
   },
   "outputs": [
    {
     "name": "stdout",
     "output_type": "stream",
     "text": [
      "Factor                                                 Coefficient         Pr(|t|>0)           VIF            \n",
      "X1                                                     1.1568              0.0000              2.4789         \n",
      "X2                                                     1.8901              0.0000              2.4789         \n",
      "------------------------------------------------------------------------------------------------------------------------\n",
      "Source            Sum of Square\n",
      "Total S.S.        9187.0000 \n",
      "Reg S.S.          9121.1839 \n",
      "Res S.S.          65.8161   \n",
      "F-value: 1247.2726439553076\n",
      "Pr(F): 1.1102230246251565e-16\n",
      "------------------------------------------------------------------------------------------------------------------------\n",
      "R-squared: 0.9928359500278029\n",
      "Adjusted R-squared: 0.9920399444753365\n",
      "AIC: 27.822652547394142\n",
      "BIC: 29.814117094502123\n",
      " \n"
     ]
    }
   ],
   "source": [
    "model.summary(VIF = True)"
   ]
  },
  {
   "cell_type": "code",
   "execution_count": 6,
   "metadata": {},
   "outputs": [
    {
     "name": "stdout",
     "output_type": "stream",
     "text": [
      "Source              Sum of Square\n",
      "Lack of Fit         51.8161   \n",
      "Pure Error          14.0000   \n",
      "F-value: 1.4235199751256806\n",
      "Pr(Lack of Fit): 0.3684651044625735\n",
      "\n"
     ]
    }
   ],
   "source": [
    "model.lack_of_fit()"
   ]
  },
  {
   "cell_type": "code",
   "execution_count": 7,
   "metadata": {},
   "outputs": [
    {
     "name": "stdout",
     "output_type": "stream",
     "text": [
      "Test statistic: 42.742953818019345\n",
      "Pr: 3.8179628609746885e-06\n"
     ]
    }
   ],
   "source": [
    "model.hypothesis_testing([{'X1' : 1}], [0])"
   ]
  },
  {
   "cell_type": "code",
   "execution_count": 8,
   "metadata": {},
   "outputs": [
    {
     "data": {
      "text/plain": [
       "array([1.15677924])"
      ]
     },
     "execution_count": 8,
     "metadata": {},
     "output_type": "execute_result"
    }
   ],
   "source": [
    "model.predict([{'X1' : 1}])"
   ]
  },
  {
   "cell_type": "code",
   "execution_count": 9,
   "metadata": {},
   "outputs": [
    {
     "data": {
      "text/plain": [
       "[[-2.877734066852578, 5.191292553121943]]"
      ]
     },
     "execution_count": 9,
     "metadata": {},
     "output_type": "execute_result"
    }
   ],
   "source": [
    "model.predict_interval([{'X1' : 1}])"
   ]
  },
  {
   "cell_type": "code",
   "execution_count": 10,
   "metadata": {},
   "outputs": [
    {
     "data": {
      "text/plain": [
       "[[0.7850487750021438, 1.528509711267221]]"
      ]
     },
     "execution_count": 10,
     "metadata": {},
     "output_type": "execute_result"
    }
   ],
   "source": [
    "model.predict_interval([{'X1' : 1}], mode = 'mean')"
   ]
  },
  {
   "cell_type": "code",
   "execution_count": 11,
   "metadata": {},
   "outputs": [
    {
     "name": "stdout",
     "output_type": "stream",
     "text": [
      "Test                               Test Statistic           Pr                  \n",
      "Shapiro-Wilk                       0.9475                   0.3302              \n",
      "Kolmogorov-Smirnov                 0.3152                   0.0289              \n",
      "D’Agostino’s K^2                   2.4317                   0.2965              \n"
     ]
    }
   ],
   "source": [
    "model.normal_test()"
   ]
  },
  {
   "cell_type": "code",
   "execution_count": 12,
   "metadata": {},
   "outputs": [
    {
     "data": {
      "application/javascript": [
       "var spec = {\"config\": {\"view\": {\"width\": 400, \"height\": 300}, \"mark\": {\"tooltip\": null}}, \"layer\": [{\"data\": {\"name\": \"data-e0611d32d6463659c3d37d2b7760c15b\"}, \"mark\": \"line\", \"encoding\": {\"x\": {\"type\": \"quantitative\", \"field\": \"x\"}, \"y\": {\"type\": \"quantitative\", \"field\": \"y\"}}}, {\"data\": {\"name\": \"data-49aaa293c3dc487b86875c35f21a863e\"}, \"mark\": \"point\", \"encoding\": {\"tooltip\": [{\"type\": \"quantitative\", \"field\": \"index\"}], \"x\": {\"type\": \"quantitative\", \"field\": \"quantile\", \"title\": \"Quantile\"}, \"y\": {\"type\": \"quantitative\", \"field\": \"residual\", \"title\": \"Residual\"}}, \"title\": \"Normal plot\"}], \"$schema\": \"https://vega.github.io/schema/vega-lite/v3.3.0.json\", \"datasets\": {\"data-e0611d32d6463659c3d37d2b7760c15b\": [{\"x\": -2.0599639845400546, \"y\": -3.7619950844506844}, {\"x\": -2.0187647048492536, \"y\": -3.686755182761671}, {\"x\": -1.9775654251584527, \"y\": -3.6115152810726574}, {\"x\": -1.9363661454676517, \"y\": -3.536275379383644}, {\"x\": -1.8951668657768508, \"y\": -3.4610354776946304}, {\"x\": -1.8539675860860498, \"y\": -3.3857955760056173}, {\"x\": -1.8127683063952489, \"y\": -3.310555674316604}, {\"x\": -1.771569026704448, \"y\": -3.2353157726275903}, {\"x\": -1.730369747013647, \"y\": -3.160075870938577}, {\"x\": -1.689170467322846, \"y\": -3.0848359692495633}, {\"x\": -1.647971187632045, \"y\": -3.00959606756055}, {\"x\": -1.6067719079412441, \"y\": -2.9343561658715367}, {\"x\": -1.5655726282504432, \"y\": -2.859116264182523}, {\"x\": -1.5243733485596422, \"y\": -2.7838763624935097}, {\"x\": -1.4831740688688413, \"y\": -2.708636460804496}, {\"x\": -1.4419747891780403, \"y\": -2.633396559115483}, {\"x\": -1.4007755094872394, \"y\": -2.5581566574264696}, {\"x\": -1.3595762297964384, \"y\": -2.482916755737456}, {\"x\": -1.3183769501056375, \"y\": -2.4076768540484426}, {\"x\": -1.2771776704148365, \"y\": -2.332436952359429}, {\"x\": -1.2359783907240356, \"y\": -2.257197050670416}, {\"x\": -1.1947791110332346, \"y\": -2.1819571489814025}, {\"x\": -1.1535798313424337, \"y\": -2.106717247292389}, {\"x\": -1.1123805516516327, \"y\": -2.0314773456033755}, {\"x\": -1.0711812719608318, \"y\": -1.9562374439143622}, {\"x\": -1.0299819922700308, \"y\": -1.8809975422253487}, {\"x\": -0.9887827125792299, \"y\": -1.8057576405363351}, {\"x\": -0.947583432888429, \"y\": -1.7305177388473219}, {\"x\": -0.906384153197628, \"y\": -1.6552778371583083}, {\"x\": -0.865184873506827, \"y\": -1.5800379354692948}, {\"x\": -0.8239855938160261, \"y\": -1.5047980337802815}, {\"x\": -0.7827863141252251, \"y\": -1.429558132091268}, {\"x\": -0.7415870344344242, \"y\": -1.3543182304022547}, {\"x\": -0.7003877547436232, \"y\": -1.2790783287132412}, {\"x\": -0.6591884750528223, \"y\": -1.2038384270242277}, {\"x\": -0.6179891953620213, \"y\": -1.1285985253352144}, {\"x\": -0.5767899156712204, \"y\": -1.053358623646201}, {\"x\": -0.5355906359804194, \"y\": -0.9781187219571875}, {\"x\": -0.4943913562896185, \"y\": -0.9028788202681741}, {\"x\": -0.45319207659881755, \"y\": -0.8276389185791607}, {\"x\": -0.4119927969080166, \"y\": -0.7523990168901472}, {\"x\": -0.37079351721721565, \"y\": -0.6771591152011338}, {\"x\": -0.3295942375264147, \"y\": -0.6019192135121204}, {\"x\": -0.28839495783561375, \"y\": -0.526679311823107}, {\"x\": -0.2471956781448128, \"y\": -0.45143941013409356}, {\"x\": -0.20599639845401185, \"y\": -0.3761995084450801}, {\"x\": -0.1647971187632109, \"y\": -0.3009596067560667}, {\"x\": -0.12359783907240995, \"y\": -0.22571970506705324}, {\"x\": -0.082398559381609, \"y\": -0.15047980337803982}, {\"x\": -0.041199279690808055, \"y\": -0.0752399016890264}, {\"x\": -7.105427357601002e-15, \"y\": -1.29762379307737e-14}, {\"x\": 0.041199279690793844, \"y\": 0.07523990168900045}, {\"x\": 0.0823985593815948, \"y\": 0.15047980337801387}, {\"x\": 0.12359783907239574, \"y\": 0.2257197050670273}, {\"x\": 0.1647971187631967, \"y\": 0.3009596067560407}, {\"x\": 0.20599639845399764, \"y\": 0.3761995084450542}, {\"x\": 0.2471956781447986, \"y\": 0.4514394101340676}, {\"x\": 0.28839495783559954, \"y\": 0.526679311823081}, {\"x\": 0.3295942375264005, \"y\": 0.6019192135120944}, {\"x\": 0.37079351721720144, \"y\": 0.6771591152011078}, {\"x\": 0.4119927969080024, \"y\": 0.7523990168901213}, {\"x\": 0.45319207659880334, \"y\": 0.8276389185791347}, {\"x\": 0.4943913562896043, \"y\": 0.9028788202681481}, {\"x\": 0.5355906359804052, \"y\": 0.9781187219571615}, {\"x\": 0.5767899156712062, \"y\": 1.053358623646175}, {\"x\": 0.6179891953620071, \"y\": 1.1285985253351885}, {\"x\": 0.6591884750528081, \"y\": 1.2038384270242017}, {\"x\": 0.700387754743609, \"y\": 1.2790783287132153}, {\"x\": 0.74158703443441, \"y\": 1.3543182304022288}, {\"x\": 0.7827863141252109, \"y\": 1.429558132091242}, {\"x\": 0.8239855938160119, \"y\": 1.5047980337802556}, {\"x\": 0.8651848735068128, \"y\": 1.580037935469269}, {\"x\": 0.9063841531976138, \"y\": 1.6552778371582824}, {\"x\": 0.9475834328884147, \"y\": 1.7305177388472959}, {\"x\": 0.9887827125792157, \"y\": 1.8057576405363092}, {\"x\": 1.0299819922700166, \"y\": 1.8809975422253227}, {\"x\": 1.0711812719608176, \"y\": 1.9562374439143362}, {\"x\": 1.1123805516516185, \"y\": 2.0314773456033497}, {\"x\": 1.1535798313424195, \"y\": 2.1067172472923628}, {\"x\": 1.1947791110332204, \"y\": 2.1819571489813763}, {\"x\": 1.2359783907240214, \"y\": 2.25719705067039}, {\"x\": 1.2771776704148223, \"y\": 2.3324369523594033}, {\"x\": 1.3183769501056233, \"y\": 2.407676854048417}, {\"x\": 1.3595762297964242, \"y\": 2.4829167557374303}, {\"x\": 1.4007755094872252, \"y\": 2.5581566574264434}, {\"x\": 1.4419747891780261, \"y\": 2.633396559115457}, {\"x\": 1.483174068868827, \"y\": 2.7086364608044704}, {\"x\": 1.524373348559628, \"y\": 2.783876362493484}, {\"x\": 1.565572628250429, \"y\": 2.8591162641824974}, {\"x\": 1.60677190794123, \"y\": 2.9343561658715105}, {\"x\": 1.6479711876320309, \"y\": 3.009596067560524}, {\"x\": 1.6891704673228318, \"y\": 3.0848359692495375}, {\"x\": 1.7303697470136328, \"y\": 3.160075870938551}, {\"x\": 1.7715690267044337, \"y\": 3.2353157726275645}, {\"x\": 1.8127683063952347, \"y\": 3.3105556743165776}, {\"x\": 1.8539675860860356, \"y\": 3.385795576005591}, {\"x\": 1.8951668657768366, \"y\": 3.4610354776946046}, {\"x\": 1.9363661454676375, \"y\": 3.536275379383618}, {\"x\": 1.9775654251584385, \"y\": 3.6115152810726316}, {\"x\": 2.0187647048492394, \"y\": 3.6867551827616447}, {\"x\": 2.0599639845400404, \"y\": 3.7619950844506582}], \"data-49aaa293c3dc487b86875c35f21a863e\": [{\"residual\": -2.9049928724481795, \"index\": 8, \"quantile\": -1.9599639845400545}, {\"residual\": -2.2666421610378364, \"index\": 0, \"quantile\": -1.4395314709384563}, {\"residual\": -2.250611893597739, \"index\": 3, \"quantile\": -1.1503493803760079}, {\"residual\": -2.061772115582862, \"index\": 9, \"quantile\": -0.9345892910734802}, {\"residual\": -1.9049928724481795, \"index\": 7, \"quantile\": -0.7554150263604693}, {\"residual\": -1.8616985986963712, \"index\": 13, \"quantile\": -0.5977601260424784}, {\"residual\": -1.8147822734648429, \"index\": 11, \"quantile\": -0.45376219016987945}, {\"residual\": -0.8147822734648429, \"index\": 12, \"quantile\": -0.31863936396437514}, {\"residual\": -0.6259424954499657, \"index\": 16, \"quantile\": -0.18911842627279252}, {\"residual\": -0.5160795775468117, \"index\": 18, \"quantile\": -0.06270677794321385}, {\"residual\": -0.014855790351333553, \"index\": 6, \"quantile\": 0.06270677794321385}, {\"residual\": 0.24816431920678284, \"index\": 14, \"quantile\": 0.18911842627279238}, {\"residual\": 0.43700409722166, \"index\": 19, \"quantile\": 0.31863936396437514}, {\"residual\": 0.9061673495369433, \"index\": 1, \"quantile\": 0.45376219016987956}, {\"residual\": 1.2321340517666854, \"index\": 10, \"quantile\": 0.5977601260424784}, {\"residual\": 1.749388106402261, \"index\": 4, \"quantile\": 0.7554150263604693}, {\"residual\": 1.9061673495369433, \"index\": 2, \"quantile\": 0.93458929107348}, {\"residual\": 2.141923452783349, \"index\": 5, \"quantile\": 1.1503493803760079}, {\"residual\": 2.3740575045500343, \"index\": 17, \"quantile\": 1.4395314709384563}, {\"residual\": 3.4209738297815626, \"index\": 15, \"quantile\": 1.959963984540054}]}};\n",
       "var opt = {};\n",
       "var type = \"vega-lite\";\n",
       "var id = \"e51be663-ed9b-472e-8740-e4f830683324\";\n",
       "\n",
       "var output_area = this;\n",
       "\n",
       "require([\"nbextensions/jupyter-vega/index\"], function(vega) {\n",
       "  var target = document.createElement(\"div\");\n",
       "  target.id = id;\n",
       "  target.className = \"vega-embed\";\n",
       "\n",
       "  var style = document.createElement(\"style\");\n",
       "  style.textContent = [\n",
       "    \".vega-embed .error p {\",\n",
       "    \"  color: firebrick;\",\n",
       "    \"  font-size: 14px;\",\n",
       "    \"}\",\n",
       "  ].join(\"\\\\n\");\n",
       "\n",
       "  // element is a jQuery wrapped DOM element inside the output area\n",
       "  // see http://ipython.readthedocs.io/en/stable/api/generated/\\\n",
       "  // IPython.display.html#IPython.display.Javascript.__init__\n",
       "  element[0].appendChild(target);\n",
       "  element[0].appendChild(style);\n",
       "\n",
       "  vega.render(\"#\" + id, spec, type, opt, output_area);\n",
       "}, function (err) {\n",
       "  if (err.requireType !== \"scripterror\") {\n",
       "    throw(err);\n",
       "  }\n",
       "});\n"
      ],
      "text/plain": [
       "<vega.vegalite.VegaLite at 0x265ef785cc0>"
      ]
     },
     "metadata": {
      "jupyter-vega": "#e51be663-ed9b-472e-8740-e4f830683324"
     },
     "output_type": "display_data"
    },
    {
     "data": {
      "text/plain": []
     },
     "execution_count": 12,
     "metadata": {},
     "output_type": "execute_result"
    },
    {
     "data": {
      "image/png": "[encoded data removed]"
     },
     "metadata": {
      "jupyter-vega": "#e51be663-ed9b-472e-8740-e4f830683324"
     },
     "output_type": "display_data"
    }
   ],
   "source": [
    "model.normal_plot()"
   ]
  },
  {
   "cell_type": "code",
   "execution_count": 13,
   "metadata": {},
   "outputs": [
    {
     "data": {
      "application/javascript": [
       "var spec = {\"config\": {\"view\": {\"width\": 400, \"height\": 300}, \"mark\": {\"tooltip\": null}}, \"layer\": [{\"data\": {\"name\": \"data-a7e2c303ff1053eb4ff26f536578a585\"}, \"mark\": \"line\", \"encoding\": {\"x\": {\"type\": \"quantitative\", \"field\": \"x\"}, \"y\": {\"type\": \"quantitative\", \"field\": \"y\"}}}, {\"data\": {\"name\": \"data-a29306c9042bc3203271bb987003b176\"}, \"mark\": \"point\", \"encoding\": {\"tooltip\": [{\"type\": \"quantitative\", \"field\": \"index\"}], \"x\": {\"type\": \"quantitative\", \"field\": \"predict\", \"title\": \"Predicted\"}, \"y\": {\"type\": \"quantitative\", \"field\": \"residual\", \"title\": \"Standardised residual\"}}, \"title\": \"Residual plot\"}], \"$schema\": \"https://vega.github.io/schema/vega-lite/v3.3.0.json\", \"datasets\": {\"data-a7e2c303ff1053eb4ff26f536578a585\": [{\"x\": -0.8333578389621635, \"y\": 0}, {\"x\": -0.45839430154475846, \"y\": 0}, {\"x\": -0.0834307641273534, \"y\": 0}, {\"x\": 0.2915327732900518, \"y\": 0}, {\"x\": 0.6664963107074567, \"y\": 0}, {\"x\": 1.0414598481248616, \"y\": 0}, {\"x\": 1.416423385542267, \"y\": 0}, {\"x\": 1.791386922959672, \"y\": 0}, {\"x\": 2.166350460377077, \"y\": 0}, {\"x\": 2.541313997794482, \"y\": 0}, {\"x\": 2.916277535211887, \"y\": 0}, {\"x\": 3.2912410726292918, \"y\": 0}, {\"x\": 3.6662046100466976, \"y\": 0}, {\"x\": 4.041168147464103, \"y\": 0}, {\"x\": 4.416131684881508, \"y\": 0}, {\"x\": 4.791095222298913, \"y\": 0}, {\"x\": 5.166058759716318, \"y\": 0}, {\"x\": 5.541022297133723, \"y\": 0}, {\"x\": 5.915985834551128, \"y\": 0}, {\"x\": 6.290949371968533, \"y\": 0}, {\"x\": 6.665912909385938, \"y\": 0}, {\"x\": 7.040876446803344, \"y\": 0}, {\"x\": 7.415839984220748, \"y\": 0}, {\"x\": 7.7908035216381535, \"y\": 0}, {\"x\": 8.16576705905556, \"y\": 0}, {\"x\": 8.540730596472963, \"y\": 0}, {\"x\": 8.91569413389037, \"y\": 0}, {\"x\": 9.290657671307773, \"y\": 0}, {\"x\": 9.66562120872518, \"y\": 0}, {\"x\": 10.040584746142583, \"y\": 0}, {\"x\": 10.415548283559989, \"y\": 0}, {\"x\": 10.790511820977393, \"y\": 0}, {\"x\": 11.165475358394799, \"y\": 0}, {\"x\": 11.540438895812205, \"y\": 0}, {\"x\": 11.915402433229609, \"y\": 0}, {\"x\": 12.290365970647015, \"y\": 0}, {\"x\": 12.665329508064419, \"y\": 0}, {\"x\": 13.040293045481825, \"y\": 0}, {\"x\": 13.415256582899229, \"y\": 0}, {\"x\": 13.790220120316635, \"y\": 0}, {\"x\": 14.165183657734039, \"y\": 0}, {\"x\": 14.540147195151444, \"y\": 0}, {\"x\": 14.91511073256885, \"y\": 0}, {\"x\": 15.290074269986254, \"y\": 0}, {\"x\": 15.665037807403658, \"y\": 0}, {\"x\": 16.040001344821064, \"y\": 0}, {\"x\": 16.41496488223847, \"y\": 0}, {\"x\": 16.789928419655872, \"y\": 0}, {\"x\": 17.16489195707328, \"y\": 0}, {\"x\": 17.539855494490684, \"y\": 0}, {\"x\": 17.914819031908088, \"y\": 0}, {\"x\": 18.289782569325492, \"y\": 0}, {\"x\": 18.6647461067429, \"y\": 0}, {\"x\": 19.039709644160304, \"y\": 0}, {\"x\": 19.414673181577708, \"y\": 0}, {\"x\": 19.789636718995112, \"y\": 0}, {\"x\": 20.16460025641252, \"y\": 0}, {\"x\": 20.539563793829924, \"y\": 0}, {\"x\": 20.914527331247328, \"y\": 0}, {\"x\": 21.289490868664736, \"y\": 0}, {\"x\": 21.66445440608214, \"y\": 0}, {\"x\": 22.039417943499544, \"y\": 0}, {\"x\": 22.414381480916948, \"y\": 0}, {\"x\": 22.789345018334355, \"y\": 0}, {\"x\": 23.16430855575176, \"y\": 0}, {\"x\": 23.539272093169163, \"y\": 0}, {\"x\": 23.91423563058657, \"y\": 0}, {\"x\": 24.289199168003975, \"y\": 0}, {\"x\": 24.66416270542138, \"y\": 0}, {\"x\": 25.039126242838783, \"y\": 0}, {\"x\": 25.41408978025619, \"y\": 0}, {\"x\": 25.789053317673595, \"y\": 0}, {\"x\": 26.164016855091, \"y\": 0}, {\"x\": 26.538980392508407, \"y\": 0}, {\"x\": 26.91394392992581, \"y\": 0}, {\"x\": 27.288907467343215, \"y\": 0}, {\"x\": 27.66387100476062, \"y\": 0}, {\"x\": 28.038834542178027, \"y\": 0}, {\"x\": 28.41379807959543, \"y\": 0}, {\"x\": 28.788761617012835, \"y\": 0}, {\"x\": 29.16372515443024, \"y\": 0}, {\"x\": 29.538688691847646, \"y\": 0}, {\"x\": 29.91365222926505, \"y\": 0}, {\"x\": 30.288615766682454, \"y\": 0}, {\"x\": 30.663579304099862, \"y\": 0}, {\"x\": 31.038542841517266, \"y\": 0}, {\"x\": 31.41350637893467, \"y\": 0}, {\"x\": 31.788469916352078, \"y\": 0}, {\"x\": 32.16343345376948, \"y\": 0}, {\"x\": 32.538396991186886, \"y\": 0}, {\"x\": 32.913360528604294, \"y\": 0}, {\"x\": 33.288324066021694, \"y\": 0}, {\"x\": 33.6632876034391, \"y\": 0}, {\"x\": 34.03825114085651, \"y\": 0}, {\"x\": 34.41321467827391, \"y\": 0}, {\"x\": 34.78817821569132, \"y\": 0}, {\"x\": 35.163141753108725, \"y\": 0}, {\"x\": 35.538105290526126, \"y\": 0}, {\"x\": 35.91306882794353, \"y\": 0}, {\"x\": 36.288032365360934, \"y\": 0}], \"data-a29306c9042bc3203271bb987003b176\": [{\"residual\": -1.2178494425606325, \"predict\": -0.7333578389621636, \"index\": 0}, {\"residual\": 0.4868767644359504, \"predict\": 6.093832650463057, \"index\": 1}, {\"residual\": 1.024169092044915, \"predict\": 6.093832650463057, \"index\": 2}, {\"residual\": -1.2092365028555483, \"predict\": 7.250611893597739, \"index\": 3}, {\"residual\": 0.9399328075803096, \"predict\": 7.250611893597739, \"index\": 4}, {\"residual\": 1.1508390375061954, \"predict\": 17.85807654721665, \"index\": 5}, {\"residual\": -0.0079819021763388, \"predict\": 19.014855790351334, \"index\": 6}, {\"residual\": -1.0235380545161696, \"predict\": 20.90499287244818, \"index\": 7}, {\"residual\": -1.5608303821251341, \"predict\": 20.90499287244818, \"index\": 8}, {\"residual\": -1.1077743389807748, \"predict\": 22.061772115582862, \"index\": 9}, {\"residual\": 0.6620161725999868, \"predict\": 13.767865948233315, \"index\": 10}, {\"residual\": -0.9750685918134138, \"predict\": 16.814782273464843, \"index\": 11}, {\"residual\": -0.43777626420444926, \"predict\": 16.814782273464843, \"index\": 12}, {\"residual\": -1.0002763733999207, \"predict\": 19.86169859869637, \"index\": 13}, {\"residual\": 0.1333367846961064, \"predict\": 21.751835680793217, \"index\": 14}, {\"residual\": 1.8380629916926892, \"predict\": 28.579026170218437, \"index\": 15}, {\"residual\": -0.33631410032967574, \"predict\": 31.625942495449966, \"index\": 16}, {\"residual\": 1.2755628824972176, \"predict\": 31.625942495449966, \"index\": 17}, {\"residual\": -0.27728559745157755, \"predict\": 33.51607957754681, \"index\": 18}, {\"residual\": 0.2347989485708799, \"predict\": 36.56299590277834, \"index\": 19}]}};\n",
       "var opt = {};\n",
       "var type = \"vega-lite\";\n",
       "var id = \"02e8211f-b2e3-4737-961b-1b31f6156867\";\n",
       "\n",
       "var output_area = this;\n",
       "\n",
       "require([\"nbextensions/jupyter-vega/index\"], function(vega) {\n",
       "  var target = document.createElement(\"div\");\n",
       "  target.id = id;\n",
       "  target.className = \"vega-embed\";\n",
       "\n",
       "  var style = document.createElement(\"style\");\n",
       "  style.textContent = [\n",
       "    \".vega-embed .error p {\",\n",
       "    \"  color: firebrick;\",\n",
       "    \"  font-size: 14px;\",\n",
       "    \"}\",\n",
       "  ].join(\"\\\\n\");\n",
       "\n",
       "  // element is a jQuery wrapped DOM element inside the output area\n",
       "  // see http://ipython.readthedocs.io/en/stable/api/generated/\\\n",
       "  // IPython.display.html#IPython.display.Javascript.__init__\n",
       "  element[0].appendChild(target);\n",
       "  element[0].appendChild(style);\n",
       "\n",
       "  vega.render(\"#\" + id, spec, type, opt, output_area);\n",
       "}, function (err) {\n",
       "  if (err.requireType !== \"scripterror\") {\n",
       "    throw(err);\n",
       "  }\n",
       "});\n"
      ],
      "text/plain": [
       "<vega.vegalite.VegaLite at 0x265f0cb5dd8>"
      ]
     },
     "metadata": {
      "jupyter-vega": "#02e8211f-b2e3-4737-961b-1b31f6156867"
     },
     "output_type": "display_data"
    },
    {
     "data": {
      "text/plain": []
     },
     "execution_count": 13,
     "metadata": {},
     "output_type": "execute_result"
    },
    {
     "data": {
      "image/png": "[encoded data removed]"
     },
     "metadata": {
      "jupyter-vega": "#02e8211f-b2e3-4737-961b-1b31f6156867"
     },
     "output_type": "display_data"
    }
   ],
   "source": [
    "model.residual_plot()"
   ]
  },
  {
   "cell_type": "code",
   "execution_count": 14,
   "metadata": {},
   "outputs": [
    {
     "data": {
      "text/plain": [
       "array([-2.26664216,  0.90616735,  1.90616735, -2.25061189,  1.74938811,\n",
       "        2.14192345, -0.01485579, -1.90499287, -2.90499287, -2.06177212,\n",
       "        1.23213405, -1.81478227, -0.81478227, -1.8616986 ,  0.24816432,\n",
       "        3.42097383, -0.6259425 ,  2.3740575 , -0.51607958,  0.4370041 ])"
      ]
     },
     "execution_count": 14,
     "metadata": {},
     "output_type": "execute_result"
    }
   ],
   "source": [
    "model.residual()"
   ]
  },
  {
   "cell_type": "code",
   "execution_count": 15,
   "metadata": {},
   "outputs": [
    {
     "data": {
      "text/plain": [
       "0.9928359500278029"
      ]
     },
     "execution_count": 15,
     "metadata": {},
     "output_type": "execute_result"
    }
   ],
   "source": [
    "model.r2"
   ]
  },
  {
   "cell_type": "code",
   "execution_count": 16,
   "metadata": {},
   "outputs": [
    {
     "data": {
      "text/plain": [
       "array([[ 0.03130664, -0.03176558],\n",
       "       [-0.03176558,  0.03606   ]])"
      ]
     },
     "execution_count": 16,
     "metadata": {},
     "output_type": "execute_result"
    }
   ],
   "source": [
    "model.std"
   ]
  },
  {
   "cell_type": "code",
   "execution_count": 17,
   "metadata": {},
   "outputs": [
    {
     "data": {
      "text/plain": [
       "2.4789042345962757"
      ]
     },
     "execution_count": 17,
     "metadata": {},
     "output_type": "execute_result"
    }
   ],
   "source": [
    "model.vif('X1')"
   ]
  },
  {
   "cell_type": "markdown",
   "metadata": {},
   "source": [
    "# **Selection**"
   ]
  },
  {
   "cell_type": "code",
   "execution_count": 18,
   "metadata": {},
   "outputs": [
    {
     "name": "stdout",
     "output_type": "stream",
     "text": [
      "Variable: X1, X2, X1c, X2c\n",
      "Variable Removed                                       Res S.S. before Removal            Res S.S. after Removal\n",
      "X2c                                                    52.8023                            52.8414        \n",
      "Test Statistic: 0.011122544996760412\n",
      "p-value: 0.9174054559030368\n",
      "Decision: Remove\n",
      "------------------------------------------------------------------------------------------------------------------------\n",
      "Variable: X1, X2, X1c\n",
      "Variable Removed                                       Res S.S. before Removal            Res S.S. after Removal\n",
      "X1                                                     52.8414                            54.0541        \n",
      "Test Statistic: 0.36719722129468835\n",
      "p-value: 0.5530362823653872\n",
      "Decision: Remove\n",
      "------------------------------------------------------------------------------------------------------------------------\n",
      "Variable: X2, X1c\n",
      "Variable Removed                                       Res S.S. before Removal            Res S.S. after Removal\n",
      "X1c                                                    54.0541                            201.1942       \n",
      "Test Statistic: 46.27548427143375\n",
      "p-value: 3.0798272840915075e-06\n",
      "Decision: Do not remove\n",
      "------------------------------------------------------------------------------------------------------------------------\n"
     ]
    }
   ],
   "source": [
    "BackwardSelection(df, ['X1', 'X2', 'X1c', 'X2c'], 'y')"
   ]
  },
  {
   "cell_type": "code",
   "execution_count": 19,
   "metadata": {},
   "outputs": [
    {
     "name": "stdout",
     "output_type": "stream",
     "text": [
      "Variable: \n",
      "Variable Entered                                       Res S.S. before Entered            Res S.S. after Entered\n",
      "X2                                                     2155.7500                          201.1942       \n",
      "Test Statistic: 174.8659275755904\n",
      "p-value: 1.0411016493350189e-10\n",
      "Decision: Enter\n",
      "------------------------------------------------------------------------------------------------------------------------\n",
      "Variable: X2\n",
      "Variable Entered                                       Res S.S. before Entered            Res S.S. after Entered\n",
      "X1c                                                    201.1942                           54.0541        \n",
      "Test Statistic: 46.27548427143375\n",
      "p-value: 3.0798272840915075e-06\n",
      "Decision: Enter\n",
      "------------------------------------------------------------------------------------------------------------------------\n",
      "Variable: X2, X1c\n",
      "Variable Entered                                       Res S.S. before Entered            Res S.S. after Entered\n",
      "X1                                                     54.0541                            52.8414        \n",
      "Test Statistic: 0.36719722117749765\n",
      "p-value: 0.553036282428021\n",
      "Decision: Do not enter\n",
      "------------------------------------------------------------------------------------------------------------------------\n"
     ]
    }
   ],
   "source": [
    "ForwardSelection(df, ['X1', 'X2', 'X1c', 'X2c'], 'y')"
   ]
  },
  {
   "cell_type": "code",
   "execution_count": 20,
   "metadata": {},
   "outputs": [
    {
     "name": "stdout",
     "output_type": "stream",
     "text": [
      "Variable: \n",
      "Variable Entered                                       Res S.S. before Entered            Res S.S. after Entered\n",
      "X2                                                     2155.7500                          201.1942       \n",
      "Test Statistic: 174.8659275755904\n",
      "p-value: 1.0411016493350189e-10\n",
      "Decision: Enter\n",
      "------------------------------------------------------------------------------------------------------------------------\n",
      "Variable: X2\n",
      "Variable Entered                                       Res S.S. before Entered            Res S.S. after Entered\n",
      "X1c                                                    201.1942                           54.0541        \n",
      "Test Statistic: 46.27548427143375\n",
      "p-value: 3.0798272840915075e-06\n",
      "Decision: Enter\n",
      "------------------------------------------------------------------------------------------------------------------------\n",
      "Variable: X2, X1c\n",
      "Variable Removed                                       Res S.S. before Removal            Res S.S. after Removal\n",
      "X1c                                                    54.0541                            201.1942       \n",
      "Test Statistic: 46.27548427143375\n",
      "p-value: 3.0798272840915075e-06\n",
      "Decision: Do not remove\n",
      "------------------------------------------------------------------------------------------------------------------------\n",
      "Variable: X2, X1c\n",
      "Variable Entered                                       Res S.S. before Entered            Res S.S. after Entered\n",
      "X1                                                     54.0541                            52.8414        \n",
      "Test Statistic: 0.36719722117749765\n",
      "p-value: 0.553036282428021\n",
      "Decision: Do not enter\n",
      "------------------------------------------------------------------------------------------------------------------------\n"
     ]
    }
   ],
   "source": [
    "StepwiseSelection(df, ['X1', 'X2', 'X1c', 'X2c'], 'y')"
   ]
  },
  {
   "cell_type": "code",
   "execution_count": null,
   "metadata": {},
   "outputs": [],
   "source": []
  }
 ],
 "metadata": {
  "kernelspec": {
   "display_name": "Python 3",
   "language": "python",
   "name": "python3"
  },
  "language_info": {
   "codemirror_mode": {
    "name": "ipython",
    "version": 3
   },
   "file_extension": ".py",
   "mimetype": "text/x-python",
   "name": "python",
   "nbconvert_exporter": "python",
   "pygments_lexer": "ipython3",
   "version": "3.6.5"
  }
 },
 "nbformat": 4,
 "nbformat_minor": 2
}
