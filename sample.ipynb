{
 "cells": [
  {
   "cell_type": "code",
   "execution_count": 1,
   "metadata": {},
   "outputs": [
    {
     "data": {
      "text/plain": [
       "RendererRegistry.enable('notebook')"
      ]
     },
     "execution_count": 1,
     "metadata": {},
     "output_type": "execute_result"
    }
   ],
   "source": [
    "from library.regression import LinearRegression\n",
    "from library.selection import BackwardSelection\n",
    "from library.selection import ForwardSelection\n",
    "from library.selection import StepwiseSelection\n",
    "from library.design_matrix import design_matrix\n",
    "import pandas as pd\n",
    "import altair as alt\n",
    "import numpy as np\n",
    "alt.renderers.enable('notebook')"
   ]
  },
  {
   "cell_type": "code",
   "execution_count": 2,
   "metadata": {},
   "outputs": [],
   "source": [
    "df = pd.DataFrame({'X1' : [1, 2, 2, 3, 3, 4, 5, 5, 5, 6, 7, 8, 8, 9, 9, 10, 11, 11, 11, 12],\n",
    "                   'X2' : [-1, 2, 2, 2, 2, 7, 7, 8, 8, 8, 3, 4, 4, 5, 6, 9, 10, 10, 11, 12],\n",
    "                   'X1c' : [0, 0, 0, 0, 0, 0, 0, 0, 0, 0, 1, 1, 1, 1, 1, 1, 1, 1, 1, 1],\n",
    "                   'X2c' : [0, 0, 0, 0, 0, 1, 1, 1, 1, 1, 0, 0, 0, 0, 0, 1, 1, 1, 1, 1],\n",
    "                   'y' : [-3, 7, 8, 5, 9, 20, 19, 19, 18, 20, 15, 15, 16, 18, 22, 32, 31, 34, 33, 37]})"
   ]
  },
  {
   "cell_type": "markdown",
   "metadata": {},
   "source": [
    "# **Design Matrix**"
   ]
  },
  {
   "cell_type": "code",
   "execution_count": 3,
   "metadata": {},
   "outputs": [],
   "source": [
    "dm = design_matrix(df, categorical = ['X1c', 'X2c'], interaction = [['X1c', 'X2'], ['X1c', 'X2c'], ['X2c', 'X1']], copy = True)"
   ]
  },
  {
   "cell_type": "code",
   "execution_count": 4,
   "metadata": {},
   "outputs": [
    {
     "data": {
      "text/html": [
       "<div>\n",
       "<style scoped>\n",
       "    .dataframe tbody tr th:only-of-type {\n",
       "        vertical-align: middle;\n",
       "    }\n",
       "\n",
       "    .dataframe tbody tr th {\n",
       "        vertical-align: top;\n",
       "    }\n",
       "\n",
       "    .dataframe thead th {\n",
       "        text-align: right;\n",
       "    }\n",
       "</style>\n",
       "<table border=\"1\" class=\"dataframe\">\n",
       "  <thead>\n",
       "    <tr style=\"text-align: right;\">\n",
       "      <th></th>\n",
       "      <th>Intercept</th>\n",
       "      <th>X1</th>\n",
       "      <th>X2</th>\n",
       "      <th>y</th>\n",
       "      <th>X1c_0</th>\n",
       "      <th>X2c_0</th>\n",
       "      <th>X1c_0_X2</th>\n",
       "      <th>X1c_0_X2c_0</th>\n",
       "      <th>X2c_0_X1</th>\n",
       "    </tr>\n",
       "  </thead>\n",
       "  <tbody>\n",
       "    <tr>\n",
       "      <th>0</th>\n",
       "      <td>1.0</td>\n",
       "      <td>1</td>\n",
       "      <td>-1</td>\n",
       "      <td>-3</td>\n",
       "      <td>1</td>\n",
       "      <td>1</td>\n",
       "      <td>-1</td>\n",
       "      <td>1</td>\n",
       "      <td>1</td>\n",
       "    </tr>\n",
       "    <tr>\n",
       "      <th>1</th>\n",
       "      <td>1.0</td>\n",
       "      <td>2</td>\n",
       "      <td>2</td>\n",
       "      <td>7</td>\n",
       "      <td>1</td>\n",
       "      <td>1</td>\n",
       "      <td>2</td>\n",
       "      <td>1</td>\n",
       "      <td>2</td>\n",
       "    </tr>\n",
       "    <tr>\n",
       "      <th>2</th>\n",
       "      <td>1.0</td>\n",
       "      <td>2</td>\n",
       "      <td>2</td>\n",
       "      <td>8</td>\n",
       "      <td>1</td>\n",
       "      <td>1</td>\n",
       "      <td>2</td>\n",
       "      <td>1</td>\n",
       "      <td>2</td>\n",
       "    </tr>\n",
       "    <tr>\n",
       "      <th>3</th>\n",
       "      <td>1.0</td>\n",
       "      <td>3</td>\n",
       "      <td>2</td>\n",
       "      <td>5</td>\n",
       "      <td>1</td>\n",
       "      <td>1</td>\n",
       "      <td>2</td>\n",
       "      <td>1</td>\n",
       "      <td>3</td>\n",
       "    </tr>\n",
       "    <tr>\n",
       "      <th>4</th>\n",
       "      <td>1.0</td>\n",
       "      <td>3</td>\n",
       "      <td>2</td>\n",
       "      <td>9</td>\n",
       "      <td>1</td>\n",
       "      <td>1</td>\n",
       "      <td>2</td>\n",
       "      <td>1</td>\n",
       "      <td>3</td>\n",
       "    </tr>\n",
       "  </tbody>\n",
       "</table>\n",
       "</div>"
      ],
      "text/plain": [
       "   Intercept  X1  X2  y  X1c_0  X2c_0  X1c_0_X2  X1c_0_X2c_0  X2c_0_X1\n",
       "0        1.0   1  -1 -3      1      1        -1            1         1\n",
       "1        1.0   2   2  7      1      1         2            1         2\n",
       "2        1.0   2   2  8      1      1         2            1         2\n",
       "3        1.0   3   2  5      1      1         2            1         3\n",
       "4        1.0   3   2  9      1      1         2            1         3"
      ]
     },
     "execution_count": 4,
     "metadata": {},
     "output_type": "execute_result"
    }
   ],
   "source": [
    "dm.head()"
   ]
  },
  {
   "cell_type": "markdown",
   "metadata": {},
   "source": [
    "# **Regression**"
   ]
  },
  {
   "cell_type": "code",
   "execution_count": 5,
   "metadata": {},
   "outputs": [],
   "source": [
    "model = LinearRegression(df)"
   ]
  },
  {
   "cell_type": "code",
   "execution_count": 6,
   "metadata": {},
   "outputs": [
    {
     "name": "stderr",
     "output_type": "stream",
     "text": [
      "C:\\Users\\anson\\Documents\\statistical_analysis\\library\\design_matrix.py:8: SettingWithCopyWarning: \n",
      "A value is trying to be set on a copy of a slice from a DataFrame.\n",
      "Try using .loc[row_indexer,col_indexer] = value instead\n",
      "\n",
      "See the caveats in the documentation: http://pandas.pydata.org/pandas-docs/stable/user_guide/indexing.html#returning-a-view-versus-a-copy\n",
      "  df['Intercept'] = np.ones(len(df))\n"
     ]
    },
    {
     "data": {
      "text/plain": [
       "<library.regression.LinearRegression at 0x2a9b9bdf048>"
      ]
     },
     "execution_count": 6,
     "metadata": {},
     "output_type": "execute_result"
    }
   ],
   "source": [
    "model.fit(['X1', 'X2'], 'y')"
   ]
  },
  {
   "cell_type": "code",
   "execution_count": 7,
   "metadata": {
    "scrolled": true
   },
   "outputs": [
    {
     "name": "stdout",
     "output_type": "stream",
     "text": [
      "Factor                                                 Coefficient         Pr(|t|>0)           VIF            \n",
      "Intercept                                              -0.6413             0.5134                             \n",
      "X1                                                     1.2186              0.0000              2.4789         \n",
      "X2                                                     1.9073              0.0000              2.4789         \n",
      "------------------------------------------------------------------------------------------------------------------------\n",
      "Source            Sum of Square\n",
      "Total S.S.        2155.7500 \n",
      "Reg S.S.          2091.6149 \n",
      "Res S.S.          64.1351   \n",
      "F-value: 277.2075753562956\n",
      "Pr(F): 1.0580425424677742e-13\n",
      "------------------------------------------------------------------------------------------------------------------------\n",
      "R-squared: 0.9702493012675637\n",
      "Adjusted R-squared: 0.9667492190637477\n",
      "AIC: 29.30518071633432\n",
      "BIC: 32.29237753699629\n",
      " \n"
     ]
    }
   ],
   "source": [
    "model.summary(VIF = True)"
   ]
  },
  {
   "cell_type": "code",
   "execution_count": 8,
   "metadata": {},
   "outputs": [
    {
     "name": "stdout",
     "output_type": "stream",
     "text": [
      "Source              Sum of Square\n",
      "Lack of Fit         50.1351   \n",
      "Pure Error          14.0000   \n",
      "F-value: 1.6277619737808313\n",
      "Pr(Lack of Fit): 0.3082628542218757\n",
      "\n"
     ]
    }
   ],
   "source": [
    "model.lack_of_fit()"
   ]
  },
  {
   "cell_type": "code",
   "execution_count": 9,
   "metadata": {},
   "outputs": [
    {
     "name": "stdout",
     "output_type": "stream",
     "text": [
      "Test statistic: 36.32965154664765\n",
      "Pr: 1.3586401357623679e-05\n"
     ]
    }
   ],
   "source": [
    "model.hypothesis_testing([{'X1' : 1}], [0])"
   ]
  },
  {
   "cell_type": "code",
   "execution_count": 10,
   "metadata": {},
   "outputs": [
    {
     "data": {
      "text/plain": [
       "array([1.21858493])"
      ]
     },
     "execution_count": 10,
     "metadata": {},
     "output_type": "execute_result"
    }
   ],
   "source": [
    "model.predict([{'X1' : 1}])"
   ]
  },
  {
   "cell_type": "code",
   "execution_count": 11,
   "metadata": {},
   "outputs": [
    {
     "data": {
      "text/plain": [
       "[[-2.921219098582621, 5.358388956259463]]"
      ]
     },
     "execution_count": 11,
     "metadata": {},
     "output_type": "execute_result"
    }
   ],
   "source": [
    "model.predict_interval([{'X1' : 1}])"
   ]
  },
  {
   "cell_type": "code",
   "execution_count": 12,
   "metadata": {},
   "outputs": [
    {
     "data": {
      "text/plain": [
       "[[0.7899953106140123, 1.64717454706283]]"
      ]
     },
     "execution_count": 12,
     "metadata": {},
     "output_type": "execute_result"
    }
   ],
   "source": [
    "model.predict_interval([{'X1' : 1}], mode = 'mean')"
   ]
  },
  {
   "cell_type": "code",
   "execution_count": 13,
   "metadata": {},
   "outputs": [
    {
     "data": {
      "application/javascript": [
       "var spec = {\"config\": {\"view\": {\"width\": 400, \"height\": 300}, \"mark\": {\"tooltip\": null}}, \"layer\": [{\"data\": {\"name\": \"data-a9c4cd6a1589b1f0629fef808ad128b4\"}, \"mark\": \"line\", \"encoding\": {\"x\": {\"type\": \"quantitative\", \"field\": \"x\"}, \"y\": {\"type\": \"quantitative\", \"field\": \"y\"}}}, {\"data\": {\"name\": \"data-1ede9e403199c2e588fff0ba472ed195\"}, \"mark\": \"point\", \"encoding\": {\"tooltip\": [{\"type\": \"quantitative\", \"field\": \"index\"}], \"x\": {\"type\": \"quantitative\", \"field\": \"quantile\", \"title\": \"Quantile\"}, \"y\": {\"type\": \"quantitative\", \"field\": \"residual\", \"title\": \"Residual\"}}, \"title\": \"Normal plot\"}], \"$schema\": \"https://vega.github.io/schema/vega-lite/v3.3.0.json\", \"datasets\": {\"data-a9c4cd6a1589b1f0629fef808ad128b4\": [{\"x\": -2.0599639845400546, \"y\": -3.6656316331470533}, {\"x\": -2.0187647048492536, \"y\": -3.592319000484112}, {\"x\": -1.9775654251584527, \"y\": -3.5190063678211714}, {\"x\": -1.9363661454676517, \"y\": -3.4456937351582306}, {\"x\": -1.8951668657768508, \"y\": -3.37238110249529}, {\"x\": -1.8539675860860498, \"y\": -3.299068469832349}, {\"x\": -1.8127683063952489, \"y\": -3.2257558371694084}, {\"x\": -1.771569026704448, \"y\": -3.1524432045064676}, {\"x\": -1.730369747013647, \"y\": -3.0791305718435265}, {\"x\": -1.689170467322846, \"y\": -3.0058179391805857}, {\"x\": -1.647971187632045, \"y\": -2.932505306517645}, {\"x\": -1.6067719079412441, \"y\": -2.859192673854704}, {\"x\": -1.5655726282504432, \"y\": -2.7858800411917635}, {\"x\": -1.5243733485596422, \"y\": -2.7125674085288227}, {\"x\": -1.4831740688688413, \"y\": -2.639254775865882}, {\"x\": -1.4419747891780403, \"y\": -2.565942143202941}, {\"x\": -1.4007755094872394, \"y\": -2.49262951054}, {\"x\": -1.3595762297964384, \"y\": -2.4193168778770593}, {\"x\": -1.3183769501056375, \"y\": -2.3460042452141185}, {\"x\": -1.2771776704148365, \"y\": -2.272691612551178}, {\"x\": -1.2359783907240356, \"y\": -2.199378979888237}, {\"x\": -1.1947791110332346, \"y\": -2.1260663472252963}, {\"x\": -1.1535798313424337, \"y\": -2.052753714562355}, {\"x\": -1.1123805516516327, \"y\": -1.9794410818994146}, {\"x\": -1.0711812719608318, \"y\": -1.9061284492364736}, {\"x\": -1.0299819922700308, \"y\": -1.8328158165735329}, {\"x\": -0.9887827125792299, \"y\": -1.7595031839105921}, {\"x\": -0.947583432888429, \"y\": -1.6861905512476512}, {\"x\": -0.906384153197628, \"y\": -1.6128779185847104}, {\"x\": -0.865184873506827, \"y\": -1.5395652859217697}, {\"x\": -0.8239855938160261, \"y\": -1.466252653258829}, {\"x\": -0.7827863141252251, \"y\": -1.392940020595888}, {\"x\": -0.7415870344344242, \"y\": -1.3196273879329472}, {\"x\": -0.7003877547436232, \"y\": -1.2463147552700065}, {\"x\": -0.6591884750528223, \"y\": -1.1730021226070655}, {\"x\": -0.6179891953620213, \"y\": -1.0996894899441247}, {\"x\": -0.5767899156712204, \"y\": -1.026376857281184}, {\"x\": -0.5355906359804194, \"y\": -0.9530642246182431}, {\"x\": -0.4943913562896185, \"y\": -0.8797515919553024}, {\"x\": -0.45319207659881755, \"y\": -0.8064389592923615}, {\"x\": -0.4119927969080166, \"y\": -0.7331263266294208}, {\"x\": -0.37079351721721565, \"y\": -0.6598136939664799}, {\"x\": -0.3295942375264147, \"y\": -0.5865010613035391}, {\"x\": -0.28839495783561375, \"y\": -0.5131884286405983}, {\"x\": -0.2471956781448128, \"y\": -0.4398757959776575}, {\"x\": -0.20599639845401185, \"y\": -0.36656316331471667}, {\"x\": -0.1647971187632109, \"y\": -0.29325053065177586}, {\"x\": -0.12359783907240995, \"y\": -0.21993789798883506}, {\"x\": -0.082398559381609, \"y\": -0.14662526532589426}, {\"x\": -0.041199279690808055, \"y\": -0.07331263266295346}, {\"x\": -7.105427357601002e-15, \"y\": -1.2643851778246595e-14}, {\"x\": 0.041199279690793844, \"y\": 0.07331263266292816}, {\"x\": 0.0823985593815948, \"y\": 0.14662526532586898}, {\"x\": 0.12359783907239574, \"y\": 0.21993789798880978}, {\"x\": 0.1647971187631967, \"y\": 0.2932505306517506}, {\"x\": 0.20599639845399764, \"y\": 0.3665631633146914}, {\"x\": 0.2471956781447986, \"y\": 0.4398757959776322}, {\"x\": 0.28839495783559954, \"y\": 0.513188428640573}, {\"x\": 0.3295942375264005, \"y\": 0.5865010613035139}, {\"x\": 0.37079351721720144, \"y\": 0.6598136939664546}, {\"x\": 0.4119927969080024, \"y\": 0.7331263266293955}, {\"x\": 0.45319207659880334, \"y\": 0.8064389592923362}, {\"x\": 0.4943913562896043, \"y\": 0.8797515919552771}, {\"x\": 0.5355906359804052, \"y\": 0.9530642246182179}, {\"x\": 0.5767899156712062, \"y\": 1.0263768572811587}, {\"x\": 0.6179891953620071, \"y\": 1.0996894899440994}, {\"x\": 0.6591884750528081, \"y\": 1.1730021226070404}, {\"x\": 0.700387754743609, \"y\": 1.2463147552699811}, {\"x\": 0.74158703443441, \"y\": 1.319627387932922}, {\"x\": 0.7827863141252109, \"y\": 1.3929400205958626}, {\"x\": 0.8239855938160119, \"y\": 1.4662526532588036}, {\"x\": 0.8651848735068128, \"y\": 1.5395652859217444}, {\"x\": 0.9063841531976138, \"y\": 1.612877918584685}, {\"x\": 0.9475834328884147, \"y\": 1.686190551247626}, {\"x\": 0.9887827125792157, \"y\": 1.7595031839105668}, {\"x\": 1.0299819922700166, \"y\": 1.8328158165735076}, {\"x\": 1.0711812719608176, \"y\": 1.9061284492364483}, {\"x\": 1.1123805516516185, \"y\": 1.9794410818993893}, {\"x\": 1.1535798313424195, \"y\": 2.0527537145623302}, {\"x\": 1.1947791110332204, \"y\": 2.126066347225271}, {\"x\": 1.2359783907240214, \"y\": 2.1993789798882117}, {\"x\": 1.2771776704148223, \"y\": 2.2726916125511525}, {\"x\": 1.3183769501056233, \"y\": 2.3460042452140932}, {\"x\": 1.3595762297964242, \"y\": 2.419316877877034}, {\"x\": 1.4007755094872252, \"y\": 2.4926295105399747}, {\"x\": 1.4419747891780261, \"y\": 2.565942143202916}, {\"x\": 1.483174068868827, \"y\": 2.6392547758658567}, {\"x\": 1.524373348559628, \"y\": 2.7125674085287974}, {\"x\": 1.565572628250429, \"y\": 2.785880041191738}, {\"x\": 1.60677190794123, \"y\": 2.859192673854679}, {\"x\": 1.6479711876320309, \"y\": 2.9325053065176196}, {\"x\": 1.6891704673228318, \"y\": 3.0058179391805604}, {\"x\": 1.7303697470136328, \"y\": 3.0791305718435016}, {\"x\": 1.7715690267044337, \"y\": 3.1524432045064423}, {\"x\": 1.8127683063952347, \"y\": 3.225755837169383}, {\"x\": 1.8539675860860356, \"y\": 3.299068469832324}, {\"x\": 1.8951668657768366, \"y\": 3.3723811024952646}, {\"x\": 1.9363661454676375, \"y\": 3.4456937351582053}, {\"x\": 1.9775654251584385, \"y\": 3.519006367821146}, {\"x\": 2.0187647048492394, \"y\": 3.5923190004840873}, {\"x\": 2.0599639845400404, \"y\": 3.665631633147028}], \"data-1ede9e403199c2e588fff0ba472ed195\": [{\"residual\": -2.7103127248477676, \"index\": 8, \"quantile\": -1.9599639845400545}, {\"residual\": -1.9288976536861888, \"index\": 9, \"quantile\": -1.4395314709384563}, {\"residual\": -1.8626300826562172, \"index\": 13, \"quantile\": -1.1503493803760079}, {\"residual\": -1.829098152080455, \"index\": 3, \"quantile\": -0.9345892910734802}, {\"residual\": -1.7367043679693843, \"index\": 11, \"quantile\": -0.7554150263604693}, {\"residual\": -1.7103127248477676, \"index\": 7, \"quantile\": -0.5977601260424784}, {\"residual\": -1.6699059368583775, \"index\": 0, \"quantile\": -0.45376219016987945}, {\"residual\": -0.8365038695751181, \"index\": 16, \"quantile\": -0.31863936396437514}, {\"residual\": -0.7438446554235298, \"index\": 18, \"quantile\": -0.18911842627279252}, {\"residual\": -0.7367043679693843, \"index\": 12, \"quantile\": -0.06270677794321385}, {\"residual\": 0.13022962988964082, \"index\": 19, \"quantile\": 0.06270677794321385}, {\"residual\": 0.19702806100064407, \"index\": 6, \"quantile\": 0.18911842627279238}, {\"residual\": 0.23002913149537108, \"index\": 14, \"quantile\": 0.31863936396437514}, {\"residual\": 1.3892213467174486, \"index\": 10, \"quantile\": 0.45376219016987956}, {\"residual\": 1.3894867767579662, \"index\": 1, \"quantile\": 0.5977601260424784}, {\"residual\": 2.163496130424882, \"index\": 17, \"quantile\": 0.7554150263604693}, {\"residual\": 2.170901847919545, \"index\": 4, \"quantile\": 0.93458929107348}, {\"residual\": 2.389486776757966, \"index\": 2, \"quantile\": 1.1503493803760079}, {\"residual\": 2.4156129898390652, \"index\": 5, \"quantile\": 1.4395314709384563}, {\"residual\": 3.2894218451117148, \"index\": 15, \"quantile\": 1.959963984540054}]}};\n",
       "var opt = {};\n",
       "var type = \"vega-lite\";\n",
       "var id = \"fc2da74c-0f67-4927-9eee-427bd2eec3aa\";\n",
       "\n",
       "var output_area = this;\n",
       "\n",
       "require([\"nbextensions/jupyter-vega/index\"], function(vega) {\n",
       "  var target = document.createElement(\"div\");\n",
       "  target.id = id;\n",
       "  target.className = \"vega-embed\";\n",
       "\n",
       "  var style = document.createElement(\"style\");\n",
       "  style.textContent = [\n",
       "    \".vega-embed .error p {\",\n",
       "    \"  color: firebrick;\",\n",
       "    \"  font-size: 14px;\",\n",
       "    \"}\",\n",
       "  ].join(\"\\\\n\");\n",
       "\n",
       "  // element is a jQuery wrapped DOM element inside the output area\n",
       "  // see http://ipython.readthedocs.io/en/stable/api/generated/\\\n",
       "  // IPython.display.html#IPython.display.Javascript.__init__\n",
       "  element[0].appendChild(target);\n",
       "  element[0].appendChild(style);\n",
       "\n",
       "  vega.render(\"#\" + id, spec, type, opt, output_area);\n",
       "}, function (err) {\n",
       "  if (err.requireType !== \"scripterror\") {\n",
       "    throw(err);\n",
       "  }\n",
       "});\n"
      ],
      "text/plain": [
       "<vega.vegalite.VegaLite at 0x2a9b86a7d68>"
      ]
     },
     "metadata": {
      "jupyter-vega": "#fc2da74c-0f67-4927-9eee-427bd2eec3aa"
     },
     "output_type": "display_data"
    },
    {
     "data": {
      "text/plain": []
     },
     "execution_count": 13,
     "metadata": {},
     "output_type": "execute_result"
    },
    {
     "data": {
      "image/png": "[encoded data removed]"
     },
     "metadata": {
      "jupyter-vega": "#fc2da74c-0f67-4927-9eee-427bd2eec3aa"
     },
     "output_type": "display_data"
    }
   ],
   "source": [
    "model.normal_plot()"
   ]
  },
  {
   "cell_type": "code",
   "execution_count": 14,
   "metadata": {},
   "outputs": [
    {
     "data": {
      "application/javascript": [
       "var spec = {\"config\": {\"view\": {\"width\": 400, \"height\": 300}, \"mark\": {\"tooltip\": null}}, \"layer\": [{\"data\": {\"name\": \"data-a2ec02dcb4bbeb848fb71e113fde6bde\"}, \"mark\": \"line\", \"encoding\": {\"x\": {\"type\": \"quantitative\", \"field\": \"x\"}, \"y\": {\"type\": \"quantitative\", \"field\": \"y\"}}}, {\"data\": {\"name\": \"data-c5759a624e46fc9c15d6de0c54aa3938\"}, \"mark\": \"point\", \"encoding\": {\"tooltip\": [{\"type\": \"quantitative\", \"field\": \"index\"}], \"x\": {\"type\": \"quantitative\", \"field\": \"predict\", \"title\": \"Predicted\"}, \"y\": {\"type\": \"quantitative\", \"field\": \"residual\", \"title\": \"Standardised residual\"}}, \"title\": \"Residual plot\"}], \"$schema\": \"https://vega.github.io/schema/vega-lite/v3.3.0.json\", \"datasets\": {\"data-a2ec02dcb4bbeb848fb71e113fde6bde\": [{\"x\": -1.4300940631416226, \"y\": 0}, {\"x\": -1.0460954188091027, \"y\": 0}, {\"x\": -0.6620967744765829, \"y\": 0}, {\"x\": -0.27809813014406304, \"y\": 0}, {\"x\": 0.1059005141884568, \"y\": 0}, {\"x\": 0.48989915852097665, \"y\": 0}, {\"x\": 0.8738978028534965, \"y\": 0}, {\"x\": 1.2578964471860163, \"y\": 0}, {\"x\": 1.6418950915185362, \"y\": 0}, {\"x\": 2.025893735851056, \"y\": 0}, {\"x\": 2.409892380183576, \"y\": 0}, {\"x\": 2.7938910245160957, \"y\": 0}, {\"x\": 3.1778896688486156, \"y\": 0}, {\"x\": 3.5618883131811354, \"y\": 0}, {\"x\": 3.9458869575136553, \"y\": 0}, {\"x\": 4.3298856018461755, \"y\": 0}, {\"x\": 4.713884246178695, \"y\": 0}, {\"x\": 5.097882890511215, \"y\": 0}, {\"x\": 5.481881534843735, \"y\": 0}, {\"x\": 5.865880179176255, \"y\": 0}, {\"x\": 6.249878823508775, \"y\": 0}, {\"x\": 6.633877467841295, \"y\": 0}, {\"x\": 7.0178761121738145, \"y\": 0}, {\"x\": 7.401874756506334, \"y\": 0}, {\"x\": 7.785873400838854, \"y\": 0}, {\"x\": 8.169872045171374, \"y\": 0}, {\"x\": 8.553870689503894, \"y\": 0}, {\"x\": 8.937869333836414, \"y\": 0}, {\"x\": 9.321867978168934, \"y\": 0}, {\"x\": 9.705866622501453, \"y\": 0}, {\"x\": 10.089865266833973, \"y\": 0}, {\"x\": 10.473863911166493, \"y\": 0}, {\"x\": 10.857862555499013, \"y\": 0}, {\"x\": 11.241861199831533, \"y\": 0}, {\"x\": 11.625859844164053, \"y\": 0}, {\"x\": 12.009858488496572, \"y\": 0}, {\"x\": 12.393857132829092, \"y\": 0}, {\"x\": 12.777855777161612, \"y\": 0}, {\"x\": 13.161854421494132, \"y\": 0}, {\"x\": 13.545853065826652, \"y\": 0}, {\"x\": 13.929851710159172, \"y\": 0}, {\"x\": 14.313850354491692, \"y\": 0}, {\"x\": 14.697848998824211, \"y\": 0}, {\"x\": 15.08184764315673, \"y\": 0}, {\"x\": 15.465846287489251, \"y\": 0}, {\"x\": 15.849844931821773, \"y\": 0}, {\"x\": 16.23384357615429, \"y\": 0}, {\"x\": 16.617842220486807, \"y\": 0}, {\"x\": 17.00184086481933, \"y\": 0}, {\"x\": 17.38583950915185, \"y\": 0}, {\"x\": 17.76983815348437, \"y\": 0}, {\"x\": 18.153836797816886, \"y\": 0}, {\"x\": 18.537835442149408, \"y\": 0}, {\"x\": 18.92183408648193, \"y\": 0}, {\"x\": 19.305832730814448, \"y\": 0}, {\"x\": 19.689831375146966, \"y\": 0}, {\"x\": 20.073830019479487, \"y\": 0}, {\"x\": 20.45782866381201, \"y\": 0}, {\"x\": 20.841827308144527, \"y\": 0}, {\"x\": 21.225825952477045, \"y\": 0}, {\"x\": 21.609824596809567, \"y\": 0}, {\"x\": 21.99382324114209, \"y\": 0}, {\"x\": 22.377821885474606, \"y\": 0}, {\"x\": 22.761820529807125, \"y\": 0}, {\"x\": 23.145819174139646, \"y\": 0}, {\"x\": 23.529817818472168, \"y\": 0}, {\"x\": 23.913816462804686, \"y\": 0}, {\"x\": 24.297815107137204, \"y\": 0}, {\"x\": 24.681813751469726, \"y\": 0}, {\"x\": 25.065812395802247, \"y\": 0}, {\"x\": 25.449811040134765, \"y\": 0}, {\"x\": 25.833809684467283, \"y\": 0}, {\"x\": 26.217808328799805, \"y\": 0}, {\"x\": 26.601806973132327, \"y\": 0}, {\"x\": 26.985805617464845, \"y\": 0}, {\"x\": 27.369804261797363, \"y\": 0}, {\"x\": 27.753802906129884, \"y\": 0}, {\"x\": 28.137801550462406, \"y\": 0}, {\"x\": 28.521800194794924, \"y\": 0}, {\"x\": 28.905798839127442, \"y\": 0}, {\"x\": 29.289797483459964, \"y\": 0}, {\"x\": 29.673796127792485, \"y\": 0}, {\"x\": 30.057794772125003, \"y\": 0}, {\"x\": 30.44179341645752, \"y\": 0}, {\"x\": 30.825792060790043, \"y\": 0}, {\"x\": 31.209790705122565, \"y\": 0}, {\"x\": 31.59378934945508, \"y\": 0}, {\"x\": 31.9777879937876, \"y\": 0}, {\"x\": 32.36178663812012, \"y\": 0}, {\"x\": 32.745785282452644, \"y\": 0}, {\"x\": 33.129783926785166, \"y\": 0}, {\"x\": 33.51378257111768, \"y\": 0}, {\"x\": 33.8977812154502, \"y\": 0}, {\"x\": 34.28177985978272, \"y\": 0}, {\"x\": 34.66577850411524, \"y\": 0}, {\"x\": 35.04977714844776, \"y\": 0}, {\"x\": 35.43377579278028, \"y\": 0}, {\"x\": 35.8177744371128, \"y\": 0}, {\"x\": 36.201773081445324, \"y\": 0}, {\"x\": 36.58577172577784, \"y\": 0}], \"data-c5759a624e46fc9c15d6de0c54aa3938\": [{\"residual\": -0.9089103036788555, \"predict\": -1.3300940631416225, \"index\": 0}, {\"residual\": 0.7562814289988021, \"predict\": 5.610513223242034, \"index\": 1}, {\"residual\": 1.300569753039858, \"predict\": 5.610513223242034, \"index\": 2}, {\"residual\": -0.9955567677024632, \"predict\": 6.829098152080455, \"index\": 3}, {\"residual\": 1.1815965284617602, \"predict\": 6.829098152080455, \"index\": 4}, {\"residual\": 1.3147899457713088, \"predict\": 17.584387010160935, \"index\": 5}, {\"residual\": 0.10724007311109948, \"predict\": 18.802971938999356, \"index\": 6}, {\"residual\": -0.9309032465934829, \"predict\": 20.710312724847768, \"index\": 7}, {\"residual\": -1.4751915706345387, \"predict\": 20.710312724847768, \"index\": 8}, {\"residual\": -1.0498764711715807, \"predict\": 21.92889765368619, \"index\": 9}, {\"residual\": 0.7561369585268987, \"predict\": 13.610778653282551, \"index\": 10}, {\"residual\": -0.9452679097968373, \"predict\": 16.736704367969384, \"index\": 11}, {\"residual\": -0.40097958575578146, \"predict\": 16.736704367969384, \"index\": 12}, {\"residual\": -1.0138078059974058, \"predict\": 19.862630082656217, \"index\": 13}, {\"residual\": 0.12520217046223517, \"predict\": 21.76997086850463, \"index\": 14}, {\"residual\": 1.7903939031398928, \"predict\": 28.710578154888285, \"index\": 15}, {\"residual\": -0.455299289224899, \"predict\": 31.836503869575118, \"index\": 16}, {\"residual\": 1.1775656828982686, \"predict\": 31.836503869575118, \"index\": 17}, {\"residual\": -0.40486596084736975, \"predict\": 33.74384465542353, \"index\": 18}, {\"residual\": 0.07088246699311959, \"predict\": 36.86977037011036, \"index\": 19}]}};\n",
       "var opt = {};\n",
       "var type = \"vega-lite\";\n",
       "var id = \"784a8e62-f2f2-415c-8836-9010e3b62377\";\n",
       "\n",
       "var output_area = this;\n",
       "\n",
       "require([\"nbextensions/jupyter-vega/index\"], function(vega) {\n",
       "  var target = document.createElement(\"div\");\n",
       "  target.id = id;\n",
       "  target.className = \"vega-embed\";\n",
       "\n",
       "  var style = document.createElement(\"style\");\n",
       "  style.textContent = [\n",
       "    \".vega-embed .error p {\",\n",
       "    \"  color: firebrick;\",\n",
       "    \"  font-size: 14px;\",\n",
       "    \"}\",\n",
       "  ].join(\"\\\\n\");\n",
       "\n",
       "  // element is a jQuery wrapped DOM element inside the output area\n",
       "  // see http://ipython.readthedocs.io/en/stable/api/generated/\\\n",
       "  // IPython.display.html#IPython.display.Javascript.__init__\n",
       "  element[0].appendChild(target);\n",
       "  element[0].appendChild(style);\n",
       "\n",
       "  vega.render(\"#\" + id, spec, type, opt, output_area);\n",
       "}, function (err) {\n",
       "  if (err.requireType !== \"scripterror\") {\n",
       "    throw(err);\n",
       "  }\n",
       "});\n"
      ],
      "text/plain": [
       "<vega.vegalite.VegaLite at 0x2a9ba4340b8>"
      ]
     },
     "metadata": {
      "jupyter-vega": "#784a8e62-f2f2-415c-8836-9010e3b62377"
     },
     "output_type": "display_data"
    },
    {
     "data": {
      "text/plain": []
     },
     "execution_count": 14,
     "metadata": {},
     "output_type": "execute_result"
    },
    {
     "data": {
      "image/png": "[encoded data removed]"
     },
     "metadata": {
      "jupyter-vega": "#784a8e62-f2f2-415c-8836-9010e3b62377"
     },
     "output_type": "display_data"
    }
   ],
   "source": [
    "model.residual_plot()"
   ]
  },
  {
   "cell_type": "code",
   "execution_count": 15,
   "metadata": {},
   "outputs": [
    {
     "data": {
      "text/plain": [
       "array([-1.66990594,  1.38948678,  2.38948678, -1.82909815,  2.17090185,\n",
       "        2.41561299,  0.19702806, -1.71031272, -2.71031272, -1.92889765,\n",
       "        1.38922135, -1.73670437, -0.73670437, -1.86263008,  0.23002913,\n",
       "        3.28942185, -0.83650387,  2.16349613, -0.74384466,  0.13022963])"
      ]
     },
     "execution_count": 15,
     "metadata": {},
     "output_type": "execute_result"
    }
   ],
   "source": [
    "model.residual()"
   ]
  },
  {
   "cell_type": "code",
   "execution_count": 16,
   "metadata": {},
   "outputs": [
    {
     "data": {
      "text/plain": [
       "array([[ 0.92307735, -0.08895685, -0.02476127],\n",
       "       [-0.08895685,  0.0408743 , -0.03038883],\n",
       "       [-0.02476127, -0.03038883,  0.03787018]])"
      ]
     },
     "execution_count": 16,
     "metadata": {},
     "output_type": "execute_result"
    }
   ],
   "source": [
    "model.std"
   ]
  },
  {
   "cell_type": "code",
   "execution_count": 17,
   "metadata": {},
   "outputs": [
    {
     "data": {
      "text/plain": [
       "2.4789042345962757"
      ]
     },
     "execution_count": 17,
     "metadata": {},
     "output_type": "execute_result"
    }
   ],
   "source": [
    "model.vif('X1')"
   ]
  },
  {
   "cell_type": "markdown",
   "metadata": {},
   "source": [
    "# **Selection**"
   ]
  },
  {
   "cell_type": "code",
   "execution_count": 18,
   "metadata": {},
   "outputs": [
    {
     "name": "stdout",
     "output_type": "stream",
     "text": [
      "Variable in model: X1, X2, X1c_0, X2c_0, X1c_0_X2, X1c_0_X2c_0, X2c_0_X1\n",
      "Variable Removed                                       Res S.S. before Removal            Res S.S. after Removal\n",
      "X1c_0_X2                                               36.4680                            38.2933        \n",
      "Test Statistic: 0.6006186227063708\n",
      "p-value: 0.45334338680270525\n",
      "Decision: Remove\n",
      "------------------------------------------------------------------------------------------------------------------------\n",
      "Variable in model: X1, X2, X1c_0, X2c_0, X1c_0_X2c_0, X2c_0_X1\n",
      "Variable Removed                                       Res S.S. before Removal            Res S.S. after Removal\n",
      "X1                                                     38.2933                            42.7437        \n",
      "Test Statistic: 1.5108485935660347\n",
      "p-value: 0.24079436221619221\n",
      "Decision: Remove\n",
      "------------------------------------------------------------------------------------------------------------------------\n",
      "Variable in model: X2, X1c_0, X2c_0, X1c_0_X2c_0, X2c_0_X1\n",
      "Variable Removed                                       Res S.S. before Removal            Res S.S. after Removal\n",
      "X2c_0_X1                                               42.7437                            44.8426        \n",
      "Test Statistic: 0.6874407218437367\n",
      "p-value: 0.4209482969430991\n",
      "Decision: Remove\n",
      "------------------------------------------------------------------------------------------------------------------------\n",
      "Variable in model: X2, X1c_0, X2c_0, X1c_0_X2c_0\n",
      "Variable Removed                                       Res S.S. before Removal            Res S.S. after Removal\n",
      "X2c_0                                                  44.8426                            46.4055        \n",
      "Test Statistic: 0.5228164108899941\n",
      "p-value: 0.4807663282270771\n",
      "Decision: Remove\n",
      "------------------------------------------------------------------------------------------------------------------------\n",
      "Variable in model: X2, X1c_0, X1c_0_X2c_0\n",
      "Variable Removed                                       Res S.S. before Removal            Res S.S. after Removal\n",
      "X1c_0_X2c_0                                            46.4055                            54.0541        \n",
      "Test Statistic: 2.6371380403411804\n",
      "p-value: 0.12392565587316517\n",
      "Decision: Remove\n",
      "------------------------------------------------------------------------------------------------------------------------\n",
      "Variable in model: X2, X1c_0\n",
      "Variable Removed                                       Res S.S. before Removal            Res S.S. after Removal\n",
      "X1c_0                                                  54.0541                            201.1942       \n",
      "Test Statistic: 46.275484271438\n",
      "p-value: 3.0798272840915075e-06\n",
      "Decision: Do not remove\n",
      "------------------------------------------------------------------------------------------------------------------------\n"
     ]
    }
   ],
   "source": [
    "BackwardSelection(dm, ['X1', 'X2', 'X1c_0', 'X2c_0', 'X1c_0_X2', 'X1c_0_X2c_0', 'X2c_0_X1'], 'y')"
   ]
  },
  {
   "cell_type": "code",
   "execution_count": 19,
   "metadata": {},
   "outputs": [
    {
     "name": "stdout",
     "output_type": "stream",
     "text": [
      "Variable in model: \n",
      "Variable Entered                                       Res S.S. before Entered            Res S.S. after Entered\n",
      "X2                                                     2155.7500                          201.1942       \n",
      "Test Statistic: 174.8659275755904\n",
      "p-value: 1.0411016493350189e-10\n",
      "Decision: Enter\n",
      "------------------------------------------------------------------------------------------------------------------------\n",
      "Variable in model: X2\n",
      "Variable Entered                                       Res S.S. before Entered            Res S.S. after Entered\n",
      "X1c_0                                                  201.1942                           54.0541        \n",
      "Test Statistic: 46.275484271438\n",
      "p-value: 3.0798272840915075e-06\n",
      "Decision: Enter\n",
      "------------------------------------------------------------------------------------------------------------------------\n",
      "Variable in model: X2, X1c_0\n",
      "Variable Entered                                       Res S.S. before Entered            Res S.S. after Entered\n",
      "X1c_0_X2c_0                                            54.0541                            46.4055        \n",
      "Test Statistic: 2.6371380403411804\n",
      "p-value: 0.12392565587316517\n",
      "Decision: Do not enter\n",
      "------------------------------------------------------------------------------------------------------------------------\n"
     ]
    }
   ],
   "source": [
    "ForwardSelection(dm, ['X1', 'X2', 'X1c_0', 'X2c_0', 'X1c_0_X2', 'X1c_0_X2c_0', 'X2c_0_X1'], 'y')"
   ]
  },
  {
   "cell_type": "code",
   "execution_count": 20,
   "metadata": {},
   "outputs": [
    {
     "name": "stdout",
     "output_type": "stream",
     "text": [
      "Variable in model: \n",
      "Variable Entered                                       Res S.S. before Entered            Res S.S. after Entered\n",
      "X2                                                     2155.7500                          201.1942       \n",
      "Test Statistic: 174.8659275755904\n",
      "p-value: 1.0411016493350189e-10\n",
      "Decision: Enter\n",
      "------------------------------------------------------------------------------------------------------------------------\n",
      "Variable in model: X2\n",
      "Variable Entered                                       Res S.S. before Entered            Res S.S. after Entered\n",
      "X1c_0                                                  201.1942                           54.0541        \n",
      "Test Statistic: 46.275484271438\n",
      "p-value: 3.0798272840915075e-06\n",
      "Decision: Enter\n",
      "------------------------------------------------------------------------------------------------------------------------\n",
      "Variable in model: X2, X1c_0\n",
      "Variable Removed                                       Res S.S. before Removal            Res S.S. after Removal\n",
      "X1c_0                                                  54.0541                            201.1942       \n",
      "Test Statistic: 46.275484271438\n",
      "p-value: 3.0798272840915075e-06\n",
      "Decision: Do not remove\n",
      "------------------------------------------------------------------------------------------------------------------------\n",
      "Variable in model: X2, X1c_0\n",
      "Variable Entered                                       Res S.S. before Entered            Res S.S. after Entered\n",
      "X1c_0_X2c_0                                            54.0541                            46.4055        \n",
      "Test Statistic: 2.6371380403411804\n",
      "p-value: 0.12392565587316517\n",
      "Decision: Do not enter\n",
      "------------------------------------------------------------------------------------------------------------------------\n"
     ]
    }
   ],
   "source": [
    "StepwiseSelection(dm, ['X1', 'X2', 'X1c_0', 'X2c_0', 'X1c_0_X2', 'X1c_0_X2c_0', 'X2c_0_X1'], 'y')"
   ]
  },
  {
   "cell_type": "code",
   "execution_count": null,
   "metadata": {},
   "outputs": [],
   "source": []
  }
 ],
 "metadata": {
  "kernelspec": {
   "display_name": "Python 3",
   "language": "python",
   "name": "python3"
  },
  "language_info": {
   "codemirror_mode": {
    "name": "ipython",
    "version": 3
   },
   "file_extension": ".py",
   "mimetype": "text/x-python",
   "name": "python",
   "nbconvert_exporter": "python",
   "pygments_lexer": "ipython3",
   "version": "3.6.5"
  }
 },
 "nbformat": 4,
 "nbformat_minor": 2
}
