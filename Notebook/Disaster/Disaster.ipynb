{
 "cells": [
  {
   "cell_type": "markdown",
   "metadata": {},
   "source": [
    "# Content \n",
    "- [Import Data](#Import-Data)\n",
    "- [Exploratory Data Analysis](#Exploratory-Data-Analysis)\n",
    "- [Data Preprocessing](#Data-Preprocessing)\n",
    "- [Tokenization](#Tokenization)\n",
    "- [Naive Bayes Classifier](#Naive-Bayes-Classifier)\n",
    "- [Tuning Parameter by CV](#Tuning-Parameter-by-CV)\n",
    "- [Model Evaluation](#Model-Evaluation)\n",
    "- [Final Model](#Final-Model)\n",
    "- [Prediction](#Prediction)\n",
    "- [Further Work](#Further-Work)"
   ]
  },
  {
   "cell_type": "code",
   "execution_count": 1,
   "metadata": {},
   "outputs": [],
   "source": [
    "import numpy as np\n",
    "import pandas as pd\n",
    "import matplotlib.pyplot as plt\n",
    "\n",
    "import seaborn as sns\n",
    "\n",
    "import string\n",
    "import re\n",
    "import nltk\n",
    "from nltk.tokenize import TweetTokenizer\n",
    "from nltk.corpus import stopwords\n",
    "from nltk.stem import WordNetLemmatizer, PorterStemmer\n",
    "from wordcloud import WordCloud\n",
    "\n",
    "\n",
    "from sklearn.model_selection import train_test_split\n",
    "from sklearn.preprocessing import OrdinalEncoder, OneHotEncoder\n",
    "from sklearn.feature_extraction.text import CountVectorizer\n",
    "from sklearn.naive_bayes import MultinomialNB, CategoricalNB, GaussianNB\n",
    "from sklearn.base import BaseEstimator, TransformerMixin, ClassifierMixin\n",
    "from sklearn.pipeline import FeatureUnion, Pipeline, make_pipeline\n",
    "from sklearn.metrics import accuracy_score, roc_auc_score\n",
    "from sklearn.model_selection import cross_val_score, GridSearchCV, LeaveOneOut\n",
    "\n",
    "from scipy.stats import chi2_contingency\n",
    "\n",
    "# import warnings\n",
    "# warnings.filterwarnings('ignore')"
   ]
  },
  {
   "cell_type": "code",
   "execution_count": 2,
   "metadata": {},
   "outputs": [],
   "source": [
    "import sys\n",
    "\n",
    "sys.path.append('../../')\n",
    "\n",
    "from utils import plot_roc, plot_ks, confusion_matrix, EmpiricalBootstrappingROC"
   ]
  },
  {
   "cell_type": "markdown",
   "metadata": {},
   "source": [
    "# Import Data"
   ]
  },
  {
   "cell_type": "code",
   "execution_count": 3,
   "metadata": {},
   "outputs": [
    {
     "data": {
      "text/html": [
       "<div>\n",
       "<style scoped>\n",
       "    .dataframe tbody tr th:only-of-type {\n",
       "        vertical-align: middle;\n",
       "    }\n",
       "\n",
       "    .dataframe tbody tr th {\n",
       "        vertical-align: top;\n",
       "    }\n",
       "\n",
       "    .dataframe thead th {\n",
       "        text-align: right;\n",
       "    }\n",
       "</style>\n",
       "<table border=\"1\" class=\"dataframe\">\n",
       "  <thead>\n",
       "    <tr style=\"text-align: right;\">\n",
       "      <th></th>\n",
       "      <th>keyword</th>\n",
       "      <th>location</th>\n",
       "      <th>text</th>\n",
       "      <th>target</th>\n",
       "    </tr>\n",
       "    <tr>\n",
       "      <th>id</th>\n",
       "      <th></th>\n",
       "      <th></th>\n",
       "      <th></th>\n",
       "      <th></th>\n",
       "    </tr>\n",
       "  </thead>\n",
       "  <tbody>\n",
       "    <tr>\n",
       "      <th>1</th>\n",
       "      <td>NaN</td>\n",
       "      <td>NaN</td>\n",
       "      <td>Our Deeds are the Reason of this #earthquake M...</td>\n",
       "      <td>1</td>\n",
       "    </tr>\n",
       "    <tr>\n",
       "      <th>4</th>\n",
       "      <td>NaN</td>\n",
       "      <td>NaN</td>\n",
       "      <td>Forest fire near La Ronge Sask. Canada</td>\n",
       "      <td>1</td>\n",
       "    </tr>\n",
       "    <tr>\n",
       "      <th>5</th>\n",
       "      <td>NaN</td>\n",
       "      <td>NaN</td>\n",
       "      <td>All residents asked to 'shelter in place' are ...</td>\n",
       "      <td>1</td>\n",
       "    </tr>\n",
       "    <tr>\n",
       "      <th>6</th>\n",
       "      <td>NaN</td>\n",
       "      <td>NaN</td>\n",
       "      <td>13,000 people receive #wildfires evacuation or...</td>\n",
       "      <td>1</td>\n",
       "    </tr>\n",
       "    <tr>\n",
       "      <th>7</th>\n",
       "      <td>NaN</td>\n",
       "      <td>NaN</td>\n",
       "      <td>Just got sent this photo from Ruby #Alaska as ...</td>\n",
       "      <td>1</td>\n",
       "    </tr>\n",
       "  </tbody>\n",
       "</table>\n",
       "</div>"
      ],
      "text/plain": [
       "   keyword location                                               text  target\n",
       "id                                                                            \n",
       "1      NaN      NaN  Our Deeds are the Reason of this #earthquake M...       1\n",
       "4      NaN      NaN             Forest fire near La Ronge Sask. Canada       1\n",
       "5      NaN      NaN  All residents asked to 'shelter in place' are ...       1\n",
       "6      NaN      NaN  13,000 people receive #wildfires evacuation or...       1\n",
       "7      NaN      NaN  Just got sent this photo from Ruby #Alaska as ...       1"
      ]
     },
     "execution_count": 3,
     "metadata": {},
     "output_type": "execute_result"
    }
   ],
   "source": [
    "data = pd.read_csv('../../data/Disaster/train.csv', index_col = 0)\n",
    "data.head()"
   ]
  },
  {
   "cell_type": "code",
   "execution_count": 4,
   "metadata": {},
   "outputs": [
    {
     "name": "stdout",
     "output_type": "stream",
     "text": [
      "The shape of the dataset is (7613, 4)\n"
     ]
    }
   ],
   "source": [
    "print(f'The shape of the dataset is {data.shape}')"
   ]
  },
  {
   "cell_type": "markdown",
   "metadata": {},
   "source": [
    "<li><code>keyword</code>: a particular keyword from the tweet (may be blank)</li>\n",
    "<li><code>location</code>: the location the tweet was sent from (may be blank)</li>\n",
    "<li><code>text</code>: the text of the tweet</li>\n",
    "<li><code>target</code>: denotes whether a tweet is about a real disaster (1) or not (0)</li>"
   ]
  },
  {
   "cell_type": "markdown",
   "metadata": {},
   "source": [
    "# Exploratory Data Analysis"
   ]
  },
  {
   "cell_type": "code",
   "execution_count": 5,
   "metadata": {},
   "outputs": [
    {
     "name": "stdout",
     "output_type": "stream",
     "text": [
      "keyword: suicide%20bombing\n",
      "location: Memphis\n",
      "text: Kurd Suicide Attack Kills 2 Turkish Soldiers http://t.co/GHGHQm9e6d\n",
      "target: 1\n",
      "\n",
      "keyword: flattened\n",
      "location: Mississauga, Ontario\n",
      "text: @tweetingLew @tersestuff \r\n",
      "\r\n",
      "Notley flattened Harper IN HIS Heartland\r\n",
      "Harper Imported tens of thousands of TFW slaves COST ALBERTANS JOBS\n",
      "target: 0\n",
      "\n",
      "keyword: annihilated\n",
      "location: nan\n",
      "text: @Volfan326 @TNeazzy Mizzou has annihilated florida the past 2 seasons even ended muschamp's career just can't compete with Bama\n",
      "target: 0\n",
      "\n",
      "keyword: emergency\n",
      "location: nan\n",
      "text: Emergency root canal!! #tookitlikeaman #lovemydentist #sore\n",
      "target: 0\n",
      "\n",
      "keyword: refugees\n",
      "location: Bangalore, India\n",
      "text: #Turkish couple decided to feed 4000 #Syrian #refugees as part of their #wedding celebrations http://t.co/EHLq3ZSPTd http://t.co/DjX5eLbrv1\n",
      "target: 0\n",
      "\n"
     ]
    }
   ],
   "source": [
    "samples = data.dropna(subset = ['keyword']).sample(5)\n",
    "for index in samples.index:\n",
    "    for col in data.columns:\n",
    "        print(f'{col}:', samples.loc[index, col])\n",
    "    print()"
   ]
  },
  {
   "cell_type": "markdown",
   "metadata": {},
   "source": [
    "Observations:\n",
    "- Keyword and location are probably extracted by some unknown algorithm. These two may not be found in the tweet\n",
    "    - In reality, when predicting for a new tweet, these two attributes are porbably not provided.\n",
    "- Tweet with url are more probably about disaster.\n",
    "    - Twitter uses its own t.co domain to shorten links in your tweets, but it's done after you post so that you don't get to use the full 140 characters. Visit one of the other shortening sites for ways to shorten URLs in advance.\n",
    "    - https://www.dummies.com/article/technology/social-media/twitter/how-to-insert-links-into-tweets-187355/\n",
    "- %20 is used in url as a valid input representing white space."
   ]
  },
  {
   "cell_type": "code",
   "execution_count": 6,
   "metadata": {},
   "outputs": [],
   "source": [
    "data['keyword2'] = data['keyword']\n",
    "data.loc[~data['keyword2'].isna(), 'keyword2'] = data.loc[~data['keyword2'].isna(), 'keyword2'].apply(lambda x: x.replace('%20', ' '))"
   ]
  },
  {
   "cell_type": "code",
   "execution_count": 7,
   "metadata": {},
   "outputs": [
    {
     "data": {
      "text/plain": [
       "NaN                    61\n",
       "fatalities             45\n",
       "deluge                 42\n",
       "armageddon             42\n",
       "sinking                41\n",
       "                       ..\n",
       "forest fire            19\n",
       "epicentre              12\n",
       "threat                 11\n",
       "inundation             10\n",
       "radiation emergency     9\n",
       "Name: keyword2, Length: 222, dtype: int64"
      ]
     },
     "execution_count": 7,
     "metadata": {},
     "output_type": "execute_result"
    }
   ],
   "source": [
    "data['keyword2'].value_counts(dropna = False)"
   ]
  },
  {
   "cell_type": "code",
   "execution_count": 8,
   "metadata": {
    "scrolled": true
   },
   "outputs": [
    {
     "data": {
      "text/plain": [
       "array([nan, 'ablaze', 'accident', 'aftershock', 'airplane accident',\n",
       "       'ambulance', 'annihilated', 'annihilation', 'apocalypse',\n",
       "       'armageddon', 'army', 'arson', 'arsonist', 'attack', 'attacked',\n",
       "       'avalanche', 'battle', 'bioterror', 'bioterrorism', 'blaze',\n",
       "       'blazing', 'bleeding', 'blew up', 'blight', 'blizzard', 'blood',\n",
       "       'bloody', 'blown up', 'body bag', 'body bagging', 'body bags',\n",
       "       'bomb', 'bombed', 'bombing', 'bridge collapse',\n",
       "       'buildings burning', 'buildings on fire', 'burned', 'burning',\n",
       "       'burning buildings', 'bush fires', 'casualties', 'casualty',\n",
       "       'catastrophe', 'catastrophic', 'chemical emergency', 'cliff fall',\n",
       "       'collapse', 'collapsed', 'collide', 'collided', 'collision',\n",
       "       'crash', 'crashed', 'crush', 'crushed', 'curfew', 'cyclone',\n",
       "       'damage', 'danger', 'dead', 'death', 'deaths', 'debris', 'deluge',\n",
       "       'deluged', 'demolish', 'demolished', 'demolition', 'derail',\n",
       "       'derailed', 'derailment', 'desolate', 'desolation', 'destroy',\n",
       "       'destroyed', 'destruction', 'detonate', 'detonation', 'devastated',\n",
       "       'devastation', 'disaster', 'displaced', 'drought', 'drown',\n",
       "       'drowned', 'drowning', 'dust storm', 'earthquake', 'electrocute',\n",
       "       'electrocuted', 'emergency', 'emergency plan',\n",
       "       'emergency services', 'engulfed', 'epicentre', 'evacuate',\n",
       "       'evacuated', 'evacuation', 'explode', 'exploded', 'explosion',\n",
       "       'eyewitness', 'famine', 'fatal', 'fatalities', 'fatality', 'fear',\n",
       "       'fire', 'fire truck', 'first responders', 'flames', 'flattened',\n",
       "       'flood', 'flooding', 'floods', 'forest fire', 'forest fires',\n",
       "       'hail', 'hailstorm', 'harm', 'hazard', 'hazardous', 'heat wave',\n",
       "       'hellfire', 'hijack', 'hijacker', 'hijacking', 'hostage',\n",
       "       'hostages', 'hurricane', 'injured', 'injuries', 'injury',\n",
       "       'inundated', 'inundation', 'landslide', 'lava', 'lightning',\n",
       "       'loud bang', 'mass murder', 'mass murderer', 'massacre', 'mayhem',\n",
       "       'meltdown', 'military', 'mudslide', 'natural disaster',\n",
       "       'nuclear disaster', 'nuclear reactor', 'obliterate', 'obliterated',\n",
       "       'obliteration', 'oil spill', 'outbreak', 'pandemonium', 'panic',\n",
       "       'panicking', 'police', 'quarantine', 'quarantined',\n",
       "       'radiation emergency', 'rainstorm', 'razed', 'refugees', 'rescue',\n",
       "       'rescued', 'rescuers', 'riot', 'rioting', 'rubble', 'ruin',\n",
       "       'sandstorm', 'screamed', 'screaming', 'screams', 'seismic',\n",
       "       'sinkhole', 'sinking', 'siren', 'sirens', 'smoke', 'snowstorm',\n",
       "       'storm', 'stretcher', 'structural failure', 'suicide bomb',\n",
       "       'suicide bomber', 'suicide bombing', 'sunk', 'survive', 'survived',\n",
       "       'survivors', 'terrorism', 'terrorist', 'threat', 'thunder',\n",
       "       'thunderstorm', 'tornado', 'tragedy', 'trapped', 'trauma',\n",
       "       'traumatised', 'trouble', 'tsunami', 'twister', 'typhoon',\n",
       "       'upheaval', 'violent storm', 'volcano', 'war zone', 'weapon',\n",
       "       'weapons', 'whirlwind', 'wild fires', 'wildfire', 'windstorm',\n",
       "       'wounded', 'wounds', 'wreck', 'wreckage', 'wrecked'], dtype=object)"
      ]
     },
     "execution_count": 8,
     "metadata": {},
     "output_type": "execute_result"
    }
   ],
   "source": [
    "data['keyword2'].unique()\n",
    "# need lemmatization"
   ]
  },
  {
   "cell_type": "code",
   "execution_count": 9,
   "metadata": {},
   "outputs": [
    {
     "data": {
      "text/plain": [
       "derailment         39\n",
       "wreckage           39\n",
       "outbreak           39\n",
       "debris             37\n",
       "oil spill          37\n",
       "typhoon            37\n",
       "evacuated          32\n",
       "suicide bombing    32\n",
       "rescuers           32\n",
       "suicide bomb       32\n",
       "Name: keyword2, dtype: int64"
      ]
     },
     "execution_count": 9,
     "metadata": {},
     "output_type": "execute_result"
    }
   ],
   "source": [
    "data[data['target'] == 1]['keyword2'].value_counts().head(10)"
   ]
  },
  {
   "cell_type": "code",
   "execution_count": 10,
   "metadata": {},
   "outputs": [
    {
     "data": {
      "text/plain": [
       "body bags     40\n",
       "harm          37\n",
       "armageddon    37\n",
       "wrecked       36\n",
       "ruin          36\n",
       "deluge        36\n",
       "explode       35\n",
       "twister       35\n",
       "fear          35\n",
       "siren         35\n",
       "Name: keyword2, dtype: int64"
      ]
     },
     "execution_count": 10,
     "metadata": {},
     "output_type": "execute_result"
    }
   ],
   "source": [
    "data[data['target'] == 0]['keyword2'].value_counts().head(10)\n",
    "# In general, tweets have different set of keyword when they are related to disaster\n",
    "# However, ome of the keywords like wreckage are not useful in predicting the diasaster, as they frequently occur in tweets \n",
    "# either about diasater or not related to diasater."
   ]
  },
  {
   "cell_type": "code",
   "execution_count": 11,
   "metadata": {},
   "outputs": [
    {
     "data": {
      "text/plain": [
       "NaN                             2533\n",
       "USA                              104\n",
       "New York                          71\n",
       "United States                     50\n",
       "London                            45\n",
       "                                ... \n",
       "Surulere Lagos,Home Of Swagg       1\n",
       "MontrÌ©al, QuÌ©bec                 1\n",
       "Montreal                           1\n",
       "ÌÏT: 6.4682,3.18287                1\n",
       "Lincoln                            1\n",
       "Name: location, Length: 3342, dtype: int64"
      ]
     },
     "execution_count": 11,
     "metadata": {},
     "output_type": "execute_result"
    }
   ],
   "source": [
    "data['location'].value_counts(dropna = False)\n",
    "# Most are without location"
   ]
  },
  {
   "cell_type": "code",
   "execution_count": 12,
   "metadata": {},
   "outputs": [
    {
     "data": {
      "text/plain": [
       "USA                 67\n",
       "United States       27\n",
       "Nigeria             22\n",
       "India               20\n",
       "Mumbai              19\n",
       "UK                  16\n",
       "London              16\n",
       "New York            16\n",
       "Washington, DC      15\n",
       "Canada              13\n",
       "Worldwide           12\n",
       "Washington, D.C.     9\n",
       "Chicago, IL          9\n",
       "Australia            9\n",
       "Indonesia            8\n",
       "Los Angeles, CA      8\n",
       "California, USA      8\n",
       "Earth                8\n",
       "California           7\n",
       "New York, NY         7\n",
       "Name: location, dtype: int64"
      ]
     },
     "execution_count": 12,
     "metadata": {},
     "output_type": "execute_result"
    }
   ],
   "source": [
    "data[data['target'] == 1]['location'].value_counts().head(20)"
   ]
  },
  {
   "cell_type": "code",
   "execution_count": 13,
   "metadata": {},
   "outputs": [
    {
     "data": {
      "text/plain": [
       "New York           55\n",
       "USA                37\n",
       "London             29\n",
       "United States      23\n",
       "Los Angeles, CA    18\n",
       "Canada             16\n",
       "Kenya              15\n",
       "Everywhere         12\n",
       "Florida            11\n",
       "UK                 11\n",
       "California         10\n",
       "NYC                10\n",
       "United Kingdom     10\n",
       "ss                  9\n",
       "London, England     9\n",
       "Australia           9\n",
       "Chicago, IL         9\n",
       "304                 9\n",
       "San Francisco       8\n",
       "New York, NY        8\n",
       "Name: location, dtype: int64"
      ]
     },
     "execution_count": 13,
     "metadata": {},
     "output_type": "execute_result"
    }
   ],
   "source": [
    "data[data['target'] == 0]['location'].value_counts().head(20)"
   ]
  },
  {
   "cell_type": "code",
   "execution_count": 14,
   "metadata": {},
   "outputs": [
    {
     "data": {
      "text/plain": [
       "id\n",
       "5442            Los Angeles, CA\n",
       "5565                   New York\n",
       "7643                 California\n",
       "2777    A.A.S my Aztec Princess\n",
       "4860     Moncton, New Brunswick\n",
       "5650          Global-NoLocation\n",
       "5249                         TX\n",
       "129                    Maldives\n",
       "2808                        USA\n",
       "1817              New Hampshire\n",
       "3690                     Norway\n",
       "1677        Buscame EL tu Melte\n",
       "7006                 Boston, MA\n",
       "3642               Richmond, VA\n",
       "3142                  Hong Kong\n",
       "4596                Augusta, GA\n",
       "2993               Planet Earth\n",
       "353             Subconscious LA\n",
       "6466                        USA\n",
       "864                 Atlanta, GA\n",
       "Name: location, dtype: object"
      ]
     },
     "execution_count": 14,
     "metadata": {},
     "output_type": "execute_result"
    }
   ],
   "source": [
    "data['location'].dropna().sample(20)\n",
    "# many noises and not useful in prediction"
   ]
  },
  {
   "cell_type": "code",
   "execution_count": 15,
   "metadata": {},
   "outputs": [
    {
     "name": "stdout",
     "output_type": "stream",
     "text": [
      "['FedEx no longer will ship potential bioterror pathogens - FedEx Corp. (NYSE: FDX) will no longer deliver packages ... http://t.co/2kdq56xTWs'\n",
      " 'Dudes will thoroughly express how stupid black ppl r for burning buildings in response to brutality but nvr mention them being mistreated.'\n",
      " 'Check out my Lava lamp dude ???? http://t.co/To9ViqooFv'\n",
      " 'SoloQuiero Maryland mansion fire that killed 6 caused by damaged plug under Christmas tree report says - Into the flames: Firefighte...'\n",
      " 'The media needs to stop publicizing mass murder. So many sick people do these things for the eyes of the world &amp; the media is not helping.'\n",
      " '@msnbc What a fucking idiot. He had a gun &amp; a hatchet yet there were still no serious injuries. Glad police terminated him.'\n",
      " 'The Latest: More Homes Razed by Northern California Wildfire - ABC News http://t.co/Rg9yaybOSA'\n",
      " 'CNN: Tennessee movie theater shooting suspect killed by police http://t.co/dI8ElZsWNR'\n",
      " '#science Now that a piece of wreckage from flight MH370 has been confirmed on RÌ©union Island is it possible t...  http://t.co/uqva3dfbCA'\n",
      " 'Refugio oil spill may have been costlier bigger than projected http://t.co/GusrAmzp1s #news']\n"
     ]
    }
   ],
   "source": [
    "print(data.loc[data['target'] == 1, 'text'].sample(10).values)\n",
    "# hashtag\n",
    "# html tag\n",
    "# @ tag\n",
    "# \\r\\n\n",
    "# url"
   ]
  },
  {
   "cell_type": "code",
   "execution_count": 16,
   "metadata": {},
   "outputs": [
    {
     "name": "stdout",
     "output_type": "stream",
     "text": [
      "['Spot Flood Combo 53inch 300W Curved Cree LED Work Light Bar 4X4 Offroad Fog Lamp - Full re\\x89Û_ http://t.co/jCDd6SD6Qn http://t.co/9gUCkjghms'\n",
      " \"Lunch for the crew is made. Night night it's been a long day! \\r\\n~Peace~Love~Rescue~\"\n",
      " 'Last Second Ebay Bid RT? http://t.co/oEKUcq4ZL0 Shaolin Rescuers (dvd 2010) Shen Chan Nan Chiang Five Venoms Kung Fu ?Please Favori'\n",
      " '@Snazzychipz OMG... WHAT IS THE SUB WEAPON'\n",
      " 'August 5: Your daily horoscope: A relationship upheaval over the next few months may be disruptive but in the ... http://t.co/gk4uNPZNhN'\n",
      " '#MrRobinson is giving me #TheSteveHarveyShow vibe. Music teacher looks out for students has crush on girl he went to high school with. ??'\n",
      " 'I like the weird ones like Rain of Mystical or Windstorm or Ocean Waves https://t.co/gCdxYdBSc4'\n",
      " 'Well me and dad survived my driving ????????'\n",
      " 'Hellfire Gargoyle Hoof coil http://t.co/2ii3Brc7NX'\n",
      " \"#hot  Reddit's new content policy goes into effect many horrible subreddits banned or quarantined http://t.co/VhrLsWvZql #prebreak #best\"]\n"
     ]
    }
   ],
   "source": [
    "print(data.loc[data['target'] == 0, 'text'].sample(10).values)"
   ]
  },
  {
   "cell_type": "code",
   "execution_count": 17,
   "metadata": {},
   "outputs": [
    {
     "data": {
      "text/html": [
       "<div>\n",
       "<style scoped>\n",
       "    .dataframe tbody tr th:only-of-type {\n",
       "        vertical-align: middle;\n",
       "    }\n",
       "\n",
       "    .dataframe tbody tr th {\n",
       "        vertical-align: top;\n",
       "    }\n",
       "\n",
       "    .dataframe thead th {\n",
       "        text-align: right;\n",
       "    }\n",
       "</style>\n",
       "<table border=\"1\" class=\"dataframe\">\n",
       "  <thead>\n",
       "    <tr style=\"text-align: right;\">\n",
       "      <th>target</th>\n",
       "      <th>0</th>\n",
       "      <th>1</th>\n",
       "    </tr>\n",
       "    <tr>\n",
       "      <th>with_url</th>\n",
       "      <th></th>\n",
       "      <th></th>\n",
       "    </tr>\n",
       "  </thead>\n",
       "  <tbody>\n",
       "    <tr>\n",
       "      <th>0</th>\n",
       "      <td>0.698243</td>\n",
       "      <td>0.301757</td>\n",
       "    </tr>\n",
       "    <tr>\n",
       "      <th>1</th>\n",
       "      <td>0.453035</td>\n",
       "      <td>0.546965</td>\n",
       "    </tr>\n",
       "  </tbody>\n",
       "</table>\n",
       "</div>"
      ],
      "text/plain": [
       "target           0         1\n",
       "with_url                    \n",
       "0         0.698243  0.301757\n",
       "1         0.453035  0.546965"
      ]
     },
     "execution_count": 17,
     "metadata": {},
     "output_type": "execute_result"
    }
   ],
   "source": [
    "data['with_url'] = data['text'].apply(lambda x: 1 if 'http' in x else 0)\n",
    "ct = pd.crosstab(data['with_url'], data['target'], normalize=\"index\")\n",
    "ct\n",
    "# Tweet with url are more related disaster"
   ]
  },
  {
   "cell_type": "code",
   "execution_count": 18,
   "metadata": {},
   "outputs": [
    {
     "data": {
      "image/png": "[encoded data removed]",
      "text/plain": [
       "<Figure size 432x288 with 1 Axes>"
      ]
     },
     "metadata": {
      "needs_background": "light"
     },
     "output_type": "display_data"
    }
   ],
   "source": [
    "ct.plot(kind='bar', stacked=True)\n",
    "plt.show()\n",
    "# Marginally, tweets with url have higher chance to be related to disaster."
   ]
  },
  {
   "cell_type": "code",
   "execution_count": 19,
   "metadata": {},
   "outputs": [
    {
     "data": {
      "text/plain": [
       "with_url  with_shorten_url\n",
       "1         1                   3970\n",
       "0         0                   3642\n",
       "1         0                      1\n",
       "dtype: int64"
      ]
     },
     "execution_count": 19,
     "metadata": {},
     "output_type": "execute_result"
    }
   ],
   "source": [
    "data['with_shorten_url'] = data['text'].apply(lambda x: 1 if re.search('http[s]*://t.co', x) else 0)\n",
    "data[['with_url', 'with_shorten_url']].value_counts()"
   ]
  },
  {
   "cell_type": "code",
   "execution_count": 20,
   "metadata": {},
   "outputs": [
    {
     "data": {
      "text/plain": [
       "array(['Dozens Die As two Trains Derail Into A River In Indiahttp://www.informationng.com/?p=309943'],\n",
       "      dtype=object)"
      ]
     },
     "execution_count": 20,
     "metadata": {},
     "output_type": "execute_result"
    }
   ],
   "source": [
    "data[(data['with_url'] == 1) &\\\n",
    "     (data['with_shorten_url'] == 0)]['text'].values\n",
    "# The last token and the url are not separated by the white space and the url is not shortten"
   ]
  },
  {
   "cell_type": "code",
   "execution_count": 21,
   "metadata": {},
   "outputs": [],
   "source": [
    "def text_preprocessing(text):\n",
    "    text = re.sub(r'http\\S+', '', text)\n",
    "    text = TweetTokenizer(strip_handles = True, reduce_len = True).tokenize(text)\n",
    "    text = [t for t in text if t not in string.punctuation]\n",
    "    text = [t.lower() for t in text if t.lower() not in stopwords.words('english')]\n",
    "    stemmer = PorterStemmer()\n",
    "    text = [stemmer.stem(t) if '#' not in t else t for t in text]\n",
    "    return text\n",
    "\n",
    "# strip_handles: remove @user\n",
    "# reduce_len: remove repeated pattern\n",
    "# https://berkeley-stat159-f17.github.io/stat159-f17/lectures/11-strings/11-nltk..html"
   ]
  },
  {
   "cell_type": "code",
   "execution_count": 22,
   "metadata": {},
   "outputs": [
    {
     "name": "stdout",
     "output_type": "stream",
     "text": [
      "Do you have a plan? Emergency Preparedness for #Families of\r\n",
      "Children with Special Needs  http://t.co/RdOVqaUAx5  #autism #specialneeds\n"
     ]
    },
    {
     "data": {
      "text/plain": [
       "['plan',\n",
       " 'emerg',\n",
       " 'prepared',\n",
       " '#families',\n",
       " 'children',\n",
       " 'special',\n",
       " 'need',\n",
       " '#autism',\n",
       " '#specialneeds']"
      ]
     },
     "execution_count": 22,
     "metadata": {},
     "output_type": "execute_result"
    }
   ],
   "source": [
    "text_sample = data['text'].sample(1).values[0]\n",
    "\n",
    "print(text_sample)\n",
    "text_preprocessing(text_sample)"
   ]
  },
  {
   "cell_type": "code",
   "execution_count": 23,
   "metadata": {},
   "outputs": [],
   "source": [
    "data['token'] = data['text'].apply(text_preprocessing)"
   ]
  },
  {
   "cell_type": "code",
   "execution_count": 24,
   "metadata": {},
   "outputs": [
    {
     "data": {
      "image/png": "[encoded data removed]",
      "text/plain": [
       "<Figure size 1440x720 with 2 Axes>"
      ]
     },
     "metadata": {
      "needs_background": "light"
     },
     "output_type": "display_data"
    }
   ],
   "source": [
    "fig, axes = plt.subplots(1, 2, figsize = (20, 10))\n",
    "for i, ax in enumerate(axes):\n",
    "    wc = WordCloud(max_words = 20, background_color=\"white\").generate(' '.join(data[data['target'] == i]['token'].apply(lambda x: ' '.join(x)).tolist()))\n",
    "    ax.set_title(f'Target = {i}')\n",
    "    ax.imshow(wc)\n",
    "    \n",
    "# Some most frequent tokens are noise"
   ]
  },
  {
   "cell_type": "code",
   "execution_count": 25,
   "metadata": {},
   "outputs": [
    {
     "data": {
      "text/plain": [
       "0    4342\n",
       "1    3271\n",
       "Name: target, dtype: int64"
      ]
     },
     "execution_count": 25,
     "metadata": {},
     "output_type": "execute_result"
    }
   ],
   "source": [
    "data['target'].value_counts()\n",
    "# A bit unbalanced"
   ]
  },
  {
   "cell_type": "markdown",
   "metadata": {},
   "source": [
    "# Data Preprocessing"
   ]
  },
  {
   "cell_type": "code",
   "execution_count": 26,
   "metadata": {},
   "outputs": [
    {
     "data": {
      "text/plain": [
       "((5329, 8), (2284, 8))"
      ]
     },
     "execution_count": 26,
     "metadata": {},
     "output_type": "execute_result"
    }
   ],
   "source": [
    "train, test = train_test_split(data, test_size = 0.3, random_state = 0)\n",
    "train.shape, test.shape"
   ]
  },
  {
   "cell_type": "code",
   "execution_count": 27,
   "metadata": {},
   "outputs": [],
   "source": [
    "train_rescale = train.copy()"
   ]
  },
  {
   "cell_type": "code",
   "execution_count": 28,
   "metadata": {},
   "outputs": [],
   "source": [
    "def keyword_preprocessing(keyword):\n",
    "    if pd.isnull(keyword):\n",
    "        return \"Not mentioned\"\n",
    "    else:\n",
    "        keyword = keyword.replace('%20', ' ')\n",
    "        lemmatizer = WordNetLemmatizer()\n",
    "        keywords = keyword.split(' ')\n",
    "        keywords = [k.lower() for k in keywords]\n",
    "        keywords = [lemmatizer.lemmatize(k, pos = \"v\") for k in keywords]\n",
    "        keyword = ' '.join(keywords)\n",
    "        return keyword"
   ]
  },
  {
   "cell_type": "code",
   "execution_count": 29,
   "metadata": {},
   "outputs": [],
   "source": [
    "train_rescale['keyword2'] = train_rescale['keyword2'].apply(keyword_preprocessing)"
   ]
  },
  {
   "cell_type": "code",
   "execution_count": 30,
   "metadata": {},
   "outputs": [
    {
     "data": {
      "text/plain": [
       "flood                  77\n",
       "body bag               73\n",
       "bomb                   71\n",
       "drown                  71\n",
       "scream                 71\n",
       "                       ..\n",
       "avalanche              14\n",
       "radiation emergency     9\n",
       "epicentre               8\n",
       "inundation              5\n",
       "threat                  5\n",
       "Name: keyword2, Length: 185, dtype: int64"
      ]
     },
     "execution_count": 30,
     "metadata": {},
     "output_type": "execute_result"
    }
   ],
   "source": [
    "train_rescale['keyword2'].value_counts()"
   ]
  },
  {
   "cell_type": "code",
   "execution_count": 31,
   "metadata": {},
   "outputs": [
    {
     "data": {
      "text/html": [
       "<div>\n",
       "<style scoped>\n",
       "    .dataframe tbody tr th:only-of-type {\n",
       "        vertical-align: middle;\n",
       "    }\n",
       "\n",
       "    .dataframe tbody tr th {\n",
       "        vertical-align: top;\n",
       "    }\n",
       "\n",
       "    .dataframe thead th {\n",
       "        text-align: right;\n",
       "    }\n",
       "</style>\n",
       "<table border=\"1\" class=\"dataframe\">\n",
       "  <thead>\n",
       "    <tr style=\"text-align: right;\">\n",
       "      <th></th>\n",
       "      <th>keyword</th>\n",
       "      <th>location</th>\n",
       "      <th>text</th>\n",
       "      <th>target</th>\n",
       "      <th>keyword2</th>\n",
       "      <th>with_url</th>\n",
       "      <th>with_shorten_url</th>\n",
       "      <th>token</th>\n",
       "      <th>location2</th>\n",
       "    </tr>\n",
       "    <tr>\n",
       "      <th>id</th>\n",
       "      <th></th>\n",
       "      <th></th>\n",
       "      <th></th>\n",
       "      <th></th>\n",
       "      <th></th>\n",
       "      <th></th>\n",
       "      <th></th>\n",
       "      <th></th>\n",
       "      <th></th>\n",
       "    </tr>\n",
       "  </thead>\n",
       "  <tbody>\n",
       "    <tr>\n",
       "      <th>686</th>\n",
       "      <td>attack</td>\n",
       "      <td>#UNITE THE BLUE</td>\n",
       "      <td>@blazerfan not everyone can see ignoranceshe i...</td>\n",
       "      <td>0</td>\n",
       "      <td>attack</td>\n",
       "      <td>0</td>\n",
       "      <td>0</td>\n",
       "      <td>[everyon, see, ignorancesh, latinoand, ever, b...</td>\n",
       "      <td>1</td>\n",
       "    </tr>\n",
       "    <tr>\n",
       "      <th>6913</th>\n",
       "      <td>mass%20murderer</td>\n",
       "      <td>NaN</td>\n",
       "      <td>White people I know you worry tirelessly about...</td>\n",
       "      <td>1</td>\n",
       "      <td>mass murderer</td>\n",
       "      <td>0</td>\n",
       "      <td>0</td>\n",
       "      <td>[white, peopl, know, worri, tirelessli, black,...</td>\n",
       "      <td>0</td>\n",
       "    </tr>\n",
       "    <tr>\n",
       "      <th>6066</th>\n",
       "      <td>heat%20wave</td>\n",
       "      <td>NaN</td>\n",
       "      <td>Chilli heat wave Doritos never fail!</td>\n",
       "      <td>0</td>\n",
       "      <td>heat wave</td>\n",
       "      <td>0</td>\n",
       "      <td>0</td>\n",
       "      <td>[chilli, heat, wave, dorito, never, fail]</td>\n",
       "      <td>0</td>\n",
       "    </tr>\n",
       "    <tr>\n",
       "      <th>1441</th>\n",
       "      <td>body%20bagging</td>\n",
       "      <td>New Your</td>\n",
       "      <td>@BroseidonRex @dapurplesharpie I skimmed throu...</td>\n",
       "      <td>0</td>\n",
       "      <td>body bag</td>\n",
       "      <td>0</td>\n",
       "      <td>0</td>\n",
       "      <td>[skim, twitter, miss, bodi, bag]</td>\n",
       "      <td>1</td>\n",
       "    </tr>\n",
       "    <tr>\n",
       "      <th>6365</th>\n",
       "      <td>hostages</td>\n",
       "      <td>cuba</td>\n",
       "      <td>#hot  C-130 specially modified to land in a st...</td>\n",
       "      <td>1</td>\n",
       "      <td>hostages</td>\n",
       "      <td>1</td>\n",
       "      <td>1</td>\n",
       "      <td>[#hot, c, 130, special, modifi, land, stadium,...</td>\n",
       "      <td>1</td>\n",
       "    </tr>\n",
       "  </tbody>\n",
       "</table>\n",
       "</div>"
      ],
      "text/plain": [
       "              keyword           location  \\\n",
       "id                                         \n",
       "686            attack  #UNITE THE BLUE     \n",
       "6913  mass%20murderer                NaN   \n",
       "6066      heat%20wave                NaN   \n",
       "1441   body%20bagging           New Your   \n",
       "6365         hostages               cuba   \n",
       "\n",
       "                                                   text  target  \\\n",
       "id                                                                \n",
       "686   @blazerfan not everyone can see ignoranceshe i...       0   \n",
       "6913  White people I know you worry tirelessly about...       1   \n",
       "6066               Chilli heat wave Doritos never fail!       0   \n",
       "1441  @BroseidonRex @dapurplesharpie I skimmed throu...       0   \n",
       "6365  #hot  C-130 specially modified to land in a st...       1   \n",
       "\n",
       "           keyword2  with_url  with_shorten_url  \\\n",
       "id                                                \n",
       "686          attack         0                 0   \n",
       "6913  mass murderer         0                 0   \n",
       "6066      heat wave         0                 0   \n",
       "1441       body bag         0                 0   \n",
       "6365       hostages         1                 1   \n",
       "\n",
       "                                                  token  location2  \n",
       "id                                                                  \n",
       "686   [everyon, see, ignorancesh, latinoand, ever, b...          1  \n",
       "6913  [white, peopl, know, worri, tirelessli, black,...          0  \n",
       "6066          [chilli, heat, wave, dorito, never, fail]          0  \n",
       "1441                   [skim, twitter, miss, bodi, bag]          1  \n",
       "6365  [#hot, c, 130, special, modifi, land, stadium,...          1  "
      ]
     },
     "execution_count": 31,
     "metadata": {},
     "output_type": "execute_result"
    }
   ],
   "source": [
    "train_rescale['location2'] = 1 - train_rescale['location'].isna()\n",
    "train_rescale.head()"
   ]
  },
  {
   "cell_type": "code",
   "execution_count": 32,
   "metadata": {},
   "outputs": [
    {
     "data": {
      "text/plain": [
       "1    3556\n",
       "0    1773\n",
       "Name: location2, dtype: int64"
      ]
     },
     "execution_count": 32,
     "metadata": {},
     "output_type": "execute_result"
    }
   ],
   "source": [
    "train_rescale['location2'].value_counts()"
   ]
  },
  {
   "cell_type": "code",
   "execution_count": 33,
   "metadata": {},
   "outputs": [
    {
     "name": "stderr",
     "output_type": "stream",
     "text": [
      "C:\\Users\\abddd\\anaconda3\\lib\\site-packages\\seaborn\\categorical.py:3717: UserWarning: The `factorplot` function has been renamed to `catplot`. The original name will be removed in a future release. Please update your code. Note that the default `kind` in `factorplot` (`'point'`) has changed `'strip'` in `catplot`.\n",
      "  warnings.warn(msg)\n"
     ]
    },
    {
     "data": {
      "image/png": "[encoded data removed]",
      "text/plain": [
       "<Figure size 360x360 with 1 Axes>"
      ]
     },
     "metadata": {
      "needs_background": "light"
     },
     "output_type": "display_data"
    }
   ],
   "source": [
    "sns.factorplot(data = train_rescale, x = 'location2', y = 'target')\n",
    "plt.show()"
   ]
  },
  {
   "cell_type": "code",
   "execution_count": 34,
   "metadata": {},
   "outputs": [
    {
     "name": "stderr",
     "output_type": "stream",
     "text": [
      "C:\\Users\\abddd\\anaconda3\\lib\\site-packages\\seaborn\\categorical.py:3717: UserWarning: The `factorplot` function has been renamed to `catplot`. The original name will be removed in a future release. Please update your code. Note that the default `kind` in `factorplot` (`'point'`) has changed `'strip'` in `catplot`.\n",
      "  warnings.warn(msg)\n"
     ]
    },
    {
     "data": {
      "image/png": "[encoded data removed]",
      "text/plain": [
       "<Figure size 360x360 with 1 Axes>"
      ]
     },
     "metadata": {
      "needs_background": "light"
     },
     "output_type": "display_data"
    }
   ],
   "source": [
    "sns.factorplot(data = train_rescale, x = 'with_url', y = 'target')\n",
    "plt.show()"
   ]
  },
  {
   "cell_type": "code",
   "execution_count": 35,
   "metadata": {},
   "outputs": [
    {
     "name": "stdout",
     "output_type": "stream",
     "text": [
      "p-value is 0.2284114967263248\n"
     ]
    }
   ],
   "source": [
    "print(f\"p-value is {chi2_contingency(pd.crosstab(train_rescale['location2'], train_rescale['target']), correction=False)[1]}\")\n",
    "# Independent"
   ]
  },
  {
   "cell_type": "code",
   "execution_count": 36,
   "metadata": {},
   "outputs": [
    {
     "name": "stdout",
     "output_type": "stream",
     "text": [
      "p-value is 1.0587263675724737e-68\n"
     ]
    }
   ],
   "source": [
    "print(f\"p-value is {chi2_contingency(pd.crosstab(train_rescale['with_url'], train_rescale['target']), correction=False)[1]}\")\n",
    "# Not independent"
   ]
  },
  {
   "cell_type": "code",
   "execution_count": 37,
   "metadata": {},
   "outputs": [
    {
     "name": "stdout",
     "output_type": "stream",
     "text": [
      "p-value is 1.722853802175133e-215\n"
     ]
    }
   ],
   "source": [
    "print(f\"p-value is {chi2_contingency(pd.crosstab(train_rescale['keyword2'], train_rescale['target']), correction=False)[1]}\")\n",
    "# Not independent"
   ]
  },
  {
   "cell_type": "markdown",
   "metadata": {},
   "source": [
    "# Naive Bayes Classifier"
   ]
  },
  {
   "cell_type": "markdown",
   "metadata": {},
   "source": [
    "## Combined Model"
   ]
  },
  {
   "cell_type": "markdown",
   "metadata": {},
   "source": [
    "- We assume that keyword, tokens and whether there is an url in a tweet are conditionally indepedent to each other given the class of the tweet, so as to apply Naive Bayes Classifier.\n",
    "- We further assume that keyword follows categorical distribution and the word vectors follow multinomial distribution. Therefore, we decide to combine two naive bayes classifiers as the two features are under different distribution."
   ]
  },
  {
   "cell_type": "code",
   "execution_count": 38,
   "metadata": {},
   "outputs": [],
   "source": [
    "X = train[['keyword', 'text']]\n",
    "y = train['target']"
   ]
  },
  {
   "cell_type": "code",
   "execution_count": 39,
   "metadata": {},
   "outputs": [
    {
     "data": {
      "text/html": [
       "<div>\n",
       "<style scoped>\n",
       "    .dataframe tbody tr th:only-of-type {\n",
       "        vertical-align: middle;\n",
       "    }\n",
       "\n",
       "    .dataframe tbody tr th {\n",
       "        vertical-align: top;\n",
       "    }\n",
       "\n",
       "    .dataframe thead th {\n",
       "        text-align: right;\n",
       "    }\n",
       "</style>\n",
       "<table border=\"1\" class=\"dataframe\">\n",
       "  <thead>\n",
       "    <tr style=\"text-align: right;\">\n",
       "      <th></th>\n",
       "      <th>keyword</th>\n",
       "      <th>text</th>\n",
       "    </tr>\n",
       "    <tr>\n",
       "      <th>id</th>\n",
       "      <th></th>\n",
       "      <th></th>\n",
       "    </tr>\n",
       "  </thead>\n",
       "  <tbody>\n",
       "    <tr>\n",
       "      <th>686</th>\n",
       "      <td>attack</td>\n",
       "      <td>@blazerfan not everyone can see ignoranceshe i...</td>\n",
       "    </tr>\n",
       "    <tr>\n",
       "      <th>6913</th>\n",
       "      <td>mass%20murderer</td>\n",
       "      <td>White people I know you worry tirelessly about...</td>\n",
       "    </tr>\n",
       "    <tr>\n",
       "      <th>6066</th>\n",
       "      <td>heat%20wave</td>\n",
       "      <td>Chilli heat wave Doritos never fail!</td>\n",
       "    </tr>\n",
       "    <tr>\n",
       "      <th>1441</th>\n",
       "      <td>body%20bagging</td>\n",
       "      <td>@BroseidonRex @dapurplesharpie I skimmed throu...</td>\n",
       "    </tr>\n",
       "    <tr>\n",
       "      <th>6365</th>\n",
       "      <td>hostages</td>\n",
       "      <td>#hot  C-130 specially modified to land in a st...</td>\n",
       "    </tr>\n",
       "  </tbody>\n",
       "</table>\n",
       "</div>"
      ],
      "text/plain": [
       "              keyword                                               text\n",
       "id                                                                      \n",
       "686            attack  @blazerfan not everyone can see ignoranceshe i...\n",
       "6913  mass%20murderer  White people I know you worry tirelessly about...\n",
       "6066      heat%20wave               Chilli heat wave Doritos never fail!\n",
       "1441   body%20bagging  @BroseidonRex @dapurplesharpie I skimmed throu...\n",
       "6365         hostages  #hot  C-130 specially modified to land in a st..."
      ]
     },
     "execution_count": 39,
     "metadata": {},
     "output_type": "execute_result"
    }
   ],
   "source": [
    "X.head()"
   ]
  },
  {
   "cell_type": "code",
   "execution_count": 40,
   "metadata": {},
   "outputs": [],
   "source": [
    "class ItemSelector(BaseEstimator, TransformerMixin):\n",
    "    def __init__(self, col):\n",
    "        self.col = col\n",
    "\n",
    "    def fit(self, x, y = None):\n",
    "        return self\n",
    "\n",
    "    def transform(self, df):\n",
    "        if self.col == 'keyword':\n",
    "            return df[self.col].apply(keyword_preprocessing).values.reshape(-1, 1)\n",
    "        elif self.col == 'with_url':\n",
    "            return df['text'].apply(lambda x: 1 if 'http' in x else 0).values.reshape(-1, 1)\n",
    "        else:\n",
    "            return df[self.col]"
   ]
  },
  {
   "cell_type": "code",
   "execution_count": 41,
   "metadata": {},
   "outputs": [],
   "source": [
    "# Add 1 more option to filter the top k tokens\n",
    "\n",
    "class BagOfWordVectorier(CountVectorizer):\n",
    "    def __init__(self, *, input=\"content\", encoding=\"utf-8\", decode_error=\"strict\", strip_accents=None,\n",
    "                 lowercase=True, preprocessor=None, tokenizer=None, stop_words=None, token_pattern=r\"(?u)\\b\\w\\w+\\b\",\n",
    "                 ngram_range=(1, 1), analyzer=\"word\", max_df=1.0, min_df=1, max_features=None, vocabulary=None, \n",
    "                 binary=False, dtype=np.int64, topk = 50):\n",
    "        super().__init__(input = input, encoding = encoding, decode_error = decode_error, strip_accents = strip_accents,\n",
    "                         lowercase = lowercase, preprocessor = preprocessor, tokenizer = tokenizer, stop_words = stop_words, token_pattern = token_pattern,\n",
    "                         ngram_range = ngram_range, analyzer = analyzer, max_df = max_df, min_df = min_df, max_features = max_features, vocabulary = vocabulary, \n",
    "                         binary = binary, dtype = dtype)\n",
    "        self.topk = topk\n",
    "    \n",
    "    def fit_transform(self, raw_documents, y = None):\n",
    "        X = super().fit_transform(raw_documents, y)\n",
    "        if self.topk != 0:\n",
    "            df = pd.DataFrame({'Token': self.get_feature_names_out(),\n",
    "                               'Frequency': X.toarray().sum(axis = 0)})\n",
    "            vocab = df.sort_values('Frequency', ascending = False)['Token'].iloc[self.topk: ].tolist()\n",
    "            vocab_dict = dict([(u, v) for v, u in enumerate(vocab)])\n",
    "            self.vocabulary = vocab_dict\n",
    "            X = super().fit_transform(raw_documents, y)\n",
    "        return X"
   ]
  },
  {
   "cell_type": "code",
   "execution_count": 42,
   "metadata": {},
   "outputs": [],
   "source": [
    "class CategoricalNBTransformer(CategoricalNB):\n",
    "    def transform(self, X):\n",
    "        return self.predict_proba(X)"
   ]
  },
  {
   "cell_type": "code",
   "execution_count": 43,
   "metadata": {},
   "outputs": [],
   "source": [
    "class MultinomialNBTransformer(MultinomialNB):\n",
    "    def transform(self, X):\n",
    "        return self.predict_proba(X)"
   ]
  },
  {
   "cell_type": "code",
   "execution_count": 44,
   "metadata": {},
   "outputs": [],
   "source": [
    "class NaiveBayesClassifier(ClassifierMixin): \n",
    "    def fit(self, X, y):\n",
    "        self.n_classes = y.nunique()\n",
    "        self.classes_ = y.unique()\n",
    "        return self\n",
    "    \n",
    "    def predict(self, X):\n",
    "        return np.array([self.classes_[np.argmax(x)] for x in self.predict_proba(X)])\n",
    "    \n",
    "    def predict_proba(self, X):\n",
    "        for i in range(1, int(X.shape[1]/2)+1):\n",
    "            if i == 1:\n",
    "                product = X[:, ((i-1)*self.n_classes):(i*self.n_classes)]\n",
    "            else:\n",
    "                product *= X[:, ((i-1)*self.n_classes):(i*self.n_classes)]   \n",
    "        \n",
    "#         product = X[:, :self.n_classes] * X[:, self.n_classes: ]\n",
    "        return product / product.sum(axis = 1).reshape(-1, 1)"
   ]
  },
  {
   "cell_type": "code",
   "execution_count": 45,
   "metadata": {},
   "outputs": [],
   "source": [
    "model = Pipeline([('mixed', FeatureUnion([('categorical', Pipeline([('keyword', ItemSelector('keyword')),\n",
    "                                                                    ('ordinal_transformer', OrdinalEncoder()),\n",
    "                                                                    ('categoricalnb', CategoricalNBTransformer())])),\n",
    "                                          ('binary', Pipeline([('with_url', ItemSelector('with_url')),\n",
    "                                                               ('categoricalnb', CategoricalNBTransformer(alpha = 1e-10))])),\n",
    "                                          ('multinomial', Pipeline([('text', ItemSelector('text')),\n",
    "                                                                    ('bow_transformer', BagOfWordVectorier(analyzer = text_preprocessing,\n",
    "                                                                                                           topk = 50)),\n",
    "                                                                    ('multinomialnb', MultinomialNBTransformer())]))])),\n",
    "                  ('model', NaiveBayesClassifier())])"
   ]
  },
  {
   "cell_type": "code",
   "execution_count": 46,
   "metadata": {},
   "outputs": [
    {
     "data": {
      "text/plain": [
       "Pipeline(steps=[('mixed',\n",
       "                 FeatureUnion(transformer_list=[('categorical',\n",
       "                                                 Pipeline(steps=[('keyword',\n",
       "                                                                  ItemSelector(col='keyword')),\n",
       "                                                                 ('ordinal_transformer',\n",
       "                                                                  OrdinalEncoder()),\n",
       "                                                                 ('categoricalnb',\n",
       "                                                                  CategoricalNBTransformer())])),\n",
       "                                                ('binary',\n",
       "                                                 Pipeline(steps=[('with_url',\n",
       "                                                                  ItemSelector(col='with_url')),\n",
       "                                                                 ('categoricalnb',\n",
       "                                                                  CategoricalNBTransformer(alpha=1e-10))])),\n",
       "                                                ('multi...\n",
       "                                                                                                 '#2a': 8020,\n",
       "                                                                                                 '#2fast2furious': 8006,\n",
       "                                                                                                 '#2minutemix': 8019,\n",
       "                                                                                                 '#360wisenews': 2524,\n",
       "                                                                                                 '#365disasters': 8018,\n",
       "                                                                                                 '#37592': 8017,\n",
       "                                                                                                 '#38745': 8016,\n",
       "                                                                                                 '#3novices': 8015,\n",
       "                                                                                                 '#4playthursdays': 3464,\n",
       "                                                                                                 '#5sosfam': 8014,\n",
       "                                                                                                 '#615': 8013,\n",
       "                                                                                                 '#629': 8012,\n",
       "                                                                                                 '#7newsadl': 8011,\n",
       "                                                                                                 '#8217': 8010, ...})),\n",
       "                                                                 ('multinomialnb',\n",
       "                                                                  MultinomialNBTransformer())]))])),\n",
       "                ('model',\n",
       "                 <__main__.NaiveBayesClassifier object at 0x000001D684D074F0>)])"
      ]
     },
     "execution_count": 46,
     "metadata": {},
     "output_type": "execute_result"
    }
   ],
   "source": [
    "model.fit(X, y)"
   ]
  },
  {
   "cell_type": "code",
   "execution_count": 47,
   "metadata": {},
   "outputs": [],
   "source": [
    "prob = model.predict_proba(X)[:, 1]"
   ]
  },
  {
   "cell_type": "code",
   "execution_count": 48,
   "metadata": {},
   "outputs": [
    {
     "data": {
      "text/plain": [
       "0.9531935197514426"
      ]
     },
     "execution_count": 48,
     "metadata": {},
     "output_type": "execute_result"
    },
    {
     "data": {
      "image/png": "[encoded data removed]",
      "text/plain": [
       "<Figure size 432x288 with 1 Axes>"
      ]
     },
     "metadata": {
      "needs_background": "light"
     },
     "output_type": "display_data"
    }
   ],
   "source": [
    "plot_roc(y, prob)"
   ]
  },
  {
   "cell_type": "code",
   "execution_count": 49,
   "metadata": {},
   "outputs": [
    {
     "data": {
      "image/png": "[encoded data removed]",
      "text/plain": [
       "<Figure size 432x288 with 1 Axes>"
      ]
     },
     "metadata": {
      "needs_background": "light"
     },
     "output_type": "display_data"
    }
   ],
   "source": [
    "_, threshold = plot_ks(y, prob)"
   ]
  },
  {
   "cell_type": "code",
   "execution_count": 50,
   "metadata": {},
   "outputs": [
    {
     "data": {
      "text/plain": [
       "0.9012948020266467"
      ]
     },
     "execution_count": 50,
     "metadata": {},
     "output_type": "execute_result"
    }
   ],
   "source": [
    "accuracy_score(y, [1 if p >= threshold else 0 for p in prob])"
   ]
  },
  {
   "cell_type": "code",
   "execution_count": 51,
   "metadata": {},
   "outputs": [
    {
     "data": {
      "text/html": [
       "<div>\n",
       "<style scoped>\n",
       "    .dataframe tbody tr th:only-of-type {\n",
       "        vertical-align: middle;\n",
       "    }\n",
       "\n",
       "    .dataframe tbody tr th {\n",
       "        vertical-align: top;\n",
       "    }\n",
       "\n",
       "    .dataframe thead th {\n",
       "        text-align: right;\n",
       "    }\n",
       "</style>\n",
       "<table border=\"1\" class=\"dataframe\">\n",
       "  <thead>\n",
       "    <tr style=\"text-align: right;\">\n",
       "      <th>Predicted</th>\n",
       "      <th>0</th>\n",
       "      <th>1</th>\n",
       "      <th>Predictive Value</th>\n",
       "    </tr>\n",
       "    <tr>\n",
       "      <th>Actual</th>\n",
       "      <th></th>\n",
       "      <th></th>\n",
       "      <th></th>\n",
       "    </tr>\n",
       "  </thead>\n",
       "  <tbody>\n",
       "    <tr>\n",
       "      <th>0</th>\n",
       "      <td>2803.0000</td>\n",
       "      <td>201.000000</td>\n",
       "      <td>0.933089</td>\n",
       "    </tr>\n",
       "    <tr>\n",
       "      <th>1</th>\n",
       "      <td>325.0000</td>\n",
       "      <td>2000.000000</td>\n",
       "      <td>0.860215</td>\n",
       "    </tr>\n",
       "    <tr>\n",
       "      <th>Specificity &amp; Sensitivity</th>\n",
       "      <td>0.8961</td>\n",
       "      <td>0.908678</td>\n",
       "      <td>0.901295</td>\n",
       "    </tr>\n",
       "  </tbody>\n",
       "</table>\n",
       "</div>"
      ],
      "text/plain": [
       "Predicted                          0            1  Predictive Value\n",
       "Actual                                                             \n",
       "0                          2803.0000   201.000000          0.933089\n",
       "1                           325.0000  2000.000000          0.860215\n",
       "Specificity & Sensitivity     0.8961     0.908678          0.901295"
      ]
     },
     "execution_count": 51,
     "metadata": {},
     "output_type": "execute_result"
    }
   ],
   "source": [
    "confusion_matrix(y, prob, threshold)"
   ]
  },
  {
   "cell_type": "code",
   "execution_count": 52,
   "metadata": {},
   "outputs": [
    {
     "data": {
      "text/plain": [
       "array([0.84237203, 0.85453098, 0.85686222, 0.84877176, 0.82866308])"
      ]
     },
     "execution_count": 52,
     "metadata": {},
     "output_type": "execute_result"
    }
   ],
   "source": [
    "cross_val_score(model, X, y, scoring = 'roc_auc', cv=5)\n",
    "# Overfitting"
   ]
  },
  {
   "cell_type": "code",
   "execution_count": 53,
   "metadata": {},
   "outputs": [],
   "source": [
    "def text_preprocessing_ngram(text):\n",
    "    text = text_preprocessing(text)\n",
    "    text2 = [' '.join([text[i], text[i+1]]) for i in range(len(text) - 1)]\n",
    "    text = text + text2\n",
    "    return text"
   ]
  },
  {
   "cell_type": "code",
   "execution_count": 54,
   "metadata": {},
   "outputs": [],
   "source": [
    "params = {'mixed__categorical__categoricalnb__min_categories': [10, 20, 30, None],\n",
    "          'mixed__multinomial__bow_transformer__max_features': [1000, 2000, 5000, None],\n",
    "          'mixed__multinomial__bow_transformer__analyzer': [text_preprocessing, text_preprocessing_ngram],\n",
    "          'mixed__multinomial__bow_transformer__topk': [0, 50, 100]}\n",
    "grid = GridSearchCV(model, param_grid = params, cv = 5, scoring = 'roc_auc').fit(X, y)"
   ]
  },
  {
   "cell_type": "code",
   "execution_count": 55,
   "metadata": {},
   "outputs": [
    {
     "data": {
      "text/plain": [
       "{'mixed__categorical__categoricalnb__min_categories': 10,\n",
       " 'mixed__multinomial__bow_transformer__analyzer': <function __main__.text_preprocessing(text)>,\n",
       " 'mixed__multinomial__bow_transformer__max_features': 5000,\n",
       " 'mixed__multinomial__bow_transformer__topk': 0}"
      ]
     },
     "execution_count": 55,
     "metadata": {},
     "output_type": "execute_result"
    }
   ],
   "source": [
    "grid.best_params_"
   ]
  },
  {
   "cell_type": "code",
   "execution_count": 56,
   "metadata": {},
   "outputs": [
    {
     "data": {
      "text/plain": [
       "0.8523628689340944"
      ]
     },
     "execution_count": 56,
     "metadata": {},
     "output_type": "execute_result"
    }
   ],
   "source": [
    "grid.best_score_"
   ]
  },
  {
   "cell_type": "markdown",
   "metadata": {},
   "source": [
    "## with_url and Text"
   ]
  },
  {
   "cell_type": "code",
   "execution_count": 52,
   "metadata": {},
   "outputs": [],
   "source": [
    "model_1 = Pipeline([('mixed', FeatureUnion([('binary', Pipeline([('with_url', ItemSelector('with_url')),\n",
    "                                                                 ('categoricalnb', CategoricalNBTransformer(alpha = 1e-10))])),\n",
    "                                            ('multinomial', Pipeline([('text', ItemSelector('text')),\n",
    "                                                                      ('bow_transformer', BagOfWordVectorier(analyzer = text_preprocessing,\n",
    "                                                                                                             max_features = 5000,\n",
    "                                                                                                             topk = 0)),\n",
    "                                                                      ('multinomialnb', MultinomialNBTransformer())]))])),\n",
    "                    ('model', NaiveBayesClassifier())])"
   ]
  },
  {
   "cell_type": "code",
   "execution_count": 53,
   "metadata": {},
   "outputs": [
    {
     "data": {
      "text/plain": [
       "Pipeline(steps=[('mixed',\n",
       "                 FeatureUnion(transformer_list=[('binary',\n",
       "                                                 Pipeline(steps=[('with_url',\n",
       "                                                                  ItemSelector(col='with_url')),\n",
       "                                                                 ('categoricalnb',\n",
       "                                                                  CategoricalNBTransformer(alpha=1e-10))])),\n",
       "                                                ('multinomial',\n",
       "                                                 Pipeline(steps=[('text',\n",
       "                                                                  ItemSelector(col='text')),\n",
       "                                                                 ('bow_transformer',\n",
       "                                                                  BagOfWordVectorier(analyzer=<function text_preprocessing at 0x000001D6F92E0D30>,\n",
       "                                                                                     max_features=5000,\n",
       "                                                                                     topk=0)),\n",
       "                                                                 ('multinomialnb',\n",
       "                                                                  MultinomialNBTransformer())]))])),\n",
       "                ('model',\n",
       "                 <__main__.NaiveBayesClassifier object at 0x000001D684C46670>)])"
      ]
     },
     "execution_count": 53,
     "metadata": {},
     "output_type": "execute_result"
    }
   ],
   "source": [
    "model_1.fit(X, y)"
   ]
  },
  {
   "cell_type": "code",
   "execution_count": 54,
   "metadata": {},
   "outputs": [
    {
     "data": {
      "text/plain": [
       "0.843340223880152"
      ]
     },
     "execution_count": 54,
     "metadata": {},
     "output_type": "execute_result"
    }
   ],
   "source": [
    "np.mean(cross_val_score(model_1, X, y, scoring = 'roc_auc', cv=5))\n",
    "# The model performance does not drop too much when not including keyword, it would be better to exclude the keyword, \n",
    "# as it is not mentioned how keyword is extracted."
   ]
  },
  {
   "cell_type": "markdown",
   "metadata": {},
   "source": [
    "# Model Evaluation"
   ]
  },
  {
   "cell_type": "code",
   "execution_count": 55,
   "metadata": {},
   "outputs": [],
   "source": [
    "model = model_1"
   ]
  },
  {
   "cell_type": "markdown",
   "metadata": {},
   "source": [
    "## Train"
   ]
  },
  {
   "cell_type": "code",
   "execution_count": 56,
   "metadata": {},
   "outputs": [],
   "source": [
    "prob = model.predict_proba(X)[:, 1]"
   ]
  },
  {
   "cell_type": "code",
   "execution_count": 57,
   "metadata": {},
   "outputs": [
    {
     "data": {
      "text/plain": [
       "0.9278705811606031"
      ]
     },
     "execution_count": 57,
     "metadata": {},
     "output_type": "execute_result"
    },
    {
     "data": {
      "image/png": "[encoded data removed]",
      "text/plain": [
       "<Figure size 432x288 with 1 Axes>"
      ]
     },
     "metadata": {
      "needs_background": "light"
     },
     "output_type": "display_data"
    }
   ],
   "source": [
    "plot_roc(y, prob)"
   ]
  },
  {
   "cell_type": "code",
   "execution_count": 58,
   "metadata": {},
   "outputs": [
    {
     "data": {
      "image/png": "[encoded data removed]",
      "text/plain": [
       "<Figure size 432x288 with 1 Axes>"
      ]
     },
     "metadata": {
      "needs_background": "light"
     },
     "output_type": "display_data"
    }
   ],
   "source": [
    "_, threshold = plot_ks(y, prob)"
   ]
  },
  {
   "cell_type": "code",
   "execution_count": 59,
   "metadata": {},
   "outputs": [
    {
     "data": {
      "text/plain": [
       "0.8695815349971853"
      ]
     },
     "execution_count": 59,
     "metadata": {},
     "output_type": "execute_result"
    }
   ],
   "source": [
    "accuracy_score(y, [1 if p >= threshold else 0 for p in prob])"
   ]
  },
  {
   "cell_type": "code",
   "execution_count": 60,
   "metadata": {},
   "outputs": [
    {
     "data": {
      "text/html": [
       "<div>\n",
       "<style scoped>\n",
       "    .dataframe tbody tr th:only-of-type {\n",
       "        vertical-align: middle;\n",
       "    }\n",
       "\n",
       "    .dataframe tbody tr th {\n",
       "        vertical-align: top;\n",
       "    }\n",
       "\n",
       "    .dataframe thead th {\n",
       "        text-align: right;\n",
       "    }\n",
       "</style>\n",
       "<table border=\"1\" class=\"dataframe\">\n",
       "  <thead>\n",
       "    <tr style=\"text-align: right;\">\n",
       "      <th>Predicted</th>\n",
       "      <th>0</th>\n",
       "      <th>1</th>\n",
       "      <th>Predictive Value</th>\n",
       "    </tr>\n",
       "    <tr>\n",
       "      <th>Actual</th>\n",
       "      <th></th>\n",
       "      <th></th>\n",
       "      <th></th>\n",
       "    </tr>\n",
       "  </thead>\n",
       "  <tbody>\n",
       "    <tr>\n",
       "      <th>0</th>\n",
       "      <td>2761.000000</td>\n",
       "      <td>243.000000</td>\n",
       "      <td>0.919108</td>\n",
       "    </tr>\n",
       "    <tr>\n",
       "      <th>1</th>\n",
       "      <td>452.000000</td>\n",
       "      <td>1873.000000</td>\n",
       "      <td>0.805591</td>\n",
       "    </tr>\n",
       "    <tr>\n",
       "      <th>Specificity &amp; Sensitivity</th>\n",
       "      <td>0.859322</td>\n",
       "      <td>0.885161</td>\n",
       "      <td>0.869582</td>\n",
       "    </tr>\n",
       "  </tbody>\n",
       "</table>\n",
       "</div>"
      ],
      "text/plain": [
       "Predicted                            0            1  Predictive Value\n",
       "Actual                                                               \n",
       "0                          2761.000000   243.000000          0.919108\n",
       "1                           452.000000  1873.000000          0.805591\n",
       "Specificity & Sensitivity     0.859322     0.885161          0.869582"
      ]
     },
     "execution_count": 60,
     "metadata": {},
     "output_type": "execute_result"
    }
   ],
   "source": [
    "confusion_matrix(y, prob, threshold)"
   ]
  },
  {
   "cell_type": "markdown",
   "metadata": {},
   "source": [
    "## Test"
   ]
  },
  {
   "cell_type": "code",
   "execution_count": 61,
   "metadata": {},
   "outputs": [],
   "source": [
    "test_X = test[['keyword', 'text']]\n",
    "test_y = test['target']"
   ]
  },
  {
   "cell_type": "code",
   "execution_count": 62,
   "metadata": {},
   "outputs": [],
   "source": [
    "test_prob = model.predict_proba(test_X)[:, 1]"
   ]
  },
  {
   "cell_type": "code",
   "execution_count": 63,
   "metadata": {},
   "outputs": [
    {
     "data": {
      "text/plain": [
       "0.8549833774179378"
      ]
     },
     "execution_count": 63,
     "metadata": {},
     "output_type": "execute_result"
    },
    {
     "data": {
      "image/png": "[encoded data removed]",
      "text/plain": [
       "<Figure size 432x288 with 1 Axes>"
      ]
     },
     "metadata": {
      "needs_background": "light"
     },
     "output_type": "display_data"
    }
   ],
   "source": [
    "plot_roc(test_y, test_prob)"
   ]
  },
  {
   "cell_type": "code",
   "execution_count": 64,
   "metadata": {},
   "outputs": [
    {
     "data": {
      "text/plain": [
       "(0.5849268574787398, 0.5054757820852382)"
      ]
     },
     "execution_count": 64,
     "metadata": {},
     "output_type": "execute_result"
    },
    {
     "data": {
      "image/png": "[encoded data removed]",
      "text/plain": [
       "<Figure size 432x288 with 1 Axes>"
      ]
     },
     "metadata": {
      "needs_background": "light"
     },
     "output_type": "display_data"
    }
   ],
   "source": [
    "plot_ks(test_y, test_prob)"
   ]
  },
  {
   "cell_type": "code",
   "execution_count": 65,
   "metadata": {},
   "outputs": [
    {
     "data": {
      "text/plain": [
       "0.7972854640980735"
      ]
     },
     "execution_count": 65,
     "metadata": {},
     "output_type": "execute_result"
    }
   ],
   "source": [
    "accuracy_score(test_y, [1 if p >= threshold else 0 for p in test_prob])"
   ]
  },
  {
   "cell_type": "code",
   "execution_count": 66,
   "metadata": {},
   "outputs": [
    {
     "data": {
      "text/html": [
       "<div>\n",
       "<style scoped>\n",
       "    .dataframe tbody tr th:only-of-type {\n",
       "        vertical-align: middle;\n",
       "    }\n",
       "\n",
       "    .dataframe tbody tr th {\n",
       "        vertical-align: top;\n",
       "    }\n",
       "\n",
       "    .dataframe thead th {\n",
       "        text-align: right;\n",
       "    }\n",
       "</style>\n",
       "<table border=\"1\" class=\"dataframe\">\n",
       "  <thead>\n",
       "    <tr style=\"text-align: right;\">\n",
       "      <th>Predicted</th>\n",
       "      <th>0</th>\n",
       "      <th>1</th>\n",
       "      <th>Predictive Value</th>\n",
       "    </tr>\n",
       "    <tr>\n",
       "      <th>Actual</th>\n",
       "      <th></th>\n",
       "      <th></th>\n",
       "      <th></th>\n",
       "    </tr>\n",
       "  </thead>\n",
       "  <tbody>\n",
       "    <tr>\n",
       "      <th>0</th>\n",
       "      <td>1137.000000</td>\n",
       "      <td>201.000000</td>\n",
       "      <td>0.849776</td>\n",
       "    </tr>\n",
       "    <tr>\n",
       "      <th>1</th>\n",
       "      <td>262.000000</td>\n",
       "      <td>684.000000</td>\n",
       "      <td>0.723044</td>\n",
       "    </tr>\n",
       "    <tr>\n",
       "      <th>Specificity &amp; Sensitivity</th>\n",
       "      <td>0.812723</td>\n",
       "      <td>0.772881</td>\n",
       "      <td>0.797285</td>\n",
       "    </tr>\n",
       "  </tbody>\n",
       "</table>\n",
       "</div>"
      ],
      "text/plain": [
       "Predicted                            0           1  Predictive Value\n",
       "Actual                                                              \n",
       "0                          1137.000000  201.000000          0.849776\n",
       "1                           262.000000  684.000000          0.723044\n",
       "Specificity & Sensitivity     0.812723    0.772881          0.797285"
      ]
     },
     "execution_count": 66,
     "metadata": {},
     "output_type": "execute_result"
    }
   ],
   "source": [
    "confusion_matrix(test_y, test_prob, threshold)"
   ]
  },
  {
   "cell_type": "markdown",
   "metadata": {},
   "source": [
    "# Final Model"
   ]
  },
  {
   "cell_type": "code",
   "execution_count": 67,
   "metadata": {},
   "outputs": [],
   "source": [
    "X = data[['keyword', 'text']]\n",
    "y = data['target']"
   ]
  },
  {
   "cell_type": "code",
   "execution_count": 68,
   "metadata": {},
   "outputs": [
    {
     "data": {
      "text/plain": [
       "Pipeline(steps=[('mixed',\n",
       "                 FeatureUnion(transformer_list=[('binary',\n",
       "                                                 Pipeline(steps=[('with_url',\n",
       "                                                                  ItemSelector(col='with_url')),\n",
       "                                                                 ('categoricalnb',\n",
       "                                                                  CategoricalNBTransformer(alpha=1e-10))])),\n",
       "                                                ('multinomial',\n",
       "                                                 Pipeline(steps=[('text',\n",
       "                                                                  ItemSelector(col='text')),\n",
       "                                                                 ('bow_transformer',\n",
       "                                                                  BagOfWordVectorier(analyzer=<function text_preprocessing at 0x000001D6F92E0D30>,\n",
       "                                                                                     max_features=5000,\n",
       "                                                                                     topk=0)),\n",
       "                                                                 ('multinomialnb',\n",
       "                                                                  MultinomialNBTransformer())]))])),\n",
       "                ('model',\n",
       "                 <__main__.NaiveBayesClassifier object at 0x000001D684C46670>)])"
      ]
     },
     "execution_count": 68,
     "metadata": {},
     "output_type": "execute_result"
    }
   ],
   "source": [
    "model.fit(X, y)"
   ]
  },
  {
   "cell_type": "code",
   "execution_count": 69,
   "metadata": {},
   "outputs": [],
   "source": [
    "prob = model.predict_proba(X)[:, 1]"
   ]
  },
  {
   "cell_type": "code",
   "execution_count": 70,
   "metadata": {},
   "outputs": [
    {
     "data": {
      "text/plain": [
       "0.9179188480034969"
      ]
     },
     "execution_count": 70,
     "metadata": {},
     "output_type": "execute_result"
    },
    {
     "data": {
      "image/png": "[encoded data removed]",
      "text/plain": [
       "<Figure size 432x288 with 1 Axes>"
      ]
     },
     "metadata": {
      "needs_background": "light"
     },
     "output_type": "display_data"
    }
   ],
   "source": [
    "plot_roc(y, prob)"
   ]
  },
  {
   "cell_type": "code",
   "execution_count": 71,
   "metadata": {},
   "outputs": [
    {
     "data": {
      "image/png": "[encoded data removed]",
      "text/plain": [
       "<Figure size 432x288 with 1 Axes>"
      ]
     },
     "metadata": {
      "needs_background": "light"
     },
     "output_type": "display_data"
    }
   ],
   "source": [
    "_, threshold = plot_ks(y, prob)"
   ]
  },
  {
   "cell_type": "code",
   "execution_count": 72,
   "metadata": {},
   "outputs": [
    {
     "data": {
      "text/plain": [
       "0.8577433337711808"
      ]
     },
     "execution_count": 72,
     "metadata": {},
     "output_type": "execute_result"
    }
   ],
   "source": [
    "accuracy_score(y, [1 if p >= threshold else 0 for p in prob])"
   ]
  },
  {
   "cell_type": "code",
   "execution_count": 73,
   "metadata": {},
   "outputs": [
    {
     "data": {
      "text/html": [
       "<div>\n",
       "<style scoped>\n",
       "    .dataframe tbody tr th:only-of-type {\n",
       "        vertical-align: middle;\n",
       "    }\n",
       "\n",
       "    .dataframe tbody tr th {\n",
       "        vertical-align: top;\n",
       "    }\n",
       "\n",
       "    .dataframe thead th {\n",
       "        text-align: right;\n",
       "    }\n",
       "</style>\n",
       "<table border=\"1\" class=\"dataframe\">\n",
       "  <thead>\n",
       "    <tr style=\"text-align: right;\">\n",
       "      <th>Predicted</th>\n",
       "      <th>0</th>\n",
       "      <th>1</th>\n",
       "      <th>Predictive Value</th>\n",
       "    </tr>\n",
       "    <tr>\n",
       "      <th>Actual</th>\n",
       "      <th></th>\n",
       "      <th></th>\n",
       "      <th></th>\n",
       "    </tr>\n",
       "  </thead>\n",
       "  <tbody>\n",
       "    <tr>\n",
       "      <th>0</th>\n",
       "      <td>3968.000000</td>\n",
       "      <td>374.000000</td>\n",
       "      <td>0.913865</td>\n",
       "    </tr>\n",
       "    <tr>\n",
       "      <th>1</th>\n",
       "      <td>709.000000</td>\n",
       "      <td>2562.000000</td>\n",
       "      <td>0.783247</td>\n",
       "    </tr>\n",
       "    <tr>\n",
       "      <th>Specificity &amp; Sensitivity</th>\n",
       "      <td>0.848407</td>\n",
       "      <td>0.872616</td>\n",
       "      <td>0.857743</td>\n",
       "    </tr>\n",
       "  </tbody>\n",
       "</table>\n",
       "</div>"
      ],
      "text/plain": [
       "Predicted                            0            1  Predictive Value\n",
       "Actual                                                               \n",
       "0                          3968.000000   374.000000          0.913865\n",
       "1                           709.000000  2562.000000          0.783247\n",
       "Specificity & Sensitivity     0.848407     0.872616          0.857743"
      ]
     },
     "execution_count": 73,
     "metadata": {},
     "output_type": "execute_result"
    }
   ],
   "source": [
    "confusion_matrix(y, prob, threshold)"
   ]
  },
  {
   "cell_type": "code",
   "execution_count": 74,
   "metadata": {},
   "outputs": [
    {
     "data": {
      "image/png": "[encoded data removed]",
      "text/plain": [
       "<Figure size 720x576 with 1 Axes>"
      ]
     },
     "metadata": {
      "needs_background": "light"
     },
     "output_type": "display_data"
    }
   ],
   "source": [
    "plt.figure(figsize = (10,8))\n",
    "EmpiricalBootstrappingROC(data, X.columns, y.name, model, typ = 'basic', B = 20)\n",
    "# Despite the overfitting problem, the variance of AUC is small."
   ]
  },
  {
   "cell_type": "code",
   "execution_count": 75,
   "metadata": {},
   "outputs": [],
   "source": [
    "data['prob'] = prob\n",
    "data['pred'] = [1 if p >= threshold else 0 for p in prob]"
   ]
  },
  {
   "cell_type": "code",
   "execution_count": 76,
   "metadata": {},
   "outputs": [
    {
     "data": {
      "text/html": [
       "<div>\n",
       "<style scoped>\n",
       "    .dataframe tbody tr th:only-of-type {\n",
       "        vertical-align: middle;\n",
       "    }\n",
       "\n",
       "    .dataframe tbody tr th {\n",
       "        vertical-align: top;\n",
       "    }\n",
       "\n",
       "    .dataframe thead th {\n",
       "        text-align: right;\n",
       "    }\n",
       "</style>\n",
       "<table border=\"1\" class=\"dataframe\">\n",
       "  <thead>\n",
       "    <tr style=\"text-align: right;\">\n",
       "      <th></th>\n",
       "      <th>keyword</th>\n",
       "      <th>location</th>\n",
       "      <th>text</th>\n",
       "      <th>target</th>\n",
       "      <th>keyword2</th>\n",
       "      <th>with_url</th>\n",
       "      <th>with_shorten_url</th>\n",
       "      <th>token</th>\n",
       "      <th>prob</th>\n",
       "      <th>pred</th>\n",
       "    </tr>\n",
       "    <tr>\n",
       "      <th>id</th>\n",
       "      <th></th>\n",
       "      <th></th>\n",
       "      <th></th>\n",
       "      <th></th>\n",
       "      <th></th>\n",
       "      <th></th>\n",
       "      <th></th>\n",
       "      <th></th>\n",
       "      <th></th>\n",
       "      <th></th>\n",
       "    </tr>\n",
       "  </thead>\n",
       "  <tbody>\n",
       "    <tr>\n",
       "      <th>9445</th>\n",
       "      <td>terrorism</td>\n",
       "      <td>NaN</td>\n",
       "      <td>Truth...\\r\\nhttps://t.co/h6amECX5K7\\r\\n#News\\r...</td>\n",
       "      <td>0</td>\n",
       "      <td>terrorism</td>\n",
       "      <td>1</td>\n",
       "      <td>1</td>\n",
       "      <td>[truth, ..., #news, #bbc, #cnn, #islam, #truth...</td>\n",
       "      <td>0.996547</td>\n",
       "      <td>1</td>\n",
       "    </tr>\n",
       "    <tr>\n",
       "      <th>7415</th>\n",
       "      <td>obliterated</td>\n",
       "      <td>Reading MA</td>\n",
       "      <td>Drunk Meals 101: What To Cook When You're Tota...</td>\n",
       "      <td>1</td>\n",
       "      <td>obliterated</td>\n",
       "      <td>1</td>\n",
       "      <td>1</td>\n",
       "      <td>[drunk, meal, 101, cook, total, obliter]</td>\n",
       "      <td>0.008249</td>\n",
       "      <td>0</td>\n",
       "    </tr>\n",
       "    <tr>\n",
       "      <th>354</th>\n",
       "      <td>annihilation</td>\n",
       "      <td>Spain</td>\n",
       "      <td>:StarMade: :Stardate 3: :Planetary Annihilatio...</td>\n",
       "      <td>1</td>\n",
       "      <td>annihilation</td>\n",
       "      <td>1</td>\n",
       "      <td>1</td>\n",
       "      <td>[starmad, stardat, 3, :p, lanetari, annihil, :...</td>\n",
       "      <td>0.168973</td>\n",
       "      <td>0</td>\n",
       "    </tr>\n",
       "    <tr>\n",
       "      <th>3318</th>\n",
       "      <td>demolished</td>\n",
       "      <td>NaN</td>\n",
       "      <td>Got my first gamer troll I just demolished a k...</td>\n",
       "      <td>1</td>\n",
       "      <td>demolished</td>\n",
       "      <td>0</td>\n",
       "      <td>0</td>\n",
       "      <td>[got, first, gamer, troll, demolish, kid, phil...</td>\n",
       "      <td>0.027922</td>\n",
       "      <td>0</td>\n",
       "    </tr>\n",
       "    <tr>\n",
       "      <th>2307</th>\n",
       "      <td>collapse</td>\n",
       "      <td>Scotland</td>\n",
       "      <td>Would a paramedic really do that? Leave someon...</td>\n",
       "      <td>1</td>\n",
       "      <td>collapse</td>\n",
       "      <td>0</td>\n",
       "      <td>0</td>\n",
       "      <td>[would, paramed, realli, leav, someon, insid, ...</td>\n",
       "      <td>0.112993</td>\n",
       "      <td>0</td>\n",
       "    </tr>\n",
       "  </tbody>\n",
       "</table>\n",
       "</div>"
      ],
      "text/plain": [
       "           keyword    location  \\\n",
       "id                               \n",
       "9445     terrorism         NaN   \n",
       "7415   obliterated  Reading MA   \n",
       "354   annihilation       Spain   \n",
       "3318    demolished         NaN   \n",
       "2307      collapse    Scotland   \n",
       "\n",
       "                                                   text  target      keyword2  \\\n",
       "id                                                                              \n",
       "9445  Truth...\\r\\nhttps://t.co/h6amECX5K7\\r\\n#News\\r...       0     terrorism   \n",
       "7415  Drunk Meals 101: What To Cook When You're Tota...       1   obliterated   \n",
       "354   :StarMade: :Stardate 3: :Planetary Annihilatio...       1  annihilation   \n",
       "3318  Got my first gamer troll I just demolished a k...       1    demolished   \n",
       "2307  Would a paramedic really do that? Leave someon...       1      collapse   \n",
       "\n",
       "      with_url  with_shorten_url  \\\n",
       "id                                 \n",
       "9445         1                 1   \n",
       "7415         1                 1   \n",
       "354          1                 1   \n",
       "3318         0                 0   \n",
       "2307         0                 0   \n",
       "\n",
       "                                                  token      prob  pred  \n",
       "id                                                                       \n",
       "9445  [truth, ..., #news, #bbc, #cnn, #islam, #truth...  0.996547     1  \n",
       "7415           [drunk, meal, 101, cook, total, obliter]  0.008249     0  \n",
       "354   [starmad, stardat, 3, :p, lanetari, annihil, :...  0.168973     0  \n",
       "3318  [got, first, gamer, troll, demolish, kid, phil...  0.027922     0  \n",
       "2307  [would, paramed, realli, leav, someon, insid, ...  0.112993     0  "
      ]
     },
     "execution_count": 76,
     "metadata": {},
     "output_type": "execute_result"
    }
   ],
   "source": [
    "# sample = data[(data['target'] == 0) &\\\n",
    "#               (data['pred'] == 1)].sample(1)\n",
    "sample = data[(data['target'] != data['pred'])].sample(5)\n",
    "sample"
   ]
  },
  {
   "cell_type": "code",
   "execution_count": 77,
   "metadata": {},
   "outputs": [
    {
     "data": {
      "text/plain": [
       "array(['Truth...\\r\\nhttps://t.co/h6amECX5K7\\r\\n#News\\r\\n#BBC\\r\\n#CNN\\r\\n#Islam\\r\\n#Truth\\r\\n#god\\r\\n#ISIS\\r\\n#terrorism\\r\\n#Quran\\r\\n#Lies http://t.co/B8iWRdxcm0',\n",
       "       \"Drunk Meals 101: What To Cook When You're Totally Obliterated http://t.co/m19iVWrdkk\",\n",
       "       ':StarMade: :Stardate 3: :Planetary Annihilation:: http://t.co/I2hHvIUmTm via @YouTube',\n",
       "       'Got my first gamer troll I just demolished a kid from Philly with Toronto on MLB and he was upset #BacktoBack #ChargedUp ??????',\n",
       "       \"Would a paramedic really do that? Leave someone inside a building that's about to collapse/blow up? @HalloIkBenWill\"],\n",
       "      dtype=object)"
      ]
     },
     "execution_count": 77,
     "metadata": {},
     "output_type": "execute_result"
    }
   ],
   "source": [
    "sample['text'].values"
   ]
  },
  {
   "cell_type": "code",
   "execution_count": 78,
   "metadata": {},
   "outputs": [
    {
     "data": {
      "text/plain": [
       "array([list(['truth', '...', '#news', '#bbc', '#cnn', '#islam', '#truth', '#god', '#isis', '#terrorism', '#quran', '#lies']),\n",
       "       list(['drunk', 'meal', '101', 'cook', 'total', 'obliter']),\n",
       "       list(['starmad', 'stardat', '3', ':p', 'lanetari', 'annihil', '::', 'via']),\n",
       "       list(['got', 'first', 'gamer', 'troll', 'demolish', 'kid', 'philli', 'toronto', 'mlb', 'upset', '#backtoback', '#chargedup']),\n",
       "       list(['would', 'paramed', 'realli', 'leav', 'someon', 'insid', 'build', \"that'\", 'collaps', 'blow'])],\n",
       "      dtype=object)"
      ]
     },
     "execution_count": 78,
     "metadata": {},
     "output_type": "execute_result"
    }
   ],
   "source": [
    "sample['token'].values"
   ]
  },
  {
   "cell_type": "markdown",
   "metadata": {},
   "source": [
    "# Prediction"
   ]
  },
  {
   "cell_type": "code",
   "execution_count": 79,
   "metadata": {},
   "outputs": [
    {
     "data": {
      "text/html": [
       "<div>\n",
       "<style scoped>\n",
       "    .dataframe tbody tr th:only-of-type {\n",
       "        vertical-align: middle;\n",
       "    }\n",
       "\n",
       "    .dataframe tbody tr th {\n",
       "        vertical-align: top;\n",
       "    }\n",
       "\n",
       "    .dataframe thead th {\n",
       "        text-align: right;\n",
       "    }\n",
       "</style>\n",
       "<table border=\"1\" class=\"dataframe\">\n",
       "  <thead>\n",
       "    <tr style=\"text-align: right;\">\n",
       "      <th></th>\n",
       "      <th>keyword</th>\n",
       "      <th>location</th>\n",
       "      <th>text</th>\n",
       "    </tr>\n",
       "    <tr>\n",
       "      <th>id</th>\n",
       "      <th></th>\n",
       "      <th></th>\n",
       "      <th></th>\n",
       "    </tr>\n",
       "  </thead>\n",
       "  <tbody>\n",
       "    <tr>\n",
       "      <th>0</th>\n",
       "      <td>NaN</td>\n",
       "      <td>NaN</td>\n",
       "      <td>Just happened a terrible car crash</td>\n",
       "    </tr>\n",
       "    <tr>\n",
       "      <th>2</th>\n",
       "      <td>NaN</td>\n",
       "      <td>NaN</td>\n",
       "      <td>Heard about #earthquake is different cities, s...</td>\n",
       "    </tr>\n",
       "    <tr>\n",
       "      <th>3</th>\n",
       "      <td>NaN</td>\n",
       "      <td>NaN</td>\n",
       "      <td>there is a forest fire at spot pond, geese are...</td>\n",
       "    </tr>\n",
       "    <tr>\n",
       "      <th>9</th>\n",
       "      <td>NaN</td>\n",
       "      <td>NaN</td>\n",
       "      <td>Apocalypse lighting. #Spokane #wildfires</td>\n",
       "    </tr>\n",
       "    <tr>\n",
       "      <th>11</th>\n",
       "      <td>NaN</td>\n",
       "      <td>NaN</td>\n",
       "      <td>Typhoon Soudelor kills 28 in China and Taiwan</td>\n",
       "    </tr>\n",
       "  </tbody>\n",
       "</table>\n",
       "</div>"
      ],
      "text/plain": [
       "   keyword location                                               text\n",
       "id                                                                    \n",
       "0      NaN      NaN                 Just happened a terrible car crash\n",
       "2      NaN      NaN  Heard about #earthquake is different cities, s...\n",
       "3      NaN      NaN  there is a forest fire at spot pond, geese are...\n",
       "9      NaN      NaN           Apocalypse lighting. #Spokane #wildfires\n",
       "11     NaN      NaN      Typhoon Soudelor kills 28 in China and Taiwan"
      ]
     },
     "execution_count": 79,
     "metadata": {},
     "output_type": "execute_result"
    }
   ],
   "source": [
    "predict = pd.read_csv('../../data/Disaster/test.csv', index_col = 0)\n",
    "predict.head()"
   ]
  },
  {
   "cell_type": "code",
   "execution_count": 80,
   "metadata": {},
   "outputs": [
    {
     "data": {
      "text/html": [
       "<div>\n",
       "<style scoped>\n",
       "    .dataframe tbody tr th:only-of-type {\n",
       "        vertical-align: middle;\n",
       "    }\n",
       "\n",
       "    .dataframe tbody tr th {\n",
       "        vertical-align: top;\n",
       "    }\n",
       "\n",
       "    .dataframe thead th {\n",
       "        text-align: right;\n",
       "    }\n",
       "</style>\n",
       "<table border=\"1\" class=\"dataframe\">\n",
       "  <thead>\n",
       "    <tr style=\"text-align: right;\">\n",
       "      <th></th>\n",
       "      <th>target</th>\n",
       "    </tr>\n",
       "    <tr>\n",
       "      <th>id</th>\n",
       "      <th></th>\n",
       "    </tr>\n",
       "  </thead>\n",
       "  <tbody>\n",
       "    <tr>\n",
       "      <th>0</th>\n",
       "      <td>1</td>\n",
       "    </tr>\n",
       "    <tr>\n",
       "      <th>2</th>\n",
       "      <td>0</td>\n",
       "    </tr>\n",
       "    <tr>\n",
       "      <th>3</th>\n",
       "      <td>1</td>\n",
       "    </tr>\n",
       "    <tr>\n",
       "      <th>9</th>\n",
       "      <td>0</td>\n",
       "    </tr>\n",
       "    <tr>\n",
       "      <th>11</th>\n",
       "      <td>1</td>\n",
       "    </tr>\n",
       "  </tbody>\n",
       "</table>\n",
       "</div>"
      ],
      "text/plain": [
       "    target\n",
       "id        \n",
       "0        1\n",
       "2        0\n",
       "3        1\n",
       "9        0\n",
       "11       1"
      ]
     },
     "execution_count": 80,
     "metadata": {},
     "output_type": "execute_result"
    }
   ],
   "source": [
    "sample = pd.DataFrame(index = predict.index)\n",
    "sample['target'] = [1 if p >= threshold else 0 for p in model.predict_proba(predict)[:, 1]]\n",
    "sample.head()"
   ]
  },
  {
   "cell_type": "code",
   "execution_count": 81,
   "metadata": {},
   "outputs": [],
   "source": [
    "sample.to_csv('../../data/Disaster/submission.csv')"
   ]
  },
  {
   "cell_type": "markdown",
   "metadata": {},
   "source": [
    "# Score in Kaggle"
   ]
  },
  {
   "cell_type": "markdown",
   "metadata": {},
   "source": [
    "https://www.kaggle.com/competitions/nlp-getting-started/overview  \n",
    "0.79129"
   ]
  },
  {
   "cell_type": "markdown",
   "metadata": {},
   "source": [
    "# Further Work"
   ]
  },
  {
   "cell_type": "markdown",
   "metadata": {},
   "source": [
    "- We excluded the keyword from modelling as its logic of extraction is unknown and there is no longer keyword tagged with a tweet while the model is applied outside the dataset. However, most of the keywords make sense and can be utilized in modellng. In the future, we can group it into more general classes and treat it as a latent variable. It can improve the preformance.\n",
    "- Although Naive Bayes is simple and easy to understand, it ignores much information like the sequence of the tokens. In the future, we can try using recurrent neural network (RNN) which the previous token can make an effect on the prediction by the current token.\n",
    "- Moreover, Bag of Word is an easy tokenization algorithm. It has many drawbacks like not penalizing some frequent tokens but with less information, like a, an, the, and it awards the tokens with high term frequencies. Also, n-gram groups every neigbour tokens together but most of them are not the phasal word. We can use some pretrained tokenizer like BERT for a better tokenization and vectorization."
   ]
  },
  {
   "cell_type": "code",
   "execution_count": null,
   "metadata": {},
   "outputs": [],
   "source": []
  }
 ],
 "metadata": {
  "kernelspec": {
   "display_name": "Python 3",
   "language": "python",
   "name": "python3"
  },
  "language_info": {
   "codemirror_mode": {
    "name": "ipython",
    "version": 3
   },
   "file_extension": ".py",
   "mimetype": "text/x-python",
   "name": "python",
   "nbconvert_exporter": "python",
   "pygments_lexer": "ipython3",
   "version": "3.8.8"
  }
 },
 "nbformat": 4,
 "nbformat_minor": 2
}
